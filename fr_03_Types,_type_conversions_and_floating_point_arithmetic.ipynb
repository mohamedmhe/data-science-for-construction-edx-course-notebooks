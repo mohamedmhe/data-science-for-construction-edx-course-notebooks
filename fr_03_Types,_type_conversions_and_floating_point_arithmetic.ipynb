{
  "nbformat": 4,
  "nbformat_minor": 0,
  "metadata": {
    "kernelspec": {
      "display_name": "Python 3",
      "language": "python",
      "name": "python3"
    },
    "language_info": {
      "codemirror_mode": {
        "name": "ipython",
        "version": 3
      },
      "file_extension": ".py",
      "mimetype": "text/x-python",
      "name": "python",
      "nbconvert_exporter": "python",
      "pygments_lexer": "ipython3",
      "version": "3.6.6"
    },
    "colab": {
      "name": "fr 03 Types, type conversions and floating point arithmetic.ipynb",
      "provenance": [],
      "include_colab_link": true
    }
  },
  "cells": [
    {
      "cell_type": "markdown",
      "metadata": {
        "id": "view-in-github",
        "colab_type": "text"
      },
      "source": [
        "<a href=\"https://colab.research.google.com/github/mohamedmhe/data-science-for-construction-edx-course-notebooks/blob/fr/fr_03_Types%2C_type_conversions_and_floating_point_arithmetic.ipynb\" target=\"_parent\"><img src=\"https://colab.research.google.com/assets/colab-badge.svg\" alt=\"Open In Colab\"/></a>"
      ]
    },
    {
      "cell_type": "markdown",
      "metadata": {
        "id": "Z0Bpmf1J-AYU",
        "colab_type": "text"
      },
      "source": [
        "# Introduction\n",
        "\n",
        "Nous avons jusqu'à présent évité de discuter directement des *types*. Le \"*type*\" est le type d'objet auquel une variable est associée. Cela affecte la façon dont un ordinateur stocke l'objet en mémoire et la façon dont les opérations, telles que la multiplication et la division, sont effectuées.\n",
        "\n",
        "Dans les langages *statiquement typés*, comme le C et le C++, les types apparaissent dès le début parce que \n",
        "vous devez généralement spécifier les types explicitement dans vos programmes. Python est un langage *dynamiquement typé*, ce qui signifie que les types sont déduits lorsqu'un programme est exécuté. C'est pourquoi nous avons pu reporter la discussion jusqu'à présent.\n",
        "Il est important d'avoir une compréhension de base des types, et de la façon dont les types peuvent affecter le comportement de vos programmes. On peut aller très loin dans ce sujet, surtout pour les calculs numériques, mais nous allons couvrir le concept général à un niveau élevé, \n",
        "montrer quelques exemples et mettre en évidence certains pièges potentiels pour les calculs d'ingénierie. \n",
        "\n",
        "C'est un sujet aride - il contient des informations de fond importantes que vous devez connaître pour plus tard, alors tenez bon. Le compte-rendu ci-dessous met en évidence ce qui peut mal tourner sans une connaissance des types et de la façon dont les ordinateurs traitent les nombres."
      ]
    },
    {
      "cell_type": "markdown",
      "metadata": {
        "id": "mLI6Ctma-AYW",
        "colab_type": "text"
      },
      "source": [
        "## Défaillance du missile Patriot et explosion d'Ariane 5\n",
        "\n",
        "De nombreux accidents sont dus à des programmes ne gérant pas correctement les types, les conversions de types et l'arithmétique en virgule flottante. En voici deux exemples : \n",
        "\n",
        "1. En 1991, un missile Patriot américain n'a pas réussi à intercepter un missile Scud irakien à Dhahran en Arabie Saoudite, ce qui a entraîné \n",
        "   une perte de vie. L'enquête qui a suivi a révélé que le missile Patriot n'avait pas réussi à intercepter le Scud   \n",
        "   missile en raison d'une faille dans le logiciel. Les développeurs de logiciels n'ont pas tenu compte des effets de la \"virgule flottante \n",
        "   arithmétique\". \n",
        "   Cela a entraîné une petite erreur dans le calcul du temps, qui a fait que le Patriot a manqué le Scud \n",
        "   missile. \n",
        "\n",
        "   <img src=\"https://upload.wikimedia.org/wikipedia/commons/e/eb/Patriot_System_2.jpg\" width=\"300\" />\n",
        "\n",
        "   Nous allons reproduire l'erreur précise que les développeurs du logiciel du missile Patriot ont commise. Voir\n",
        "   https://en.wikipedia.org/wiki/MIM-104_Patriot#Failure_at_Dhahran pour plus d'informations sur l'interception \n",
        "   l'échec.\n",
        "   \n",
        "\n",
        "2. Une mauvaise programmation liée à la façon dont les ordinateurs stockent les chiffres a conduit en 1996 à une expolosion de peu après le décollage de la fusée *Ariane 5* de l'Agence spatiale européenne. La charge utile de la fusée, d'une valeur de 500 millions de dollars US, \n",
        "   a été détruite. Vous trouverez des informations générales à l'adresse https://en.wikipedia.org/wiki/Cluster_(spacecraft)#Launch_failure. \n",
        "   Nous allons reproduire leur erreur, et montrer comment quelques lignes de code auraient permis d'économiser plus de 500 millions de dollars US. \n",
        "   \n",
        "   <img src=\"https://upload.wikimedia.org/wikipedia/commons/thumb/3/3c/Ariane_5ES_with_ATV_4_on_its_way_to_ELA-3.jpg/320px-Ariane_5ES_with_ATV_4_on_its_way_to_ELA-3.jpg\" width=\"200\" />"
      ]
    },
    {
      "cell_type": "markdown",
      "metadata": {
        "id": "FdavSK46-AYX",
        "colab_type": "text"
      },
      "source": [
        "## Contexte : bits et octets\n",
        "\n",
        "Une partie importante de la compréhension des types est d'apprécier le fonctionnement du stockage informatique. La mémoire d'un ordinateur est composée de *bits*, et chaque bit peut prendre l'une des deux \n",
        "valeurs - 0 ou 1. Un bit est le plus petit élément de la mémoire.\n",
        "Les bits sont à grain très fin, de sorte que pour de nombreuses architectures informatiques, le plus petit \"bloc\" avec lequel nous pouvons normalement travailler est un *octet*. Un octet est constitué de 8 bits. C'est pourquoi lorsque nous parlons de bits, par exemple d'un système d'exploitation 64 bits, le nombre de bits sera presque toujours un multiple de 8 (un octet).\n",
        "\n",
        "Plus une chose est \"grosse\", plus il nous faut d'octets. C'est important pour les calculs techniques, car le nombre d'octets utilisés pour stocker un nombre détermine la précision avec laquelle le nombre peut être stocké,\n",
        "et la taille du nombre. Plus il y a d'octets, plus la précision est grande, mais le prix à payer est une plus grande utilisation de la mémoire. En outre, il peut être plus coûteux d'effectuer des opérations comme la multiplication et la division lorsque l'on utilise plus d'octets."
      ]
    },
    {
      "cell_type": "markdown",
      "metadata": {
        "id": "iOE4lUPS-AYX",
        "colab_type": "text"
      },
      "source": [
        "## Objectifs\n",
        "\n",
        "- Introduire des types de données primitives (booléens, chaînes de caractères et types numériques)\n",
        "- Inspection de type\n",
        "- Conversion des types de base\n",
        "- Introduction aux pièges de l'arithmétique en virgule flottante "
      ]
    },
    {
      "cell_type": "markdown",
      "metadata": {
        "id": "kk-fFaOj-AYY",
        "colab_type": "text"
      },
      "source": [
        "# Qu'est-ce que le type ?\n",
        "\n",
        "Toutes les variables ont un \"type\", qui indique ce qu'est la variable, par exemple un nombre, une chaîne de caractères (*string*), etc. Dans les langues \"statiquement typées\", nous devons généralement être explicites dans la déclaration du type d'une variable dans un programme. Dans un langage à typage dynamique, tel que Python, les variables ont toujours des types, mais l'interpréteur peut les déterminer de manière dynamique.\n",
        "\n",
        "Le type est important car il détermine comment une variable est stockée, comment elle se comporte lorsque nous effectuons des opérations sur elle, et comment elle interagit avec d'autres variables. Par exemple, la multiplication de deux nombres réels est différente de la multiplication de deux nombres complexes."
      ]
    },
    {
      "cell_type": "markdown",
      "metadata": {
        "id": "GCBZPh-H-AYZ",
        "colab_type": "text"
      },
      "source": [
        "# Introspection \n",
        "\n",
        "Avant d'entrer dans les types, nous examinons comment nous pouvons vérifier le type en Python. Une fonction puissante de Python est l' *introspection*. Cela signifie que nous pouvons sonder un programme pour lui demander le type d'une variable. Pour vérifier \n",
        "le type d'une variable que nous utilisons la fonction `type` :"
      ]
    },
    {
      "cell_type": "code",
      "metadata": {
        "id": "o9yBATAZ-AYa",
        "colab_type": "code",
        "colab": {
          "base_uri": "https://localhost:8080/",
          "height": 84
        },
        "outputId": "8c9722c8-10cc-47cf-c0f2-e478df7fcc7d"
      },
      "source": [
        "x = True\n",
        "print(type(x))\n",
        "\n",
        "a = 1\n",
        "print(type(a))\n",
        "\n",
        "a = 1.0\n",
        "print(type(a))\n",
        "\n",
        "z = 2+3j\n",
        "print(type(z))"
      ],
      "execution_count": 2,
      "outputs": [
        {
          "output_type": "stream",
          "text": [
            "<class 'bool'>\n",
            "<class 'int'>\n",
            "<class 'float'>\n",
            "<class 'complex'>\n"
          ],
          "name": "stdout"
        }
      ]
    },
    {
      "cell_type": "markdown",
      "metadata": {
        "id": "eifMy_TR-AYg",
        "colab_type": "text"
      },
      "source": [
        "Notez que `a = 1` et `a = 1.0` sont des types différents ! Cette distinction est très importante pour les calculs numériques.\n",
        "Plus d'informations à ce sujet plus bas.\n",
        "\n",
        "Utilisez `type` librement lors de l'exploration et des tests, afin de comprendre ce que fait votre programme."
      ]
    },
    {
      "cell_type": "markdown",
      "metadata": {
        "id": "5s7RDptE-AYh",
        "colab_type": "text"
      },
      "source": [
        "# Booleans\n",
        "\n",
        "Vous avez déjà vu le type `booléen` qui peut prendre l'une des deux valeurs suivantes : vrai ou faux. C'est le type le plus simple."
      ]
    },
    {
      "cell_type": "code",
      "metadata": {
        "id": "bGnvpdxB-AYh",
        "colab_type": "code",
        "colab": {},
        "outputId": "73de09c7-5107-493a-a3d0-4618dab234d1"
      },
      "source": [
        "a = True\n",
        "b = False\n",
        "test = a or b  # test will be True if a or b are True\n",
        "print(test, type(test))"
      ],
      "execution_count": null,
      "outputs": [
        {
          "output_type": "stream",
          "text": [
            "True <class 'bool'>\n"
          ],
          "name": "stdout"
        }
      ]
    },
    {
      "cell_type": "markdown",
      "metadata": {
        "id": "5DJKdg5a-AYl",
        "colab_type": "text"
      },
      "source": [
        "En principe, nous pourrions représenter un booléen avec un seul bit (commutateur 0 ou 1)."
      ]
    },
    {
      "cell_type": "markdown",
      "metadata": {
        "id": "R6x9ECMf-AYm",
        "colab_type": "text"
      },
      "source": [
        "# Strings (Chaîne de caractères)\n",
        "\n",
        "String  est un ensemble de caractères. Nous avons utilisé des chaînes de caractères dans des activités précédentes pour l'impression de messages informatifs. En Python, nous créons une chaîne en utilisant des guillemets simples ou doubles (le choix est une préférence personnelle), par exemple\n",
        "\n",
        "    my_string = 'Ceci est une chaîne de caractères'.\n",
        "    \n",
        "ou\n",
        "\n",
        "    my_string = \"Ceci est une chaîne de caractères.\"\n",
        "    \n",
        "Ci-dessous, nous attribuons une chaîne à une variable, nous affichons la chaîne, puis nous vérifions son type :\n",
        "\n",
        "Traduit avec www.DeepL.com/Translator (version gratuite)"
      ]
    },
    {
      "cell_type": "code",
      "metadata": {
        "id": "Ef9pxY5I-AYm",
        "colab_type": "code",
        "colab": {
          "base_uri": "https://localhost:8080/",
          "height": 50
        },
        "outputId": "2b0ebfde-0cf1-4ba4-f17f-c5e5f767fa5c"
      },
      "source": [
        "my_string = \"Ceci est une chaîne de caractères.\"\n",
        "print(my_string)\n",
        "print(type(my_string))"
      ],
      "execution_count": 6,
      "outputs": [
        {
          "output_type": "stream",
          "text": [
            "Ceci est une chaîne de caractères.\n",
            "<class 'str'>\n"
          ],
          "name": "stdout"
        }
      ]
    },
    {
      "cell_type": "markdown",
      "metadata": {
        "id": "NSEye7uq-AYq",
        "colab_type": "text"
      },
      "source": [
        "Nous pouvons effectuer de nombreuses opérations différentes sur les chaînes de caractères. Nous pouvons extraire un caractère particulier sous forme de nouvelle chaîne :"
      ]
    },
    {
      "cell_type": "code",
      "metadata": {
        "id": "6Kv0vIVI-AYr",
        "colab_type": "code",
        "colab": {
          "base_uri": "https://localhost:8080/",
          "height": 50
        },
        "outputId": "b2d6f653-0924-4e66-aad4-4c8ac6398029"
      },
      "source": [
        "# Obtenir le 3ème caractère (Python compte à partir de zéro)\n",
        "s2 = my_string[2]\n",
        "print(s2)\n",
        "print(type(s2))"
      ],
      "execution_count": 7,
      "outputs": [
        {
          "output_type": "stream",
          "text": [
            "c\n",
            "<class 'str'>\n"
          ],
          "name": "stdout"
        }
      ]
    },
    {
      "cell_type": "markdown",
      "metadata": {
        "id": "SaW-kjB6-AYv",
        "colab_type": "text"
      },
      "source": [
        "ou extraire une série de caractères :"
      ]
    },
    {
      "cell_type": "code",
      "metadata": {
        "id": "qYKyU4OY-AYv",
        "colab_type": "code",
        "colab": {
          "base_uri": "https://localhost:8080/",
          "height": 67
        },
        "outputId": "3a6296ff-6903-4227-f5f5-900ede731a3f"
      },
      "source": [
        "# Obtenez les six premiers caractères, imprimez et vérifiez le type\n",
        "s3 = my_string[0:6]\n",
        "print(s3)\n",
        "print(type(s3))\n",
        "\n",
        "# Obtenez les quatre derniers caractères et imprimez\n",
        "s4 = my_string[-4:]\n",
        "print(s4)"
      ],
      "execution_count": 8,
      "outputs": [
        {
          "output_type": "stream",
          "text": [
            "Ceci e\n",
            "<class 'str'>\n",
            "res.\n"
          ],
          "name": "stdout"
        }
      ]
    },
    {
      "cell_type": "markdown",
      "metadata": {
        "id": "lMmBH7eN-AYz",
        "colab_type": "text"
      },
      "source": [
        "We can add strings together:"
      ]
    },
    {
      "cell_type": "code",
      "metadata": {
        "id": "O7dzdGbS-AY0",
        "colab_type": "code",
        "colab": {
          "base_uri": "https://localhost:8080/",
          "height": 34
        },
        "outputId": "db844815-a6ff-4bd8-b36b-4c281a50a9aa"
      },
      "source": [
        "introduction = \"Je m'appelle :\"\n",
        "name = \"Mohamed\"\n",
        "\n",
        "personal_introduction = introduction + \" \" + name\n",
        "print(personal_introduction)"
      ],
      "execution_count": 9,
      "outputs": [
        {
          "output_type": "stream",
          "text": [
            "Je m'appelle : Mohamed\n"
          ],
          "name": "stdout"
        }
      ]
    },
    {
      "cell_type": "markdown",
      "metadata": {
        "id": "ggMK_pwp-AY4",
        "colab_type": "text"
      },
      "source": [
        "Nous pouvons également vérifier la longueur (nombre de caractères) d'une chaîne en utilisant `len` :"
      ]
    },
    {
      "cell_type": "code",
      "metadata": {
        "id": "KvM2oucn-AY4",
        "colab_type": "code",
        "colab": {
          "base_uri": "https://localhost:8080/",
          "height": 34
        },
        "outputId": "85ef4b5e-3381-4e67-e52c-a4e754c5a3f0"
      },
      "source": [
        "print(len(personal_introduction))"
      ],
      "execution_count": 10,
      "outputs": [
        {
          "output_type": "stream",
          "text": [
            "22\n"
          ],
          "name": "stdout"
        }
      ]
    },
    {
      "cell_type": "markdown",
      "metadata": {
        "id": "4ZI2vuIb-AY8",
        "colab_type": "text"
      },
      "source": [
        "Il y a *beaucoup* d'autres opérations qui peuvent être effectuées sur des strings. Nous en verrons d'autres dans des activités."
      ]
    },
    {
      "cell_type": "markdown",
      "metadata": {
        "collapsed": true,
        "id": "0kDhcQdE-AY8",
        "colab_type": "text"
      },
      "source": [
        "# Types numériques\n",
        "\n",
        "Les types numériques sont importants dans de nombreuses applications informatiques, et en particulier dans les programmes scientifiques et d'ingénierie. Python 3 possède trois types numériques natifs :\n",
        "\n",
        "- les entiers (`int`)\n",
        "- les nombres à virgule flottante (`float`)\n",
        "- les nombres complexes (`complex`)\n",
        "\n",
        "C'est typique de la plupart des langages de programmation, bien qu'il puisse y avoir quelques différences subtiles."
      ]
    },
    {
      "cell_type": "markdown",
      "metadata": {
        "id": "bfot9QcR-AY9",
        "colab_type": "text"
      },
      "source": [
        "## Les entiers (Integers)\n",
        "\n",
        "Les nombres entiers (`int`) sont des nombres entiers, et peuvent être positifs ou négatifs. Les nombres entiers doivent être utilisés lorsqu'une valeur ne peut porter que sur un nombre entier, par exemple l'année, ou le nombre d'étudiants suivant ce cours. Python déduit le type d'un nombre à partir de la façon dont nous le saisissons. Il déduira un `int` si nous attribuons un nombre sans décimale :"
      ]
    },
    {
      "cell_type": "code",
      "metadata": {
        "id": "g9rA08yf-AY-",
        "colab_type": "code",
        "colab": {
          "base_uri": "https://localhost:8080/",
          "height": 34
        },
        "outputId": "32d508d2-0a2f-4ecf-b643-89621824ffd0"
      },
      "source": [
        "a = 2\n",
        "print(type(a))"
      ],
      "execution_count": 11,
      "outputs": [
        {
          "output_type": "stream",
          "text": [
            "<class 'int'>\n"
          ],
          "name": "stdout"
        }
      ]
    },
    {
      "cell_type": "markdown",
      "metadata": {
        "id": "YYXKJi5L-AZC",
        "colab_type": "text"
      },
      "source": [
        "Si nous ajoutons un point décimal, le type de variable devient un `float` (nous y reviendrons plus tard)"
      ]
    },
    {
      "cell_type": "code",
      "metadata": {
        "id": "JjvGffK--AZC",
        "colab_type": "code",
        "colab": {
          "base_uri": "https://localhost:8080/",
          "height": 34
        },
        "outputId": "d633abab-0b52-418d-81c7-ab3ea876c5b7"
      },
      "source": [
        "a = 2.0\n",
        "print(type(a))"
      ],
      "execution_count": 12,
      "outputs": [
        {
          "output_type": "stream",
          "text": [
            "<class 'float'>\n"
          ],
          "name": "stdout"
        }
      ]
    },
    {
      "cell_type": "markdown",
      "metadata": {
        "id": "nwRzsbBt-AZG",
        "colab_type": "text"
      },
      "source": [
        "Les opérations sur les nombres entiers qui aboutissent à un nombre entier, telles que la multiplication ou l'addition de deux nombres entiers, sont effectuées exactement (il n'y a pas d'erreur). Cela dépend toutefois de la présence d'une variable ayant suffisamment de mémoire (suffisamment d'octets) pour représenter le résultat."
      ]
    },
    {
      "cell_type": "markdown",
      "metadata": {
        "id": "JJW9h_3J-AZG",
        "colab_type": "text"
      },
      "source": [
        "### Stockage d'entiers et débordement\n",
        "\n",
        "Dans la plupart des langues, un nombre fixe de bits est utilisé pour stocker un type d'entier donné. En C et C++, un entier standard (`int`) est généralement stocké sur 32 bits (il est possible de déclarer des types d'entiers plus courts et plus longs). \n",
        "Le plus grand entier qui peut être stocké en utilisant 32 bits est $2^{31} - 1 = 2,147,483,647$.\n",
        "Nous expliquons plus loin d'où cela vient. Le message pour l'instant est que pour un nombre fixe de bits, il y a une limite sur le plus grand nombre qui peut être représenté/stocké.\n",
        "\n",
        "#### Débordement d'entier\n",
        "\n",
        "Le débordement d'entier est lorsqu'une opération crée un entier trop grand pour être représenté par le type d'entier donné. Par exemple, si l'on tente d'attribuer à $2^{31} + 1$ à un entier de 32 bits provoquera un débordement et une réponse potentiellement imprévisible du programme. Il s'agit généralement d'un *bug*.\n",
        "\n",
        "L'explosion de la fusée Ariane 5 en 1996 a été causée par un débordement d'entier. Le logiciel de navigation de la fusée a été repris de la fusée Ariane 4, plus ancienne et plus lente. Le programme a attribué la vitesse de la fusée à un entier de 16 bits (le plus grand nombre qu'un entier de 16 bits peut stocker est $2^{15} - 1 = 32767$), mais la fusée Ariane 5 pouvait voyager plus vite que l'ancienne génération de fusée et la valeur de la vitesse dépassait les $32767$. Le débordement d'entier résultant a conduit à \n",
        "la défaillance du système de navigation de la fusée et\n",
        "explosion de la fusée ; une fusée très coûteuse et une charge utile très coûteuse ont été détruites.\n",
        "Nous reproduirons l'erreur qui a causé cette défaillance lorsque nous examinerons les *conversions de type*.\n",
        "\n",
        "Python évite les débordements d'entiers en changeant dynamiquement le nombre de bits utilisés pour représenter un entier. Vous pouvez vérifier le nombre de bits requis pour stocker un entier en binaire (sans inclure le bit pour le signe) en utilisant la fonction [bit_length](https://docs.python.org/3/library/stdtypes.html#int.bit_length) :\n"
      ]
    },
    {
      "cell_type": "code",
      "metadata": {
        "id": "Gp4VqPMQ-AZH",
        "colab_type": "code",
        "colab": {},
        "outputId": "2e5495ce-fd1a-4037-b59b-9b1f0e6f72ec"
      },
      "source": [
        "a = 8\n",
        "print(type(a))\n",
        "print(a.bit_length())"
      ],
      "execution_count": null,
      "outputs": [
        {
          "output_type": "stream",
          "text": [
            "<class 'int'>\n",
            "4\n"
          ],
          "name": "stdout"
        }
      ]
    },
    {
      "cell_type": "markdown",
      "metadata": {
        "id": "7fzrVL7q-AZK",
        "colab_type": "text"
      },
      "source": [
        "Nous voyons que 4 bits sont nécessaires pour représenter le nombre 8. Si nous augmentons considérablement la taille du nombre en l'élevant à la puissance 12 :"
      ]
    },
    {
      "cell_type": "code",
      "metadata": {
        "id": "DhK5ojNu-AZL",
        "colab_type": "code",
        "colab": {},
        "outputId": "90272280-fd46-4425-91ee-fcc24837e23b"
      },
      "source": [
        "b = a**12\n",
        "print(b)\n",
        "type(b)\n",
        "print(b.bit_length())"
      ],
      "execution_count": null,
      "outputs": [
        {
          "output_type": "stream",
          "text": [
            "68719476736\n",
            "37\n"
          ],
          "name": "stdout"
        }
      ]
    },
    {
      "cell_type": "markdown",
      "metadata": {
        "id": "-p7IGWGb-AZO",
        "colab_type": "text"
      },
      "source": [
        "Nous voyons que 37 bits sont nécessaires pour représenter le nombre. Si le type `int` était limité à 32 bits pour le stockage de la valeur, cette opération aurait provoqué un débordement."
      ]
    },
    {
      "cell_type": "markdown",
      "metadata": {
        "id": "xBs5bPzB-AZP",
        "colab_type": "text"
      },
      "source": [
        "#### Gangnam Style\n",
        "\n",
        "En 2014, Google est passé des entiers 32 bits aux entiers 64 bits pour compter les vues lorsque la vidéo \"Gangnam Style\" a été visionnée plus de 2 147 483 647 fois, ce qui est la limite des entiers 32 bits (voir https://www.bbc.com/news/world-asia-30288542)."
      ]
    },
    {
      "cell_type": "markdown",
      "metadata": {
        "id": "ZVeL6kJI-AZQ",
        "colab_type": "text"
      },
      "source": [
        "#### Bug du Boeing 787 Dreamliner\n",
        "\n",
        "En raison d'un bug de débordement d'entier, les générateurs d'électricité d'un Boeing 787 s'arrêtent si l'avion est\n",
        "alimenté en continu pendant 248 jours, en raison d'un débordement. La \"solution rapide\" consistait à s'assurer que \n",
        "les unités de commande des générateurs ne fonctionnent pas pendant plus de 248 jours.\n",
        "Voir \n",
        "https://www.theguardian.com/business/2015/may/01/us-aviation-authority-boeing-787-dreamliner-bug-could-cause-loss-of-control et \n",
        "https://s3.amazonaws.com/public-inspection.federalregister.gov/2015-10066.pdf pour le contexte."
      ]
    },
    {
      "cell_type": "markdown",
      "metadata": {
        "id": "nJNaMc5t-AZQ",
        "colab_type": "text"
      },
      "source": [
        "## Stockage en virgule flottante\n",
        "\n",
        "La plupart des calculs d'ingénierie impliquent des nombres qui ne peuvent pas être représentés comme des entiers. Les nombres qui ont un \n",
        "Les points décimaux sont stockés en utilisant le type \"float\". Les ordinateurs stockent les nombres à virgule flottante en mémorisant le signe, le significand (aussi appelé mantisse) et l'exposant, par exemple : pour 10,45\n",
        "\n",
        "$$\n",
        "10h45 = \\underbrace{+}_{\\text{sign}} \\underbrace{1045}_{\\text{signifiant}} \\times \\underbrace{10^{-2}}_{\\text{exponent} = -2}\n",
        "$$\n",
        "\n",
        "Python utilise 64 bits pour stocker un `float` (en C et C++, on appelle cela un `double`). Le signe nécessite un bit, et il existe des normes qui spécifient combien de bits doivent être utilisés pour le significand et combien pour l'exposant.\n",
        "\n",
        "Comme un nombre fini de bits est utilisé pour stocker un nombre, la précision avec laquelle les nombres peuvent être représentés est limitée. À titre indicatif, en utilisant 64 bits, un nombre à virgule flottante est précis pour 15 à 17 chiffres significatifs.\n",
        "Plus d'informations à ce sujet, et sur les raisons de l'échec du missile Patriot, plus loin."
      ]
    },
    {
      "cell_type": "markdown",
      "metadata": {
        "id": "q0S_zw23-AZR",
        "colab_type": "text"
      },
      "source": [
        "### Floats\n",
        "\n",
        "We can declare a float by adding a decimal point:"
      ]
    },
    {
      "cell_type": "code",
      "metadata": {
        "id": "8zdDWYmp-AZR",
        "colab_type": "code",
        "colab": {},
        "outputId": "90132df6-47ec-4596-a645-19367ce8c96f"
      },
      "source": [
        "a = 2.0\n",
        "print(a)\n",
        "print(type(a))\n",
        "\n",
        "b = 3.\n",
        "print(b)\n",
        "print(type(b))"
      ],
      "execution_count": null,
      "outputs": [
        {
          "output_type": "stream",
          "text": [
            "2.0\n",
            "<class 'float'>\n",
            "3.0\n",
            "<class 'float'>\n"
          ],
          "name": "stdout"
        }
      ]
    },
    {
      "cell_type": "markdown",
      "metadata": {
        "id": "xg1Vy8k_-AZa",
        "colab_type": "text"
      },
      "source": [
        "or by using `e` or `E` (the choice between `e` and `E` is just a matter of taste):"
      ]
    },
    {
      "cell_type": "code",
      "metadata": {
        "id": "RPW5EUl8-AZa",
        "colab_type": "code",
        "colab": {},
        "outputId": "f50bc8a5-cd60-4d9e-e701-1d812ccb8717"
      },
      "source": [
        "a = 2e0\n",
        "print(a, type(a))\n",
        "\n",
        "b = 2e3\n",
        "print(b, type(b))\n",
        "\n",
        "c = 2.1E3\n",
        "print(c, type(c))"
      ],
      "execution_count": null,
      "outputs": [
        {
          "output_type": "stream",
          "text": [
            "2.0 <class 'float'>\n",
            "2000.0 <class 'float'>\n",
            "2100.0 <class 'float'>\n"
          ],
          "name": "stdout"
        }
      ]
    },
    {
      "cell_type": "markdown",
      "metadata": {
        "id": "5Eqw5oua-AZe",
        "colab_type": "text"
      },
      "source": [
        "### Complex numbers\n",
        "\n",
        "A complex number is a more elaborate float with two parts - the real and imaginary components. We can declare a complex number in Python by adding `j` or `J` after the complex part of the number:"
      ]
    },
    {
      "cell_type": "code",
      "metadata": {
        "id": "8qlzueWS-AZf",
        "colab_type": "code",
        "colab": {},
        "outputId": "17931e2a-5f08-4c14-ee7b-98536d10ccc1"
      },
      "source": [
        "a = 2j\n",
        "print(a, type(a))\n",
        "\n",
        "b = 4 - 3j\n",
        "print(b, type(b))"
      ],
      "execution_count": null,
      "outputs": [
        {
          "output_type": "stream",
          "text": [
            "2j <class 'complex'>\n",
            "(4-3j) <class 'complex'>\n"
          ],
          "name": "stdout"
        }
      ]
    },
    {
      "cell_type": "markdown",
      "metadata": {
        "id": "lmoHMY7U-AZi",
        "colab_type": "text"
      },
      "source": [
        "The usual addition, subtraction, multiplication and division operations can all be performed on complex numbers. The real and imaginary parts can be extracted:"
      ]
    },
    {
      "cell_type": "code",
      "metadata": {
        "id": "wzi5HMzD-AZi",
        "colab_type": "code",
        "colab": {},
        "outputId": "55824a02-4164-41da-afb0-247eb82f9dd9"
      },
      "source": [
        "print(b.imag)\n",
        "print(b.real)"
      ],
      "execution_count": null,
      "outputs": [
        {
          "output_type": "stream",
          "text": [
            "-3.0\n",
            "4.0\n"
          ],
          "name": "stdout"
        }
      ]
    },
    {
      "cell_type": "markdown",
      "metadata": {
        "id": "HDobDj0u-AZl",
        "colab_type": "text"
      },
      "source": [
        "and the complex conjugate can be taken:"
      ]
    },
    {
      "cell_type": "code",
      "metadata": {
        "id": "fkRzDoed-AZl",
        "colab_type": "code",
        "colab": {},
        "outputId": "cd029b07-ee21-4e97-ff5c-8ffad32d4ccc"
      },
      "source": [
        "print(b.conjugate())"
      ],
      "execution_count": null,
      "outputs": [
        {
          "output_type": "stream",
          "text": [
            "(4+3j)\n"
          ],
          "name": "stdout"
        }
      ]
    },
    {
      "cell_type": "markdown",
      "metadata": {
        "id": "UU0WNCe0-AZo",
        "colab_type": "text"
      },
      "source": [
        "We can compute the modulus of a complex number using `abs`:"
      ]
    },
    {
      "cell_type": "code",
      "metadata": {
        "id": "_FyiLflK-AZp",
        "colab_type": "code",
        "colab": {},
        "outputId": "9ab2f7e2-7b11-4efd-89bf-29b57b0bb127"
      },
      "source": [
        "print(abs(b))"
      ],
      "execution_count": null,
      "outputs": [
        {
          "output_type": "stream",
          "text": [
            "5.0\n"
          ],
          "name": "stdout"
        }
      ]
    },
    {
      "cell_type": "markdown",
      "metadata": {
        "id": "dd0Ap3yd-AZs",
        "colab_type": "text"
      },
      "source": [
        "More generally, `abs` returns the absolute value, e.g.:"
      ]
    },
    {
      "cell_type": "code",
      "metadata": {
        "id": "fjhUyWsO-AZt",
        "colab_type": "code",
        "colab": {},
        "outputId": "9934189c-f3ee-47cf-f937-287945cf424b"
      },
      "source": [
        "a = -21.6\n",
        "a = abs(a)\n",
        "print(a)"
      ],
      "execution_count": null,
      "outputs": [
        {
          "output_type": "stream",
          "text": [
            "21.6\n"
          ],
          "name": "stdout"
        }
      ]
    },
    {
      "cell_type": "markdown",
      "metadata": {
        "id": "1RiWKo5b-AZv",
        "colab_type": "text"
      },
      "source": [
        "# Type conversions (casting)\n",
        "\n",
        "We can often change between types. This is called *type conversion* or *type casting*. In some cases it happens implicitly, and in other cases we can instruct our program to change the type.\n",
        "\n",
        "If we add two integers, the results will be an integer:"
      ]
    },
    {
      "cell_type": "code",
      "metadata": {
        "id": "T_I134AW-AZw",
        "colab_type": "code",
        "colab": {},
        "outputId": "4f7d2296-7011-407e-d089-bd0ebd69d167"
      },
      "source": [
        "a = 4\n",
        "b = 15\n",
        "c = a + b\n",
        "print(c, type(c))"
      ],
      "execution_count": null,
      "outputs": [
        {
          "output_type": "stream",
          "text": [
            "19 <class 'int'>\n"
          ],
          "name": "stdout"
        }
      ]
    },
    {
      "cell_type": "markdown",
      "metadata": {
        "id": "9KCvLqKp-AZz",
        "colab_type": "text"
      },
      "source": [
        "However, if we add an `int` and a `float`, the result will be a float:"
      ]
    },
    {
      "cell_type": "code",
      "metadata": {
        "id": "fbhO4d70-AZ0",
        "colab_type": "code",
        "colab": {},
        "outputId": "bcbdf124-060d-4617-d31a-0dfd98882037"
      },
      "source": [
        "a = 4\n",
        "b = 15.0  # Adding the '.0' tells Python that it is a float\n",
        "c = a + b\n",
        "print(c, type(c))"
      ],
      "execution_count": null,
      "outputs": [
        {
          "output_type": "stream",
          "text": [
            "19.0 <class 'float'>\n"
          ],
          "name": "stdout"
        }
      ]
    },
    {
      "cell_type": "markdown",
      "metadata": {
        "id": "7vZYHcJY-AZ3",
        "colab_type": "text"
      },
      "source": [
        "If we divide two integers, the result will be a `float`:"
      ]
    },
    {
      "cell_type": "code",
      "metadata": {
        "id": "eW90Yapy-AZ3",
        "colab_type": "code",
        "colab": {},
        "outputId": "797c8e4b-a36b-423f-d4d3-c3f8c8c27ab1"
      },
      "source": [
        "a = 16\n",
        "b = 4\n",
        "c = a/b\n",
        "print(c, type(c))\n",
        "b = 2"
      ],
      "execution_count": null,
      "outputs": [
        {
          "output_type": "stream",
          "text": [
            "4.0 <class 'float'>\n"
          ],
          "name": "stdout"
        }
      ]
    },
    {
      "cell_type": "markdown",
      "metadata": {
        "id": "twfUK7Hg-AZ6",
        "colab_type": "text"
      },
      "source": [
        "When dividing two integers, we can do 'integer division' using `//`, e.g."
      ]
    },
    {
      "cell_type": "code",
      "metadata": {
        "id": "A7sB1R-4-AZ6",
        "colab_type": "code",
        "colab": {},
        "outputId": "c341be82-42c4-4651-f3e3-166c4c2528aa"
      },
      "source": [
        "a = 16\n",
        "b = 3\n",
        "c = a//b\n",
        "print(c, type(c))"
      ],
      "execution_count": null,
      "outputs": [
        {
          "output_type": "stream",
          "text": [
            "5 <class 'int'>\n"
          ],
          "name": "stdout"
        }
      ]
    },
    {
      "cell_type": "markdown",
      "metadata": {
        "id": "XagAAByz-AZ9",
        "colab_type": "text"
      },
      "source": [
        "in which case the result is an `int`.\n",
        "\n",
        "In general, operations that mix an `int` and `float` will generate a `float`, and operations that mix an `int` or a `float` with `complex` will return a `complex` type. If in doubt, use `type` to experiment and check.  "
      ]
    },
    {
      "cell_type": "markdown",
      "metadata": {
        "id": "N-2xk5uR-AZ-",
        "colab_type": "text"
      },
      "source": [
        "## Explicit type conversion\n",
        "\n",
        "We can explicitly change the type (perform a cast), e.g. cast from an `int` to a `float`:"
      ]
    },
    {
      "cell_type": "code",
      "metadata": {
        "id": "1zDvL-9p-AZ-",
        "colab_type": "code",
        "colab": {},
        "outputId": "2e6bc685-ec8d-4694-e107-b21cea03cd2f"
      },
      "source": [
        "a = 1\n",
        "print(a, type(a))\n",
        "\n",
        "a = float(a)  # This converts the int associated with 'a' to a float, and assigns the result to the variable 'a'\n",
        "print(a, type(a))"
      ],
      "execution_count": null,
      "outputs": [
        {
          "output_type": "stream",
          "text": [
            "1 <class 'int'>\n",
            "1.0 <class 'float'>\n"
          ],
          "name": "stdout"
        }
      ]
    },
    {
      "cell_type": "markdown",
      "metadata": {
        "id": "xXGRJaI3-AaB",
        "colab_type": "text"
      },
      "source": [
        "Going the other way,"
      ]
    },
    {
      "cell_type": "code",
      "metadata": {
        "id": "3DNAMjQk-AaC",
        "colab_type": "code",
        "colab": {},
        "outputId": "386c7676-04e4-4e33-8848-af8118d7c965"
      },
      "source": [
        "y = 1.99\n",
        "print(y, type(y))\n",
        "\n",
        "z = int(y)\n",
        "print(z, type(z))"
      ],
      "execution_count": null,
      "outputs": [
        {
          "output_type": "stream",
          "text": [
            "1.99 <class 'float'>\n",
            "1 <class 'int'>\n"
          ],
          "name": "stdout"
        }
      ]
    },
    {
      "cell_type": "markdown",
      "metadata": {
        "id": "5ZNBvgh1-AaF",
        "colab_type": "text"
      },
      "source": [
        "Note that rounding is applied when converting from a `float` to an `int`; the values after the decimal point are discarded. This type of rounding is called 'round towards zero' or 'truncation'.\n",
        "\n",
        "A common task is converting numerical types to-and-from strings. We might read a number from a file as a string, or a user might input a value which Python reads in as a string. Converting a float to a string:"
      ]
    },
    {
      "cell_type": "code",
      "metadata": {
        "id": "pKccFmiK-AaF",
        "colab_type": "code",
        "colab": {},
        "outputId": "dfd988a3-97e8-4e6b-b0f3-9928f6a8ca07"
      },
      "source": [
        "a = 1.023\n",
        "b = str(a)\n",
        "print(b, type(b))"
      ],
      "execution_count": null,
      "outputs": [
        {
          "output_type": "stream",
          "text": [
            "1.023 <class 'str'>\n"
          ],
          "name": "stdout"
        }
      ]
    },
    {
      "cell_type": "markdown",
      "metadata": {
        "id": "5E5cgObX-AaI",
        "colab_type": "text"
      },
      "source": [
        "and in the other direction:"
      ]
    },
    {
      "cell_type": "code",
      "metadata": {
        "id": "ueSqbn7J-AaJ",
        "colab_type": "code",
        "colab": {},
        "outputId": "b56e9bcc-2f99-43e0-d05d-415faf5624d1"
      },
      "source": [
        "a = \"15.07\"\n",
        "b = \"18.07\"\n",
        "\n",
        "print(a + b)\n",
        "print(float(a) + float(b))"
      ],
      "execution_count": null,
      "outputs": [
        {
          "output_type": "stream",
          "text": [
            "15.0718.07\n",
            "33.14\n"
          ],
          "name": "stdout"
        }
      ]
    },
    {
      "cell_type": "markdown",
      "metadata": {
        "id": "3mX16XKO-AaM",
        "colab_type": "text"
      },
      "source": [
        "If we tried \n",
        "```python\n",
        "print(int(a) + int(b))\n",
        "```\n",
        "we could get an error that the strings could not be converted to `int`. It works in the case:"
      ]
    },
    {
      "cell_type": "code",
      "metadata": {
        "id": "aFh8j5Sa-AaM",
        "colab_type": "code",
        "colab": {},
        "outputId": "790f7c68-dad9-4b1a-a2f4-f0bdd8ecbbec"
      },
      "source": [
        "a = \"15\"\n",
        "b = \"18\"\n",
        "print(int(a) + int(b))"
      ],
      "execution_count": null,
      "outputs": [
        {
          "output_type": "stream",
          "text": [
            "33\n"
          ],
          "name": "stdout"
        }
      ]
    },
    {
      "cell_type": "markdown",
      "metadata": {
        "id": "fSxK0ung-AaQ",
        "colab_type": "text"
      },
      "source": [
        "since these strings can be correctly cast to integers."
      ]
    },
    {
      "cell_type": "markdown",
      "metadata": {
        "id": "HfWoNVHL-AaQ",
        "colab_type": "text"
      },
      "source": [
        "## Ariane 5 rocket explosion and type conversion\n",
        "\n",
        "The Ariane 5 rocket explosion was caused by an integer overflow. The speed of the rocket was stored as a 64-bit float, and this was converted in the navigation software to a 16-bit integer. However, the value of the float was greater than $32767$, the largest number a 16-bit integer can represent, and this led to an overflow that in turn caused the navigation system to fail and the rocket to explode.\n",
        "\n",
        "We can demonstrate what happened in the rocket program. We consider a speed of $40000.54$ (units are not relevant to what is being demonstrated), stored as a `float` (64 bits):"
      ]
    },
    {
      "cell_type": "code",
      "metadata": {
        "id": "u5gRiwc0-AaR",
        "colab_type": "code",
        "colab": {}
      },
      "source": [
        "speed_float = 40000.54"
      ],
      "execution_count": null,
      "outputs": []
    },
    {
      "cell_type": "markdown",
      "metadata": {
        "id": "Fdga9jqW-AaT",
        "colab_type": "text"
      },
      "source": [
        "If we first convert the float to a 32-bit `int` (we use NumPy to get integers with a fixed number of bits, more on NumPy in a later notebook):"
      ]
    },
    {
      "cell_type": "code",
      "metadata": {
        "id": "PUlqvqr_-AaU",
        "colab_type": "code",
        "colab": {},
        "outputId": "662540c7-4f9d-41c6-aa02-1b9b53832f5f"
      },
      "source": [
        "import numpy as np\n",
        "speed_int = np.int32(speed_float)  # Convert the speed to a 32-bit int\n",
        "print(speed_int)"
      ],
      "execution_count": null,
      "outputs": [
        {
          "output_type": "stream",
          "text": [
            "40000\n"
          ],
          "name": "stdout"
        }
      ]
    },
    {
      "cell_type": "markdown",
      "metadata": {
        "id": "HaNd3-qB-AaX",
        "colab_type": "text"
      },
      "source": [
        "The conversion behaves as we would expect. Now, if we convert the speed from the `float` to a 16-bit integer:"
      ]
    },
    {
      "cell_type": "code",
      "metadata": {
        "id": "QbLiuzDd-AaX",
        "colab_type": "code",
        "colab": {},
        "outputId": "a3c3b112-828e-4c5c-81a9-aa9b802296cb"
      },
      "source": [
        "speed_int = np.int16(speed_float)\n",
        "print(speed_int)"
      ],
      "execution_count": null,
      "outputs": [
        {
          "output_type": "stream",
          "text": [
            "-25536\n"
          ],
          "name": "stdout"
        }
      ]
    },
    {
      "cell_type": "markdown",
      "metadata": {
        "id": "jfowdaTG-Aaa",
        "colab_type": "text"
      },
      "source": [
        "We see clearly the result of an integer overflow since the 16-bit integer has too few bits to represent the number \n",
        "40000.\n",
        "\n",
        "The Ariane 5 failure would have been averted with pre-launch testing and the following few lines:"
      ]
    },
    {
      "cell_type": "code",
      "metadata": {
        "id": "rnaRmeEb-Aaa",
        "colab_type": "code",
        "colab": {},
        "outputId": "0f43f86c-42a5-4a42-e6be-c0d7f3f76a49"
      },
      "source": [
        "if abs(speed_float) > np.iinfo(np.int16).max:\n",
        "    print(\"***Error, cannot assign speed to 16-bit int. Will cause overflow.\")\n",
        "    # Call command here to exit program\n",
        "else:\n",
        "    speed_int = np.int16(speed_float)"
      ],
      "execution_count": null,
      "outputs": [
        {
          "output_type": "stream",
          "text": [
            "***Error, cannot assign speed to 16-bit int. Will cause overflow.\n"
          ],
          "name": "stdout"
        }
      ]
    },
    {
      "cell_type": "markdown",
      "metadata": {
        "id": "6dJT0qF_-Aad",
        "colab_type": "text"
      },
      "source": [
        "These few lines and careful testing would have saved the $500M payload and the cost of the rocket.\n",
        "\n",
        "The Ariane 5 incident is an example not only of a poor piece of programming, but also very poor testing and software engineering. Careful pre-launch testing of the software would have detected this problem. The program should have checked the value of the velocity before performing the conversion, and triggered an error message that the type conversion would cause an overflow."
      ]
    },
    {
      "cell_type": "markdown",
      "metadata": {
        "id": "CLhosTBd-Aaf",
        "colab_type": "text"
      },
      "source": [
        "# Binary representation and floating point arithmetic\n",
        "\n",
        "## Binary (base 2) representation\n",
        "\n",
        "Computers store data using 'bits', and a bit is a switch that can have a value of 0 or 1. This means that computers store numbers in binary (base 2), whereas we almost always work with decimal numbers (base 10).\n",
        "For example, the binary number $110$ is equal to $0 \\times 2^{0} + 1 \\times 2^{1} + 1 \\times 2^{2} = 6$\n",
        "(read $110$ right-to-left).\n",
        "Below is a table with decimal (base 10) and the corresponding binary (base 2) representation of some numbers. See <https://en.wikipedia.org/wiki/Binary_number> if you want to learn more.\n",
        "\n",
        "|Decimal | Binary  |\n",
        "| ------ |-------- |\n",
        "|0       |\t   0   | \n",
        "|1       |\t1      | \n",
        "|2       |\t10     |\n",
        "|3       |\t11     |\n",
        "|4       |\t100    |\n",
        "|5       |\t101    |\n",
        "|6       |\t110    |\n",
        "|7       |\t111    |\n",
        "|8       |\t1000   |\n",
        "|9       |\t1001   |\n",
        "|10      |\t1010   |\n",
        "|11\t     |  1011   |\n",
        "|12\t     |  1100   |\n",
        "|13      |\t1101   |\n",
        "|14      |\t1110   |\n",
        "|15      |\t1111   |\n",
        "\n",
        "To represent any integer, all we need are enough bits to store the binary representation. If we have $n$ bits, the largest number we can store is $2^{n -1} - 1$ (the power is $n - 1$ because we use one bit to store the sign of the integer).\n",
        "\n",
        "We can display the binary representation of an integer in Python using the function `bin`:"
      ]
    },
    {
      "cell_type": "code",
      "metadata": {
        "id": "j8U3Y5rI-Aag",
        "colab_type": "code",
        "colab": {},
        "outputId": "3ec817cb-66fe-456c-cc07-78c7bdcd4cf2"
      },
      "source": [
        "print(bin(2))\n",
        "print(bin(6))\n",
        "print(bin(110))"
      ],
      "execution_count": null,
      "outputs": [
        {
          "output_type": "stream",
          "text": [
            "0b10\n",
            "0b110\n",
            "0b1101110\n"
          ],
          "name": "stdout"
        }
      ]
    },
    {
      "cell_type": "markdown",
      "metadata": {
        "id": "xdz9XNrI-Aai",
        "colab_type": "text"
      },
      "source": [
        "The prefix `0b` is to denote that the representation is binary."
      ]
    },
    {
      "cell_type": "markdown",
      "metadata": {
        "collapsed": true,
        "id": "S6q8dZML-Aak",
        "colab_type": "text"
      },
      "source": [
        "## Floating point numbers\n",
        "\n",
        "We introduced the representation\n",
        "\n",
        "$$\n",
        "10.45 = \\underbrace{+}_{\\text{sign}} \\underbrace{1045}_{\\text{significand}} \\times \\underbrace{10^{-2}}_{\\text{exponent}}\n",
        "$$\n",
        "\n",
        "earlier. However, this was a little misleading because computers do not use base 10\n",
        "to store the significand and the exponent, but base 2. \n",
        "\n",
        "When using the familiar base 10, we cannot represent $1/3$ exactly as a decimal. If we liked using base 3 (ternary numeral system) for our mental arithmetic (which we really don't), we could represent $1/3$ exactly. However, fractions that are simple to represent exactly in base 10 might not be representable in another base.\n",
        "A consequence is that fractions that are simple in base 10 cannot necessarily be represented exactly by computers using binary.\n",
        "\n",
        "A classic example is $1/10 = 0.1$. This simple number cannot be represented exactly in\n",
        "binary. On the contrary, $1/2 = 0.5$ can be represented exactly. To explore this, let's assign the number 0.1 to the variable `x` and print the result:"
      ]
    },
    {
      "cell_type": "code",
      "metadata": {
        "id": "3XtcDaVl-Aal",
        "colab_type": "code",
        "colab": {},
        "outputId": "6ceb58aa-212c-4065-8df0-1926c2f0b295"
      },
      "source": [
        "x = 0.1\n",
        "print(x)"
      ],
      "execution_count": null,
      "outputs": [
        {
          "output_type": "stream",
          "text": [
            "0.1\n"
          ],
          "name": "stdout"
        }
      ]
    },
    {
      "cell_type": "markdown",
      "metadata": {
        "id": "kOAWK5dJ-Aar",
        "colab_type": "text"
      },
      "source": [
        "This looks fine, but the `print` statement is hiding some details. Asking the `print` statement to use 30 characters we see that `x` is not exactly 0.1:"
      ]
    },
    {
      "cell_type": "code",
      "metadata": {
        "id": "NfXWkE6a-Aas",
        "colab_type": "code",
        "colab": {},
        "outputId": "1e717550-f1cf-4832-a7bc-bf6fa2d3fc91"
      },
      "source": [
        "print('{0:.30f}'.format(x))"
      ],
      "execution_count": null,
      "outputs": [
        {
          "output_type": "stream",
          "text": [
            "0.100000000000000005551115123126\n"
          ],
          "name": "stdout"
        }
      ]
    },
    {
      "cell_type": "markdown",
      "metadata": {
        "id": "giAcij1i-Aaw",
        "colab_type": "text"
      },
      "source": [
        "The difference between 0.1 and the binary representation is the *roundoff error* (we'll look at print formatting syntax in a later activity). From the above, we can see that the representation is accurate to about 17 significant figures.\n",
        "\n",
        "Checking for 0.5, we see that it appears to be represented exactly:"
      ]
    },
    {
      "cell_type": "code",
      "metadata": {
        "id": "LjkNP93f-Aax",
        "colab_type": "code",
        "colab": {},
        "outputId": "c0e389ff-98ea-4a25-a4e9-b908960194e9"
      },
      "source": [
        "print('{0:.30f}'.format(0.5))"
      ],
      "execution_count": null,
      "outputs": [
        {
          "output_type": "stream",
          "text": [
            "0.500000000000000000000000000000\n"
          ],
          "name": "stdout"
        }
      ]
    },
    {
      "cell_type": "markdown",
      "metadata": {
        "id": "5V9Uar-M-Aaz",
        "colab_type": "text"
      },
      "source": [
        "The round-off error for the 0.1 case is small, and in many cases will not present a problem. However, sometimes round-off errors can accumulate and destroy accuracy."
      ]
    },
    {
      "cell_type": "markdown",
      "metadata": {
        "id": "NZ8DIPPM-Aa0",
        "colab_type": "text"
      },
      "source": [
        "### Example: inexact representation\n",
        "\n",
        "It is trivial that\n",
        "\n",
        "$$\n",
        "x = 11x - 10x\n",
        "$$\n",
        "\n",
        "If $x = 0.1$, we can  write\n",
        "\n",
        "$$\n",
        "x = 11x - 1\n",
        "$$\n",
        "\n",
        "Now, starting with $x = 0.1$ we evaluate the right-hand side to get a 'new' $x$, and use this new $x$ to then evaluate the right-hand side again. The arithmetic is trivial: $x$ should remain equal to $0.1$.\n",
        "We test this in a program that repeats this process 20 times: "
      ]
    },
    {
      "cell_type": "code",
      "metadata": {
        "id": "2Q8qd2m7-Aa0",
        "colab_type": "code",
        "colab": {},
        "outputId": "03c9cf0a-ac64-480f-f302-0d3e8a356984"
      },
      "source": [
        "x = 0.1\n",
        "for i in range(20):\n",
        "    x = x*11 - 1\n",
        "    print(x)"
      ],
      "execution_count": null,
      "outputs": [
        {
          "output_type": "stream",
          "text": [
            "0.10000000000000009\n",
            "0.10000000000000098\n",
            "0.10000000000001075\n",
            "0.10000000000011822\n",
            "0.10000000000130038\n",
            "0.1000000000143042\n",
            "0.10000000015734622\n",
            "0.10000000173080847\n",
            "0.10000001903889322\n",
            "0.10000020942782539\n",
            "0.10000230370607932\n",
            "0.10002534076687253\n",
            "0.10027874843559781\n",
            "0.1030662327915759\n",
            "0.13372856070733485\n",
            "0.4710141677806834\n",
            "4.181155845587517\n",
            "44.992714301462684\n",
            "493.9198573160895\n",
            "5432.118430476985\n"
          ],
          "name": "stdout"
        }
      ]
    },
    {
      "cell_type": "markdown",
      "metadata": {
        "id": "XoFppyWa-Aa3",
        "colab_type": "text"
      },
      "source": [
        "The solution blows up and deviates widely from $x = 0.1$. Round-off errors are amplified at each step, leading to a completely wrong answer. The computer representation of $0.1$ is not exact, and every time we multiply $0.1$ by $11$, we increase the error by around a factor of 10 (we can see above that we lose a digit of accuracy in each step). \n",
        "You can observe the same issue using spreadsheet programs."
      ]
    },
    {
      "cell_type": "markdown",
      "metadata": {
        "id": "W5KuqQvS-Aa4",
        "colab_type": "text"
      },
      "source": [
        "If we use $x = 0.5$, which can be represented exactly in binary:"
      ]
    },
    {
      "cell_type": "code",
      "metadata": {
        "id": "lrZPimkz-Aa4",
        "colab_type": "code",
        "colab": {},
        "outputId": "b33eb0d9-c46c-42e7-d85c-bcf0c0242afb"
      },
      "source": [
        "x = 0.5\n",
        "for i in range(20):\n",
        "    x = x*11 - 5\n",
        "    print(x)"
      ],
      "execution_count": null,
      "outputs": [
        {
          "output_type": "stream",
          "text": [
            "0.5\n",
            "0.5\n",
            "0.5\n",
            "0.5\n",
            "0.5\n",
            "0.5\n",
            "0.5\n",
            "0.5\n",
            "0.5\n",
            "0.5\n",
            "0.5\n",
            "0.5\n",
            "0.5\n",
            "0.5\n",
            "0.5\n",
            "0.5\n",
            "0.5\n",
            "0.5\n",
            "0.5\n",
            "0.5\n"
          ],
          "name": "stdout"
        }
      ]
    },
    {
      "cell_type": "markdown",
      "metadata": {
        "id": "zMzkaMQH-Aa7",
        "colab_type": "text"
      },
      "source": [
        "The result is exact in this case.\n",
        "\n",
        "By default, Python uses 64 bits to store a float. We can use the module NumPy to create a \n",
        "float that uses only 32 bits. Testing this for the $x = 0.1$ case:"
      ]
    },
    {
      "cell_type": "code",
      "metadata": {
        "id": "L4xY0aUZ-Aa7",
        "colab_type": "code",
        "colab": {},
        "outputId": "7fa23633-8808-458e-ab5e-ab7aca508a8c"
      },
      "source": [
        "x = np.float32(0.1)\n",
        "for i in range(20):\n",
        "    x = x*11 - 1\n",
        "    print(x)"
      ],
      "execution_count": null,
      "outputs": [
        {
          "output_type": "stream",
          "text": [
            "0.10000001639127731\n",
            "0.10000018030405045\n",
            "0.1000019833445549\n",
            "0.10002181679010391\n",
            "0.10023998469114304\n",
            "0.1026398316025734\n",
            "0.12903814762830734\n",
            "0.41941962391138077\n",
            "3.6136158630251884\n",
            "38.74977449327707\n",
            "425.2475194260478\n",
            "4676.722713686526\n",
            "51442.949850551784\n",
            "565871.4483560696\n",
            "6224584.931916766\n",
            "68470433.25108442\n",
            "753174764.7619286\n",
            "8284922411.381214\n",
            "91134146524.19336\n",
            "1002475611765.127\n"
          ],
          "name": "stdout"
        }
      ]
    },
    {
      "cell_type": "markdown",
      "metadata": {
        "id": "cWPqjcOQ-AbA",
        "colab_type": "text"
      },
      "source": [
        "The error blows up faster in this case compared to the 64 bit case - using 32 bits leads to a poorer approximation of $0.1$ than when using 64 bits.\n",
        "\n",
        "*Note:* Some languages have special tools for performing decimal (base 10) arithmetic (e.g., https://docs.python.org/3/library/decimal.html). This would, for example, allow $0.1$ to be represented exactly. However, decimal is not the 'natural' arithmetic of computers so operations in decimal could be expected to be much slower."
      ]
    },
    {
      "cell_type": "markdown",
      "metadata": {
        "id": "YCLxM9FJ-AbB",
        "colab_type": "text"
      },
      "source": [
        "## Patriot Missile Failure\n",
        "\n",
        "The inexact representation of $0.1$ was the cause of the software error in the Patriot missile system (see preamble to this notebook). \n",
        "The missile system tracked time from boot (system start) using an integer counter that was incremented every $1/10$ of a second. To\n",
        "get the time in seconds, the missile software multiplied the counter by the float representation of $0.1$. \n",
        "The control software used 24 bits to store floats. The round-off error due to the inexact representation of $0.1$ lead to an error of $0.32$ s after 100 hours of operation (time since boot), which due to the high velocity of the missile was enough to cause failure to intercept the incoming Scud.\n",
        "\n",
        "We don't have 24-bit floats in Python, but we can test with 16, 32 and 64 bit floats.\n",
        "We first compute what the system counter (an integer) would be after 100 hours:"
      ]
    },
    {
      "cell_type": "code",
      "metadata": {
        "id": "_QDJpXs3-AbB",
        "colab_type": "code",
        "colab": {}
      },
      "source": [
        "# Compute internal system counter after 100 hours (counter increments every 1/10 s)\n",
        "num_hours = 100\n",
        "num_seconds = num_hours*60*60\n",
        "system_counter = num_seconds*10  # system clock counter"
      ],
      "execution_count": null,
      "outputs": []
    },
    {
      "cell_type": "markdown",
      "metadata": {
        "id": "sybswatM-AbE",
        "colab_type": "text"
      },
      "source": [
        "Converting the system counter to seconds using different representations of 0.1:"
      ]
    },
    {
      "cell_type": "code",
      "metadata": {
        "id": "ILIopA8p-AbE",
        "colab_type": "code",
        "colab": {},
        "outputId": "19f27ff1-29e2-400f-af5f-f7c84ea279b7"
      },
      "source": [
        "# Test with 16 bit float\n",
        "dt = np.float16(0.1)\n",
        "time = dt*system_counter\n",
        "print(\"Time error after 100 hours using 16 bit float (s):\", abs(time - num_seconds))\n",
        "\n",
        "# Test with 32 bit float\n",
        "dt = np.float32(0.1)\n",
        "time = dt*system_counter\n",
        "print(\"Time error after 100 hours using 32 bit float (s):\", abs(time - num_seconds))\n",
        "\n",
        "# Test with 64 bit float\n",
        "dt = np.float64(0.1)\n",
        "time = dt*system_counter\n",
        "print(\"Time error after 100 hours using 64 bit float (s):\", abs(time - num_seconds))"
      ],
      "execution_count": null,
      "outputs": [
        {
          "output_type": "stream",
          "text": [
            "Time error after 100 hours using 16 bit float (s): 87.890625\n",
            "Time error after 100 hours using 32 bit float (s): 0.005364418029785156\n",
            "Time error after 100 hours using 64 bit float (s): 0.0\n"
          ],
          "name": "stdout"
        }
      ]
    },
    {
      "cell_type": "markdown",
      "metadata": {
        "id": "HolYkdXb-AbH",
        "colab_type": "text"
      },
      "source": [
        "The time computation with 16-bit floats is more than a minute off after 100 hours! The stop-gap measure \n",
        "for the Patriot missiles at the time was to reboot the missile systems frequently, thereby resetting the system counter and reducing the time error."
      ]
    },
    {
      "cell_type": "markdown",
      "metadata": {
        "id": "s8iXgeF5-AbH",
        "colab_type": "text"
      },
      "source": [
        "# Summary\n",
        "\n",
        "The key points from this activity are:\n",
        "\n",
        "- The size of an integer that a computer can store is determined by the number of bits used to represent the \n",
        "  integer.\n",
        "- Computers do not perform exact arithmetic with non-integer numbers. This does not usually cause a problem, but \n",
        "  it can in cases. Problems can often be avoided with careful programming.\n",
        "- Be thoughtful when converting between types - undesirable consequences can follow when careless with \n",
        "  conversions."
      ]
    },
    {
      "cell_type": "markdown",
      "metadata": {
        "id": "y1Hp-Il7-AbH",
        "colab_type": "text"
      },
      "source": [
        "# Exercises\n",
        "\n",
        "Complete now the [03 Exercises](Exercises/03%20Exercises.ipynb) notebook."
      ]
    }
  ]
}