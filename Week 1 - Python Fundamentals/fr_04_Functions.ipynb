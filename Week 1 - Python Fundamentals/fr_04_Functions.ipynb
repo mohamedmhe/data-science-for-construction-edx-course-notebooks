{
  "nbformat": 4,
  "nbformat_minor": 0,
  "metadata": {
    "kernelspec": {
      "display_name": "Python 3",
      "language": "python",
      "name": "python3"
    },
    "language_info": {
      "codemirror_mode": {
        "name": "ipython",
        "version": 3
      },
      "file_extension": ".py",
      "mimetype": "text/x-python",
      "name": "python",
      "nbconvert_exporter": "python",
      "pygments_lexer": "ipython3",
      "version": "3.6.6"
    },
    "colab": {
      "name": "fr 04 Functions.ipynb",
      "provenance": [],
      "collapsed_sections": [],
      "include_colab_link": true
    }
  },
  "cells": [
    {
      "cell_type": "markdown",
      "metadata": {
        "id": "view-in-github",
        "colab_type": "text"
      },
      "source": [
        "<a href=\"https://colab.research.google.com/github/mohamedmhe/data-science-for-construction-edx-course-notebooks/blob/fr/Week%201%20-%20Python%20Fundamentals/fr_04_Functions.ipynb\" target=\"_parent\"><img src=\"https://colab.research.google.com/assets/colab-badge.svg\" alt=\"Open In Colab\"/></a>"
      ]
    },
    {
      "cell_type": "markdown",
      "metadata": {
        "id": "EAd9M1ewkqPf",
        "colab_type": "text"
      },
      "source": [
        "# Introduction\n",
        "\n",
        "Les fonctions sont l'un des concepts les plus importants en informatique.  Comme les fonctions mathématiques, elles prennent des données d'entrée et renvoient une ou plusieurs sorties. Les fonctions sont idéales pour les tâches répétitives qui effectuent une opération particulière\n",
        "sur différentes données d'entrée et renvoyer un résultat. Une fonction simple pourrait prendre les coordonnées des sommets d'un triangle et retourner la surface. Tout programme non trivial utilisera des fonctions et, dans de nombreux cas, aura de nombreuses fonctions.\n",
        "\n",
        "\n",
        "## Objectifs\n",
        "\n",
        "- Introduire la construction et l'utilisation des fonctions utilisateur\n",
        "- Retour de fonctions\n",
        "- Arguments par défaut\n",
        "- Récursion"
      ]
    },
    {
      "cell_type": "markdown",
      "metadata": {
        "id": "w97GOegLkqPh",
        "colab_type": "text"
      },
      "source": [
        "# Qu'est-ce qu'une fonction ?\n",
        "\n",
        "Voici une fonction Python qui prend deux arguments (`a` et `b`), et retourne `a + b + 1` :"
      ]
    },
    {
      "cell_type": "code",
      "metadata": {
        "id": "hdjq46nGkqPi",
        "colab_type": "code",
        "colab": {
          "base_uri": "https://localhost:8080/",
          "height": 50
        },
        "outputId": "1708b581-6eb2-4aaf-8422-e32e0378a09d"
      },
      "source": [
        "def sum_and_increment(a, b):\n",
        "    \"\"\"\"Renvoyer la somme de a et b, plus 1\"\"\"\n",
        "    return a + b + 1\n",
        "\n",
        "# Appeler la fonction\n",
        "m = sum_and_increment(3, 4)\n",
        "print(m)  # Attendez-vous à avoir 8\n",
        "\n",
        "# Appeler la fonction\n",
        "m = 10\n",
        "n = sum_and_increment(m, m)\n",
        "print(n)  # Attendez-vous à avoir  21"
      ],
      "execution_count": null,
      "outputs": [
        {
          "output_type": "stream",
          "text": [
            "8\n",
            "21\n"
          ],
          "name": "stdout"
        }
      ]
    },
    {
      "cell_type": "markdown",
      "metadata": {
        "id": "opj6QU5skqPq",
        "colab_type": "text"
      },
      "source": [
        "En utilisant l'exemple ci-dessus comme modèle, nous pouvons examiner l'anatomie d'une fonction de Python.\n",
        "\n",
        "- Une fonction est déclarée en utilisant `def`, suivi par le nom de la fonction, `sum_and_increment`, suivi par la liste \n",
        "  d'arguments à passer à la fonction entre parenthèses, `(a, b)`, et terminée par un deux-points :\n",
        "  ```python\n",
        "  def sum_and_increment(a, b):\n",
        "  ```\n",
        "\n",
        "  \n",
        "\n",
        "- Vient ensuite le corps de la fonction. La première partie du corps est constituée de quatre espaces en retrait. \n",
        "  Tout ce qui fait \n",
        "  Le corps de la fonction est indenté d'au moins quatre espaces par rapport à `def`. \n",
        "  En Python, la première partie du corps est une chaîne de documentation optionnelle qui décrit en mots ce que la    \n",
        "  fonction fait \n",
        "  ```python  \n",
        "      \"Renvoyer la somme de a et b, plus 1\"\n",
        "  ```\n",
        "\n",
        "- Il est de bonne pratique d'inclure une 'docstring'.  Ce qui vient après la chaîne de documentation \n",
        "  est le code que la fonction exécute. À la fin d'une fonction, il y a généralement une déclaration de `return` ; celle-ci définit ce que  résultat que la fonction devrait retourner :\n",
        "  ```python\n",
        "      retour a + b + 1\n",
        "  ```\n",
        "Tout ce qui est indenté au même niveau (ou moins) que `def` tombe en dehors du corps de la fonction.\n",
        "\n",
        "La plupart des fonctions prennent des arguments et renvoient quelque chose, mais ce n'est pas strictement nécessaire.\n",
        "Voici un exemple de fonction qui ne prend aucun argument et ne renvoie aucune variable."
      ]
    },
    {
      "cell_type": "code",
      "metadata": {
        "id": "du29Kq6OkqPr",
        "colab_type": "code",
        "colab": {
          "base_uri": "https://localhost:8080/",
          "height": 34
        },
        "outputId": "e357367d-9c72-406a-9a5b-760d096f6334"
      },
      "source": [
        "def print_message():\n",
        "    print(\"La fonction 'print_message' a été appelée.\")\n",
        "\n",
        "print_message()"
      ],
      "execution_count": null,
      "outputs": [
        {
          "output_type": "stream",
          "text": [
            "La fonction 'print_message' a été appelée.\n"
          ],
          "name": "stdout"
        }
      ]
    },
    {
      "cell_type": "markdown",
      "metadata": {
        "id": "TcuONE_3kqPv",
        "colab_type": "text"
      },
      "source": [
        "# Objectif\n",
        "\n",
        "Les fonctions permettent de réutiliser le code informatique plusieurs fois avec des données d'entrée différentes. Il est bon de réutiliser le code autant que possible parce que nous concentrons alors les efforts de test et de débogage, et peut-être aussi d'optimisation, sur de petits morceaux de code qui sont ensuite réutilisés. Plus il y a de code écrit, moins il y a de sections de code utilisées et, par conséquent, plus la probabilité d'erreurs est grande.\n",
        "\n",
        "Les fonctions peuvent également améliorer la lisibilité d'un programme et faciliter la collaboration avec les autres. Les fonctions nous permettent de nous concentrer sur *ce qu'un* programme fait à un niveau élevé \n",
        "plutôt que les détails de la *façon* dont il le fait. Les détails de la mise en œuvre de bas niveau sont *encapsulés* dans les fonctions. Pour comprendre à un niveau élevé ce qu'un programme fait, il suffit généralement de savoir quelles données sont transmises à une fonction et ce que la fonction renvoie. Il n'est pas nécessaire de connaître les détails précis de l'implémentation d'une fonction pour saisir la structure d'un programme et son fonctionnement. Par exemple, nous pouvons avoir besoin de savoir qu'une fonction calcule et renvoie $\\sin(x)$ ; nous n'avons généralement pas besoin de savoir *comment* elle calcule les sinus.\n",
        "\n",
        "Voici un exemple simple d'une fonction qui est \"appelée\" de nombreuses fois à l'intérieur d'une boucle `for`."
      ]
    },
    {
      "cell_type": "code",
      "metadata": {
        "id": "kZF6sWs3F4MR",
        "colab_type": "code",
        "colab": {
          "base_uri": "https://localhost:8080/",
          "height": 302
        },
        "outputId": "7e496af1-ab2e-4e26-99b2-2e4b9505bfdf"
      },
      "source": [
        "print(\"Cas A : 3 valeurs\")    \n",
        "for y in range(3):\n",
        "    print(y)\n",
        "\n",
        "print(\"Cas B : 12 valeurs\")    \n",
        "for y in range(12):\n",
        "    print(y)"
      ],
      "execution_count": null,
      "outputs": [
        {
          "output_type": "stream",
          "text": [
            "Cas A : 3 valeurs\n",
            "0\n",
            "1\n",
            "2\n",
            "Cas B : 12 valeurs\n",
            "0\n",
            "1\n",
            "2\n",
            "3\n",
            "4\n",
            "5\n",
            "6\n",
            "7\n",
            "8\n",
            "9\n",
            "10\n",
            "11\n"
          ],
          "name": "stdout"
        }
      ]
    },
    {
      "cell_type": "code",
      "metadata": {
        "id": "zLCQurumGTmx",
        "colab_type": "code",
        "colab": {
          "base_uri": "https://localhost:8080/",
          "height": 34
        },
        "outputId": "109ea110-0fbf-46cc-81be-b7c89ea53d62"
      },
      "source": [
        "2**3"
      ],
      "execution_count": null,
      "outputs": [
        {
          "output_type": "execute_result",
          "data": {
            "text/plain": [
              "8"
            ]
          },
          "metadata": {
            "tags": []
          },
          "execution_count": 6
        }
      ]
    },
    {
      "cell_type": "code",
      "metadata": {
        "id": "eU_2gqrHkqPw",
        "colab_type": "code",
        "colab": {
          "base_uri": "https://localhost:8080/",
          "height": 302
        },
        "outputId": "377d66e8-db06-4c0e-dccc-34e6ca127ffa"
      },
      "source": [
        "def process_value(x):\n",
        "    \"Renvoyer une valeur qui dépend de la valeur d'entrée x \"\n",
        "    if x > 10:\n",
        "        return 0\n",
        "    elif x > 5:\n",
        "        return x*x\n",
        "    elif x > 0:\n",
        "        return x**3\n",
        "    else:\n",
        "        return x\n",
        "\n",
        "    \n",
        "print(\"Cas A : 3 valeurs\")    \n",
        "for y in range(3):\n",
        "    print(process_value(y))\n",
        "\n",
        "print(\"Cas B : 12 valeurs\")    \n",
        "for y in range(12):\n",
        "    print(process_value(y))"
      ],
      "execution_count": null,
      "outputs": [
        {
          "output_type": "stream",
          "text": [
            "Cas A : 3 valeurs\n",
            "0\n",
            "1\n",
            "8\n",
            "Cas B : 12 valeurs\n",
            "0\n",
            "1\n",
            "8\n",
            "27\n",
            "64\n",
            "125\n",
            "36\n",
            "49\n",
            "64\n",
            "81\n",
            "100\n",
            "0\n"
          ],
          "name": "stdout"
        }
      ]
    },
    {
      "cell_type": "markdown",
      "metadata": {
        "id": "Y7UBuymLkqP1",
        "colab_type": "text"
      },
      "source": [
        "En utilisant une fonction, nous n'avons pas eu besoin de dupliquer l'instruction`if-elif-else` à l'intérieur de chaque boucle\n",
        "nous l'avons réutilisé.\n",
        "Avec une fonction, nous n'avons qu'à changer la façon dont nous traitons le nombre `x` à un endroit."
      ]
    },
    {
      "cell_type": "markdown",
      "metadata": {
        "id": "pK_rZPC-kqP2",
        "colab_type": "text"
      },
      "source": [
        "# Arguments de fonction\n",
        "\n",
        "L'ordre dans lequel les arguments de fonction sont énumérés dans la déclaration de fonction est en général l'ordre dans lequel les arguments doivent être transmis à une fonction. \n",
        "\n",
        "Pour la fonction `sum_and_increment` qui a été déclarée ci-dessus, nous pourrions changer l'ordre des arguments et le résultat ne changerait pas parce que nous additionnons simplement les arguments d'entrée. Mais, si nous soustrayons un argument de l'autre, le résultat dépend de l'ordre d'entrée :"
      ]
    },
    {
      "cell_type": "code",
      "metadata": {
        "id": "Pe_Pfwq0kqP2",
        "colab_type": "code",
        "colab": {
          "base_uri": "https://localhost:8080/",
          "height": 50
        },
        "outputId": "0f80b6c8-6708-4b22-f5e0-407968cb4fb3"
      },
      "source": [
        "def subtract_and_increment(a, b):\n",
        "    \"Renvoyer a moins b, plus 1\"\n",
        "    return a - b + 1\n",
        "\n",
        "alpha, beta = 3, 5  # Il s'agit de la notation abrégée pour alpha = 3\n",
        "                    #                                        beta = 5\n",
        "\n",
        "# Appelez la fonction et imprimez la valeur de renvoi.\n",
        "print(subtract_and_increment(alpha, beta))  # On s'attend à avoir  -1\n",
        "print(subtract_and_increment(beta, alpha))  # On s'attend à avoir   3"
      ],
      "execution_count": null,
      "outputs": [
        {
          "output_type": "stream",
          "text": [
            "-1\n",
            "3\n"
          ],
          "name": "stdout"
        }
      ]
    },
    {
      "cell_type": "markdown",
      "metadata": {
        "id": "3dt0Cb7dkqP6",
        "colab_type": "text"
      },
      "source": [
        "Pour les fonctions plus complexes, nous pourrions avoir de nombreux arguments. Par conséquent, il devient plus facile de se tromper par accident lors de l'appel de la fonction (ce qui entraîne un bug). Dans Python, nous pouvons réduire la probabilité d'une erreur en utilisant des arguments *nommés*, auquel cas l'ordre n'aura pas d'importance, par exemple"
      ]
    },
    {
      "cell_type": "code",
      "metadata": {
        "id": "0xEJY1u8kqP7",
        "colab_type": "code",
        "colab": {},
        "outputId": "557ffe48-908e-436d-a47d-946ffb586608"
      },
      "source": [
        "print(subtract_and_increment(a=alpha, b=beta))  # Expect -1\n",
        "print(subtract_and_increment(b=beta, a=alpha))  # Expect -1"
      ],
      "execution_count": null,
      "outputs": [
        {
          "output_type": "stream",
          "text": [
            "-1\n",
            "-1\n"
          ],
          "name": "stdout"
        }
      ]
    },
    {
      "cell_type": "markdown",
      "metadata": {
        "id": "AQSOgg-2kqP-",
        "colab_type": "text"
      },
      "source": [
        "L'utilisation d'arguments nommés peut souvent améliorer la lisibilité du programme et réduire les erreurs."
      ]
    },
    {
      "cell_type": "markdown",
      "metadata": {
        "id": "HZFVgyZukqP_",
        "colab_type": "text"
      },
      "source": [
        "## Que peut-on faire passer comme argument de fonction ?\n",
        "\n",
        "De nombreux types d'objets peuvent être passés comme arguments de fonctions, y compris d'autres fonctions. Ci-dessous\n",
        "est une fonction, `is_positive`, qui vérifie si la valeur d'une fonction $f$ évaluée à $x$ est positive :"
      ]
    },
    {
      "cell_type": "code",
      "metadata": {
        "id": "rm_51JLPkqQA",
        "colab_type": "code",
        "colab": {
          "base_uri": "https://localhost:8080/",
          "height": 50
        },
        "outputId": "e8eaa3e0-69ba-4e96-b75d-015f89d34332"
      },
      "source": [
        "def f0(x):\n",
        "    \"Calculer  x^2 - 1\"\n",
        "    return x*x - 1\n",
        "\n",
        "\n",
        "def f1(x):\n",
        "    \"Calculer  -x^2 + 2x + 1\"\n",
        "    return -x*x + 2*x + 1\n",
        "\n",
        "\n",
        "def is_positive(f, x):\n",
        "    \"Vérifiez si la valeur de la fonction f(x) est positive\"\n",
        "\n",
        "    # Evaluer la fonction passée dans la fonction pour la valeur de x  \n",
        "    # passés dans la fonction\n",
        "    if f(x) > 0:\n",
        "        return True\n",
        "    else:\n",
        "        return False\n",
        "\n",
        "    \n",
        "# Valeur de x pour laquelle nous voulons tester un signe de fonction\n",
        "x = 4.5\n",
        "\n",
        "# Fonction de test f0\n",
        "print(is_positive(f0, x))\n",
        "\n",
        "# Fonction de test f1\n",
        "print(is_positive(f1, x))"
      ],
      "execution_count": null,
      "outputs": [
        {
          "output_type": "stream",
          "text": [
            "True\n",
            "False\n"
          ],
          "name": "stdout"
        }
      ]
    },
    {
      "cell_type": "markdown",
      "metadata": {
        "id": "YjIBqreekqQF",
        "colab_type": "text"
      },
      "source": [
        "## Arguments par défaut\n",
        "\n",
        "Il peut parfois être utile pour les fonctions d'avoir des valeurs d'argument \"par défaut\" qui peuvent être remplacées. Dans certains cas, cela permet simplement d'économiser le travail du programmeur, qui peut écrire moins de code. Dans d'autres cas, cela peut nous permettre d'utiliser une fonction pour un plus large éventail de problèmes. Par exemple, nous pourrions utiliser la même fonction pour les vecteurs de longueur 2 et 3 si la valeur par défaut de la troisième composante est zéro.\n",
        "\n",
        "A titre d'exemple, nous considérons la position $r$ d'une particule ayant une position initiale $r_{0}$ et une vitesse initiale $v_{0}$, et soumise à une accélération $a$. La position $r$ est donnée par :  \n",
        "\n",
        "$$\n",
        "r = r_0 + v_0 t + \\frac{1}{2} a t^{2}\n",
        "$$\n",
        "\n",
        "Disons que pour une application particulière, l'accélération est presque toujours due à la gravité ($g$), et $g = 9,81$ m s$^{-1}$ est suffisamment précis dans la plupart des cas. De plus, la vitesse initiale est généralement nulle. On peut donc mettre en œuvre une fonction comme :"
      ]
    },
    {
      "cell_type": "code",
      "metadata": {
        "id": "MyM6nkcwkqQF",
        "colab_type": "code",
        "colab": {
          "base_uri": "https://localhost:8080/",
          "height": 34
        },
        "outputId": "f409f7c0-92b1-4353-fd08-2952b4c3276b"
      },
      "source": [
        "def position(t, r0, v0=0.0, a=-9.81):\n",
        "    \"Calculer la position d'une particule en accélération.\"\n",
        "    return r0 + v0*t + 0.5*a*t*t\n",
        "\n",
        "#Position après 0,2 s (t) lorsque l'on tombe d'une hauteur de 1 m (r0) \n",
        "# avec v0=0,0 et a=-9,81\n",
        "p = position(0.2, 1.0)\n",
        "print(p)"
      ],
      "execution_count": null,
      "outputs": [
        {
          "output_type": "stream",
          "text": [
            "0.8038\n"
          ],
          "name": "stdout"
        }
      ]
    },
    {
      "cell_type": "markdown",
      "metadata": {
        "id": "jp8ONJAqkqQJ",
        "colab_type": "text"
      },
      "source": [
        "À l'équateur, l'accélération due à la gravité est légèrement inférieure, et pour un cas où cette différence est importante, nous pouvons appeler la fonction avec l'accélération due à la gravité à l'équateur :"
      ]
    },
    {
      "cell_type": "code",
      "metadata": {
        "id": "_LDpkFvXkqQJ",
        "colab_type": "code",
        "colab": {
          "base_uri": "https://localhost:8080/",
          "height": 34
        },
        "outputId": "ef6bfcd7-3ec9-42a7-9930-ee20621f198a"
      },
      "source": [
        "# Position après 0,2 s (t) en cas de chute d'une hauteur de 1 m (r0)\n",
        "p = position(0.2, 1, 0.0, -9.78)\n",
        "print(p)"
      ],
      "execution_count": null,
      "outputs": [
        {
          "output_type": "stream",
          "text": [
            "0.8044\n"
          ],
          "name": "stdout"
        }
      ]
    },
    {
      "cell_type": "markdown",
      "metadata": {
        "id": "nu3n7HjGkqQN",
        "colab_type": "text"
      },
      "source": [
        "Notez que nous avons également dépassé la vitesse initiale - sinon le programme pourrait supposer que notre accélération était en fait la vitesse. Nous pouvons utiliser la vitesse par défaut et spécifier l'accélération en utilisant des arguments nommés : "
      ]
    },
    {
      "cell_type": "code",
      "metadata": {
        "id": "9n8GYJdrkqQN",
        "colab_type": "code",
        "colab": {},
        "outputId": "905ac4a4-6d05-4f25-b9ee-86c14dd2f210"
      },
      "source": [
        "# Position after 0.2 s (t) when dropped from a height of  1 m (r0)\n",
        "p = position(0.2, 1, a=-9.78)\n",
        "print(p)"
      ],
      "execution_count": null,
      "outputs": [
        {
          "output_type": "stream",
          "text": [
            "0.8044\n"
          ],
          "name": "stdout"
        }
      ]
    },
    {
      "cell_type": "markdown",
      "metadata": {
        "id": "eiI6MEZ0kqQR",
        "colab_type": "text"
      },
      "source": [
        "# Arguments de retour\n",
        "\n",
        "La plupart des fonctions, mais pas toutes, renvoient des données. Les exemples ci-dessus renvoient une valeur unique (objet), et un cas où il n'y a pas de valeur de retour. Les fonctions python peuvent avoir plus d'une valeur de retour. Par exemple, nous pourrions avoir une fonction qui prend trois valeurs et qui renvoie le maximum, le minimum et la moyenne, par exemple"
      ]
    },
    {
      "cell_type": "code",
      "metadata": {
        "id": "VFpyUL8QkqQS",
        "colab_type": "code",
        "colab": {},
        "outputId": "e66bf160-9be6-4a32-8ad8-85f42bc47e22"
      },
      "source": [
        "def compute_max_min_mean(x0, x1, x2):\n",
        "    \"Renvoyer les valeurs maximales, minimales et moyennes\"\n",
        "    \n",
        "    x_min = x0\n",
        "    if x1 < x_min:\n",
        "        x_min = x1\n",
        "    if x2 < x_min:\n",
        "        x_min = x2\n",
        "\n",
        "    x_max = x0\n",
        "    if x1 > x_max:\n",
        "        x_max = x1\n",
        "    if x2 > x_max:\n",
        "        x_max = x2\n",
        "\n",
        "    x_mean = (x0 + x1 + x2)/3    \n",
        "        \n",
        "    return x_min, x_max, x_mean\n",
        "\n",
        "\n",
        "xmin, xmax, xmean = compute_max_min_mean(0.5, 0.1, -20)\n",
        "print(xmin, xmax, xmean)"
      ],
      "execution_count": null,
      "outputs": [
        {
          "output_type": "stream",
          "text": [
            "-20 0.5 -6.466666666666666\n"
          ],
          "name": "stdout"
        }
      ]
    },
    {
      "cell_type": "markdown",
      "metadata": {
        "id": "os9CclmDkqQY",
        "colab_type": "text"
      },
      "source": [
        "Cette fonction fonctionne, mais nous verrons de meilleurs moyens de mettre en œuvre la fonctionnalité en utilisant des listes ou des tuples \n",
        "dans un notebook ultérieur."
      ]
    },
    {
      "cell_type": "markdown",
      "metadata": {
        "id": "ChR0V_XUkqQZ",
        "colab_type": "text"
      },
      "source": [
        "# Portée\n",
        "\n",
        "Les fonctions ont une portée locale, ce qui signifie que les variables qui sont déclarées à l'intérieur d'une fonction ne sont pas visibles en dehors de la fonction. C'est une très bonne chose - cela signifie que nous n'avons pas à nous soucier des variables déclarées à l'intérieur d'une fonction qui pourraient affecter de manière inattendue d'autres parties d'un programme. Voici un exemple simple :"
      ]
    },
    {
      "cell_type": "code",
      "metadata": {
        "id": "AzQQEr29kqQZ",
        "colab_type": "code",
        "colab": {
          "base_uri": "https://localhost:8080/",
          "height": 34
        },
        "outputId": "fe72f928-c45f-46f6-c1aa-7d08e78d099e"
      },
      "source": [
        "# Assigner 10.0 à la varibale a\n",
        "a = 10.0\n",
        "\n",
        "# Une fonction simple qui crée une variable \"a\" et renvoie la valeur\n",
        "def dummy():\n",
        "    c = 5\n",
        "    a = \"A simple function\"\n",
        "    return a\n",
        "\n",
        "# Appeler la fonction\n",
        "b = dummy()\n",
        "\n",
        "# Vérifiez que la déclaration de fonction \"a\" n'est pas affectée \n",
        "# la variable \"a\" en dehors de la fonction\n",
        "print(a)\n",
        "\n",
        "# Cela provoquerait une erreur - la variable c n'est pas visible en dehors de la fonction\n",
        "# print(c)"
      ],
      "execution_count": null,
      "outputs": [
        {
          "output_type": "stream",
          "text": [
            "10.0\n"
          ],
          "name": "stdout"
        }
      ]
    },
    {
      "cell_type": "markdown",
      "metadata": {
        "id": "BmW6H5jBkqQc",
        "colab_type": "text"
      },
      "source": [
        "La variable `a` qui est déclarée à l'extérieur de la fonction n'est pas affectée par ce qui est fait à l'intérieur de la fonction.\n",
        "De même, la variable `c` dans la fonction n'est pas 'visible' en dehors de la fonction. \n",
        "\n",
        "Il y a d'autres règles de cadrage que nous pouvons ignorer pour l'instant."
      ]
    },
    {
      "cell_type": "markdown",
      "metadata": {
        "id": "Bhicz5L_kqQd",
        "colab_type": "text"
      },
      "source": [
        "# Récursion avec les fonctions\n",
        "\n",
        "Une construction classique avec des fonctions est la récursion, c'est-à-dire lorsqu'une fonction fait des appels à elle-même. \n",
        "La récursion peut être très puissante, et parfois aussi très déroutante au début. Nous le démontrons par un exemple bien connu, la série de nombres de Fibonacci."
      ]
    },
    {
      "cell_type": "markdown",
      "metadata": {
        "collapsed": true,
        "id": "kUgqL8eNkqQd",
        "colab_type": "text"
      },
      "source": [
        "## Numéro de Fibonacci\n",
        "\n",
        "La série de Fibonacci est définie de manière récursive, c'est-à-dire que le terme $n$ième terme $f_{n}$ est calculé à partir des termes précédents $f_{n-1}$ et $f_{n-2}$ :\n",
        "\n",
        "$$\n",
        "f_n = f_{n-1} + f_{n-2}\n",
        "$$\n",
        "\n",
        "pour $n > 1$, et avec $f_0 = 0$ et $f_1 = 1$. "
      ]
    },
    {
      "cell_type": "markdown",
      "metadata": {
        "id": "8OH4xb9tkqQe",
        "colab_type": "text"
      },
      "source": [
        "Voici une fonction qui calcule le $n$ième nombre dans la séquence de Fibonacci en utilisant une boucle `for` à l'intérieur de la fonction."
      ]
    },
    {
      "cell_type": "code",
      "metadata": {
        "id": "G6yVUoFXkqQe",
        "colab_type": "code",
        "colab": {
          "base_uri": "https://localhost:8080/",
          "height": 34
        },
        "outputId": "b38fa54a-bcb9-4bac-f1e5-96d646adc486"
      },
      "source": [
        "def fib(n):\n",
        "    \"Calculer le nième nombre de Fibonacci\"\n",
        "    # Valeurs de départ pour f0 et f1\n",
        "    f0, f1 = 0, 1\n",
        "\n",
        "    # Traiter les cas n==0 et n===1\n",
        "    if n == 0:\n",
        "        return 0\n",
        "    elif n == 1:\n",
        "        return 1\n",
        "    \n",
        "    # Boucle de démarrage (à partir de n = 2)    \n",
        "    for i in range(2, n + 1):\n",
        "        # Calculer le terme suivant dans la séquence\n",
        "        f = f1 + f0\n",
        "\n",
        "        # Actualisation de f0 et f1   \n",
        "        f0 = f1\n",
        "        f1 = f\n",
        "\n",
        "    # Renvoi du numéro de Fibonacci\n",
        "    return f\n",
        "\n",
        "print(fib(10))"
      ],
      "execution_count": 1,
      "outputs": [
        {
          "output_type": "stream",
          "text": [
            "55\n"
          ],
          "name": "stdout"
        }
      ]
    },
    {
      "cell_type": "markdown",
      "metadata": {
        "id": "0_oh8CGakqQi",
        "colab_type": "text"
      },
      "source": [
        "Comme la séquence de Fibonacci a une structure récursive, avec le  $n$ème terme calculé à partir des termes $n-1$ et $n-2$, nous pourrions écrire une fonction qui utilise cette structure récursive :"
      ]
    },
    {
      "cell_type": "code",
      "metadata": {
        "id": "oFemlnd-kqQi",
        "colab_type": "code",
        "colab": {
          "base_uri": "https://localhost:8080/",
          "height": 34
        },
        "outputId": "3cfbff8a-2a27-4565-a745-e43ed48bc195"
      },
      "source": [
        "def f(n): \n",
        "    \" Calcule du nième nombre de Fibonacci en utilisant la récursion \"\n",
        "    if n == 0:\n",
        "        return 0  #  Cela n'appelle pas f, donc ça sort de la boucle de récursion\n",
        "    elif n == 1:\n",
        "        return 1  #  Cela n'appelle pas f, donc ça sort de la boucle de récursion\n",
        "    else:\n",
        "        return f(n - 1) + f(n - 2)  #  Ceci appelle f pour n-1 et n-2 (récursion), et retourne la somme  \n",
        "\n",
        "print(f(10))"
      ],
      "execution_count": 2,
      "outputs": [
        {
          "output_type": "stream",
          "text": [
            "55\n"
          ],
          "name": "stdout"
        }
      ]
    },
    {
      "cell_type": "markdown",
      "metadata": {
        "id": "ZAFjH6PqkqQl",
        "colab_type": "text"
      },
      "source": [
        "Comme prévu (si les mises en œuvre sont correctes), les deux mises en œuvre donnent le même résultat.\n",
        "La version récursive est simple et a une structure plus \"mathématique\". Il est bon qu'un programme qui exécute une tâche mathématique reflète étroitement le problème mathématique. Il est ainsi plus facile de comprendre à un haut niveau ce que fait le programme.\n",
        "\n",
        "Il faut veiller, lors de l'utilisation de la récursivité, à ce qu'un programme n'entre pas dans une boucle de récursivité infinie. Il doit y avoir un mécanisme permettant de \"sortir\" du cycle de récursion. "
      ]
    },
    {
      "cell_type": "markdown",
      "metadata": {
        "id": "RHp2HenYkqQm",
        "colab_type": "text"
      },
      "source": [
        "# Passez par valeur, référence ou objet\n",
        "\n",
        "*Cette section est à titre de référence et doit être ignorée si vous êtes nouveau dans la programmation. Elle n'est pas nécessaire pour ce cours mais peut être intéressante \n",
        "à ceux qui ont plus d'expérience.*\n",
        "\n",
        "Lorsqu'on passe quelque chose à une fonction, il est *passé par la valeur*, *passé par la référence* ou *passé par l'objet*.\n",
        "Le modèle dépend de la langue.\n",
        "\n",
        "Pass by value signifie que la version disponible à l'intérieur de la fonction est une copie de la valeur à l'extérieur. \n",
        "Voici un exemple simple :"
      ]
    },
    {
      "cell_type": "code",
      "metadata": {
        "id": "khIlow5ckqQn",
        "colab_type": "code",
        "colab": {
          "base_uri": "https://localhost:8080/",
          "height": 50
        },
        "outputId": "f567aa68-9af6-44a3-8cf0-2ff7a2214f5d"
      },
      "source": [
        "def mult_by_two(a):\n",
        "    a *= 2\n",
        "    print(\"Valeur de la variable \\'a\\' à l'intérieur de la fonction :\", a)\n",
        "    \n",
        "a = 5\n",
        "mult_by_two(a)\n",
        "print(\"Valeur de la variable \\'a\\' post-fonction :\", a)"
      ],
      "execution_count": 4,
      "outputs": [
        {
          "output_type": "stream",
          "text": [
            "Valeur de la variable 'a' à l'intérieur de la fonction : 10\n",
            "Valeur de la variable 'a' post-fonction : 5\n"
          ],
          "name": "stdout"
        }
      ]
    },
    {
      "cell_type": "markdown",
      "metadata": {
        "id": "3XfucWI4kqQq",
        "colab_type": "text"
      },
      "source": [
        "Passer par référence signifie que la version passée dans la fonction est modifiée, plutôt que de faire une copie."
      ]
    },
    {
      "cell_type": "code",
      "metadata": {
        "id": "8uXliVKUkqQq",
        "colab_type": "code",
        "colab": {
          "base_uri": "https://localhost:8080/",
          "height": 50
        },
        "outputId": "31226ee1-f550-471b-9be9-7cd4969ee270"
      },
      "source": [
        "a = [2, 3]\n",
        "mult_by_two(a)\n",
        "print(\"Valeur de la variable \\'a\\' post-function:\", a)"
      ],
      "execution_count": 5,
      "outputs": [
        {
          "output_type": "stream",
          "text": [
            "Valeur de la variable 'a' à l'intérieur de la fonction : [2, 3, 2, 3]\n",
            "Valeur de la variable 'a' post-function: [2, 3, 2, 3]\n"
          ],
          "name": "stdout"
        }
      ]
    },
    {
      "cell_type": "markdown",
      "metadata": {
        "id": "yAOxMmbRkqQt",
        "colab_type": "text"
      },
      "source": [
        "Python utilise le modèle \"pass-by-object\". Les comportements apparents dépendent des détails de l'objet qui est passé.\n",
        "Dans de nombreux cas, il s'agit clairement de renvoyer des objets. "
      ]
    },
    {
      "cell_type": "markdown",
      "metadata": {
        "id": "Ji0q95fGkqQu",
        "colab_type": "text"
      },
      "source": [
        "# Exercises\n",
        "\n",
        "Complete now the [04 Exercises](Exercises/04%20Exercises.ipynb) notebook."
      ]
    }
  ]
}