{
  "nbformat": 4,
  "nbformat_minor": 0,
  "metadata": {
    "kernelspec": {
      "display_name": "Python 3",
      "language": "python",
      "name": "python3"
    },
    "language_info": {
      "codemirror_mode": {
        "name": "ipython",
        "version": 3
      },
      "file_extension": ".py",
      "mimetype": "text/x-python",
      "name": "python",
      "nbconvert_exporter": "python",
      "pygments_lexer": "ipython3",
      "version": "3.6.6"
    },
    "colab": {
      "name": "fr 04 Functions.ipynb",
      "provenance": [],
      "include_colab_link": true
    }
  },
  "cells": [
    {
      "cell_type": "markdown",
      "metadata": {
        "id": "view-in-github",
        "colab_type": "text"
      },
      "source": [
        "<a href=\"https://colab.research.google.com/github/mohamedmhe/data-science-for-construction-edx-course-notebooks/blob/fr/Week%201%20-%20Python%20Fundamentals/fr_04_Functions.ipynb\" target=\"_parent\"><img src=\"https://colab.research.google.com/assets/colab-badge.svg\" alt=\"Open In Colab\"/></a>"
      ]
    },
    {
      "cell_type": "markdown",
      "metadata": {
        "id": "EAd9M1ewkqPf",
        "colab_type": "text"
      },
      "source": [
        "# Introduction\n",
        "\n",
        "Les fonctions sont l'un des concepts les plus importants en informatique.  Comme les fonctions mathématiques, elles prennent des données d'entrée et renvoient une ou plusieurs sorties. Les fonctions sont idéales pour les tâches répétitives qui effectuent une opération particulière\n",
        "sur différentes données d'entrée et renvoyer un résultat. Une fonction simple pourrait prendre les coordonnées des sommets d'un triangle et retourner la surface. Tout programme non trivial utilisera des fonctions et, dans de nombreux cas, aura de nombreuses fonctions.\n",
        "\n",
        "\n",
        "## Objectifs\n",
        "\n",
        "- Introduire la construction et l'utilisation des fonctions utilisateur\n",
        "- Retour de fonctions\n",
        "- Arguments par défaut\n",
        "- Récursion"
      ]
    },
    {
      "cell_type": "markdown",
      "metadata": {
        "id": "w97GOegLkqPh",
        "colab_type": "text"
      },
      "source": [
        "# Qu'est-ce qu'une fonction ?\n",
        "\n",
        "Voici une fonction Python qui prend deux arguments (`a` et `b`), et retourne `a + b + 1` :"
      ]
    },
    {
      "cell_type": "code",
      "metadata": {
        "id": "hdjq46nGkqPi",
        "colab_type": "code",
        "colab": {
          "base_uri": "https://localhost:8080/",
          "height": 50
        },
        "outputId": "1708b581-6eb2-4aaf-8422-e32e0378a09d"
      },
      "source": [
        "def sum_and_increment(a, b):\n",
        "    \"\"\"\"Renvoyer la somme de a et b, plus 1\"\"\"\n",
        "    return a + b + 1\n",
        "\n",
        "# Appeler la fonction\n",
        "m = sum_and_increment(3, 4)\n",
        "print(m)  # Attendez-vous à avoir 8\n",
        "\n",
        "# Appeler la fonction\n",
        "m = 10\n",
        "n = sum_and_increment(m, m)\n",
        "print(n)  # Attendez-vous à avoir  21"
      ],
      "execution_count": 1,
      "outputs": [
        {
          "output_type": "stream",
          "text": [
            "8\n",
            "21\n"
          ],
          "name": "stdout"
        }
      ]
    },
    {
      "cell_type": "markdown",
      "metadata": {
        "id": "opj6QU5skqPq",
        "colab_type": "text"
      },
      "source": [
        "En utilisant l'exemple ci-dessus comme modèle, nous pouvons examiner l'anatomie d'une fonction de Python.\n",
        "\n",
        "- Une fonction est déclarée en utilisant `def`, suivi par le nom de la fonction, `sum_and_increment`, suivi par la liste \n",
        "  d'arguments à passer à la fonction entre parenthèses, `(a, b)`, et terminée par un deux-points :\n",
        "  ```python\n",
        "  def sum_and_increment(a, b):\n",
        "  ```\n",
        "\n",
        "  \n",
        "\n",
        "- Vient ensuite le corps de la fonction. La première partie du corps est constituée de quatre espaces en retrait. \n",
        "  Tout ce qui fait \n",
        "  Le corps de la fonction est indenté d'au moins quatre espaces par rapport à `def`. \n",
        "  En Python, la première partie du corps est une chaîne de documentation optionnelle qui décrit en mots ce que la    \n",
        "  fonction fait \n",
        "  ```python  \n",
        "      \"Renvoyer la somme de a et b, plus 1\"\n",
        "  ```\n",
        "\n",
        "- Il est de bonne pratique d'inclure une 'docstring'.  Ce qui vient après la chaîne de documentation \n",
        "  est le code que la fonction exécute. À la fin d'une fonction, il y a généralement une déclaration de `return` ; celle-ci définit ce que  résultat que la fonction devrait retourner :\n",
        "  ```python\n",
        "      retour a + b + 1\n",
        "  ```\n",
        "Tout ce qui est indenté au même niveau (ou moins) que `def` tombe en dehors du corps de la fonction.\n",
        "\n",
        "La plupart des fonctions prennent des arguments et renvoient quelque chose, mais ce n'est pas strictement nécessaire.\n",
        "Voici un exemple de fonction qui ne prend aucun argument et ne renvoie aucune variable."
      ]
    },
    {
      "cell_type": "code",
      "metadata": {
        "id": "du29Kq6OkqPr",
        "colab_type": "code",
        "colab": {
          "base_uri": "https://localhost:8080/",
          "height": 34
        },
        "outputId": "e357367d-9c72-406a-9a5b-760d096f6334"
      },
      "source": [
        "def print_message():\n",
        "    print(\"La fonction 'print_message' a été appelée.\")\n",
        "\n",
        "print_message()"
      ],
      "execution_count": 2,
      "outputs": [
        {
          "output_type": "stream",
          "text": [
            "La fonction 'print_message' a été appelée.\n"
          ],
          "name": "stdout"
        }
      ]
    },
    {
      "cell_type": "markdown",
      "metadata": {
        "id": "TcuONE_3kqPv",
        "colab_type": "text"
      },
      "source": [
        "# Purpose\n",
        "\n",
        "Functions allow computer code to be re-used multiple times with different input data. It is good to re-use code as much as possible because we then focus testing and debugging efforts, and maybe also optimisations, on small pieces of code that are then re-used. The more code that is written, the less frequently sections of code are used, and as a consequence the greater the likelihood of errors.\n",
        "\n",
        "Functions can also enhance the readability of a program, and make it easier to collaborate with others. Functions allow us to focus on *what* a program does at a high level \n",
        "rather than the details of *how* it does it. Low-level implementation details are *encapsulated* in functions. To understand at a high level what a program does, we usually just need to know what data is passed into a function and what the function returns. It is not necessary to know the precise details of how a function is implemented to grasp the structure of a program and how it works. For example, we might need to know that a function computes and returns $\\sin(x)$; we don't usually need to know *how* it computes sine.\n",
        "\n",
        "Below is a simple example of a function being 'called' numerous times from inside a `for` loop."
      ]
    },
    {
      "cell_type": "code",
      "metadata": {
        "id": "eU_2gqrHkqPw",
        "colab_type": "code",
        "colab": {},
        "outputId": "dce9c383-07b9-4207-855a-f77edb984508"
      },
      "source": [
        "def process_value(x):\n",
        "    \"Return a value that depends on the input value x \"\n",
        "    if x > 10:\n",
        "        return 0\n",
        "    elif x > 5:\n",
        "        return x*x\n",
        "    elif x > 0:\n",
        "        return x**3\n",
        "    else:\n",
        "        return x\n",
        "\n",
        "    \n",
        "print(\"Case A: 3 values\")    \n",
        "for y in range(3):\n",
        "    print(process_value(y))\n",
        "\n",
        "print(\"Case B: 12 values\")    \n",
        "for y in range(12):\n",
        "    print(process_value(y))"
      ],
      "execution_count": null,
      "outputs": [
        {
          "output_type": "stream",
          "text": [
            "Case A: 3 values\n",
            "0\n",
            "1\n",
            "8\n",
            "Case B: 12 values\n",
            "0\n",
            "1\n",
            "8\n",
            "27\n",
            "64\n",
            "125\n",
            "36\n",
            "49\n",
            "64\n",
            "81\n",
            "100\n",
            "0\n"
          ],
          "name": "stdout"
        }
      ]
    },
    {
      "cell_type": "markdown",
      "metadata": {
        "id": "Y7UBuymLkqP1",
        "colab_type": "text"
      },
      "source": [
        "Using a function, we did not have to duplicate the `if-elif-else` statement inside each loop\n",
        "we re-used it.\n",
        "With a function we only have to change the way in which we process the number `x` in one place."
      ]
    },
    {
      "cell_type": "markdown",
      "metadata": {
        "id": "pK_rZPC-kqP2",
        "colab_type": "text"
      },
      "source": [
        "# Function arguments\n",
        "\n",
        "The order in which function arguments are listed in the function declaration is in general the order in which arguments should be passed to a function. \n",
        "\n",
        "For the function `sum_and_increment` that was declared above, we could switch the order of the arguments and the result would not change because we are simply summing the input arguments. But, if we were to subtract one argument from the other, the result would depend on the input order:"
      ]
    },
    {
      "cell_type": "code",
      "metadata": {
        "id": "Pe_Pfwq0kqP2",
        "colab_type": "code",
        "colab": {},
        "outputId": "3d478e61-4799-4c02-ec76-b142a0da42a9"
      },
      "source": [
        "def subtract_and_increment(a, b):\n",
        "    \"Return a minus b, plus 1\"\n",
        "    return a - b + 1\n",
        "\n",
        "alpha, beta = 3, 5  # This is short hand notation for alpha = 3\n",
        "                    #                                 beta = 5\n",
        "\n",
        "# Call the function and print the return value\n",
        "print(subtract_and_increment(alpha, beta))  # Expect -1\n",
        "print(subtract_and_increment(beta, alpha))  # Expect 3"
      ],
      "execution_count": null,
      "outputs": [
        {
          "output_type": "stream",
          "text": [
            "-1\n",
            "3\n"
          ],
          "name": "stdout"
        }
      ]
    },
    {
      "cell_type": "markdown",
      "metadata": {
        "id": "3dt0Cb7dkqP6",
        "colab_type": "text"
      },
      "source": [
        "For more complicated functions we might have numerous arguments. Consequently, it becomes easier to get the wrong order by accident when calling the function (which results in a bug). In Python, we can reduce the likelihood of an error by using *named* arguments, in which case order will not matter, e.g.:"
      ]
    },
    {
      "cell_type": "code",
      "metadata": {
        "id": "0xEJY1u8kqP7",
        "colab_type": "code",
        "colab": {},
        "outputId": "557ffe48-908e-436d-a47d-946ffb586608"
      },
      "source": [
        "print(subtract_and_increment(a=alpha, b=beta))  # Expect -1\n",
        "print(subtract_and_increment(b=beta, a=alpha))  # Expect -1"
      ],
      "execution_count": null,
      "outputs": [
        {
          "output_type": "stream",
          "text": [
            "-1\n",
            "-1\n"
          ],
          "name": "stdout"
        }
      ]
    },
    {
      "cell_type": "markdown",
      "metadata": {
        "id": "AQSOgg-2kqP-",
        "colab_type": "text"
      },
      "source": [
        "Using named arguments can often enhance program readability and reduce errors."
      ]
    },
    {
      "cell_type": "markdown",
      "metadata": {
        "id": "HZFVgyZukqP_",
        "colab_type": "text"
      },
      "source": [
        "## What can be passed as a function argument?\n",
        "\n",
        "Many object types can be passed as arguments to functions, including other functions. Below\n",
        "is a function, `is_positive`, that checks if the value of a function $f$ evaluated at $x$ is positive:"
      ]
    },
    {
      "cell_type": "code",
      "metadata": {
        "id": "rm_51JLPkqQA",
        "colab_type": "code",
        "colab": {},
        "outputId": "12bdda4e-10a3-436e-99f4-954b42425976"
      },
      "source": [
        "def f0(x):\n",
        "    \"Compute x^2 - 1\"\n",
        "    return x*x - 1\n",
        "\n",
        "\n",
        "def f1(x):\n",
        "    \"Compute -x^2 + 2x + 1\"\n",
        "    return -x*x + 2*x + 1\n",
        "\n",
        "\n",
        "def is_positive(f, x):\n",
        "    \"Check if the function value f(x) is positive\"\n",
        "\n",
        "    # Evaluate the function passed into the function for the value of x \n",
        "    # passed into the function\n",
        "    if f(x) > 0:\n",
        "        return True\n",
        "    else:\n",
        "        return False\n",
        "\n",
        "    \n",
        "# Value of x for which we want to test a function sign\n",
        "x = 4.5\n",
        "\n",
        "# Test function f0\n",
        "print(is_positive(f0, x))\n",
        "\n",
        "# Test function f1\n",
        "print(is_positive(f1, x))"
      ],
      "execution_count": null,
      "outputs": [
        {
          "output_type": "stream",
          "text": [
            "True\n",
            "False\n"
          ],
          "name": "stdout"
        }
      ]
    },
    {
      "cell_type": "markdown",
      "metadata": {
        "id": "YjIBqreekqQF",
        "colab_type": "text"
      },
      "source": [
        "## Default arguments\n",
        "\n",
        "It can sometimes be helpful for functions to have 'default' argument values which can be overridden. In some cases it just saves the programmer effort - they can write less code. In other cases it can allow us to use a function for a wider range of problems. For example, we could use the same function for vectors of length 2 and 3 if the default value for the third component is zero.\n",
        "\n",
        "As an example we consider the position $r$ of a particle with initial position $r_{0}$ and initial velocity $v_{0}$, and subject to an acceleration $a$. The position $r$ is given by:  \n",
        "\n",
        "$$\n",
        "r = r_0 + v_0 t + \\frac{1}{2} a t^{2}\n",
        "$$\n",
        "\n",
        "Say for a particular application the acceleration is almost always due to gravity ($g$), and $g = 9.81$ m s$^{-1}$ is sufficiently accurate in most cases. Moreover, the initial velocity is usually zero. We might therefore implement a function as:"
      ]
    },
    {
      "cell_type": "code",
      "metadata": {
        "id": "MyM6nkcwkqQF",
        "colab_type": "code",
        "colab": {},
        "outputId": "26c02d5a-3e1e-4e81-cc09-766545086289"
      },
      "source": [
        "def position(t, r0, v0=0.0, a=-9.81):\n",
        "    \"Compute position of an accelerating particle.\"\n",
        "    return r0 + v0*t + 0.5*a*t*t\n",
        "\n",
        "# Position after 0.2 s (t) when dropped from a height of 1 m (r0) \n",
        "# with v0=0.0 and a=-9.81\n",
        "p = position(0.2, 1.0)\n",
        "print(p)"
      ],
      "execution_count": null,
      "outputs": [
        {
          "output_type": "stream",
          "text": [
            "0.8038\n"
          ],
          "name": "stdout"
        }
      ]
    },
    {
      "cell_type": "markdown",
      "metadata": {
        "id": "jp8ONJAqkqQJ",
        "colab_type": "text"
      },
      "source": [
        "At the equator, the acceleration due to gravity is slightly less, and for a case where this difference is important we can call the function with the acceleration due to gravity at the equator:"
      ]
    },
    {
      "cell_type": "code",
      "metadata": {
        "id": "_LDpkFvXkqQJ",
        "colab_type": "code",
        "colab": {},
        "outputId": "7b20677b-025e-41b3-84af-b006d37b6a14"
      },
      "source": [
        "# Position after 0.2 s (t) when dropped from a height of  1 m (r0)\n",
        "p = position(0.2, 1, 0.0, -9.78)\n",
        "print(p)"
      ],
      "execution_count": null,
      "outputs": [
        {
          "output_type": "stream",
          "text": [
            "0.8044\n"
          ],
          "name": "stdout"
        }
      ]
    },
    {
      "cell_type": "markdown",
      "metadata": {
        "id": "nu3n7HjGkqQN",
        "colab_type": "text"
      },
      "source": [
        "Note that we have also passed the initial velocity - otherwise the program might assume that our acceleration was in fact the velocity. We can use the default velocity and specify the acceleration by using named arguments: "
      ]
    },
    {
      "cell_type": "code",
      "metadata": {
        "id": "9n8GYJdrkqQN",
        "colab_type": "code",
        "colab": {},
        "outputId": "905ac4a4-6d05-4f25-b9ee-86c14dd2f210"
      },
      "source": [
        "# Position after 0.2 s (t) when dropped from a height of  1 m (r0)\n",
        "p = position(0.2, 1, a=-9.78)\n",
        "print(p)"
      ],
      "execution_count": null,
      "outputs": [
        {
          "output_type": "stream",
          "text": [
            "0.8044\n"
          ],
          "name": "stdout"
        }
      ]
    },
    {
      "cell_type": "markdown",
      "metadata": {
        "id": "eiI6MEZ0kqQR",
        "colab_type": "text"
      },
      "source": [
        "# Return arguments\n",
        "\n",
        "Most functions, but not all, return data. Above are examples that return a single value (object), and one case where there is no return value. Python functions can have more than one return value. For example, we could have a function that takes three values and returns the maximum, the minimum and the mean, e.g."
      ]
    },
    {
      "cell_type": "code",
      "metadata": {
        "id": "VFpyUL8QkqQS",
        "colab_type": "code",
        "colab": {},
        "outputId": "e66bf160-9be6-4a32-8ad8-85f42bc47e22"
      },
      "source": [
        "def compute_max_min_mean(x0, x1, x2):\n",
        "    \"Return maximum, minimum and mean values\"\n",
        "    \n",
        "    x_min = x0\n",
        "    if x1 < x_min:\n",
        "        x_min = x1\n",
        "    if x2 < x_min:\n",
        "        x_min = x2\n",
        "\n",
        "    x_max = x0\n",
        "    if x1 > x_max:\n",
        "        x_max = x1\n",
        "    if x2 > x_max:\n",
        "        x_max = x2\n",
        "\n",
        "    x_mean = (x0 + x1 + x2)/3    \n",
        "        \n",
        "    return x_min, x_max, x_mean\n",
        "\n",
        "\n",
        "xmin, xmax, xmean = compute_max_min_mean(0.5, 0.1, -20)\n",
        "print(xmin, xmax, xmean)"
      ],
      "execution_count": null,
      "outputs": [
        {
          "output_type": "stream",
          "text": [
            "-20 0.5 -6.466666666666666\n"
          ],
          "name": "stdout"
        }
      ]
    },
    {
      "cell_type": "markdown",
      "metadata": {
        "id": "os9CclmDkqQY",
        "colab_type": "text"
      },
      "source": [
        "This function works, but we will see better ways to implement the functionality using lists or tuples \n",
        "in a later notebook."
      ]
    },
    {
      "cell_type": "markdown",
      "metadata": {
        "id": "ChR0V_XUkqQZ",
        "colab_type": "text"
      },
      "source": [
        "# Scope\n",
        "\n",
        "Functions have local scope, which means that variables that are declared inside a function are not visible outside the function. This is a very good thing - it means that we do not have to worry about variables declared inside a function unexpectedly affecting other parts of a program. Here is a simple example:"
      ]
    },
    {
      "cell_type": "code",
      "metadata": {
        "id": "AzQQEr29kqQZ",
        "colab_type": "code",
        "colab": {},
        "outputId": "ddcbfed8-00a1-4dec-99e0-9d128e7a3c07"
      },
      "source": [
        "# Assign 10.0 to the varibale a\n",
        "a = 10.0\n",
        "\n",
        "# A simple function that creates a variable 'a' and returns the value\n",
        "def dummy():\n",
        "    c = 5\n",
        "    a = \"A simple function\"\n",
        "    return a\n",
        "\n",
        "# Call the function\n",
        "b = dummy()\n",
        "\n",
        "# Check that the function declaration of 'a' has not affected \n",
        "# the variable 'a' outside of the function\n",
        "print(a)\n",
        "\n",
        "# This would throw an error - the variable c is not visible outside of the function\n",
        "# print(c)"
      ],
      "execution_count": null,
      "outputs": [
        {
          "output_type": "stream",
          "text": [
            "10.0\n"
          ],
          "name": "stdout"
        }
      ]
    },
    {
      "cell_type": "markdown",
      "metadata": {
        "id": "BmW6H5jBkqQc",
        "colab_type": "text"
      },
      "source": [
        "The variable `a` that is declared outside of the function is unaffected by what is done inside the function.\n",
        "Similarly, the variable `c` in the function is not 'visible' outside of the function. \n",
        "\n",
        "There is more to scoping rules that we can skip over for now."
      ]
    },
    {
      "cell_type": "markdown",
      "metadata": {
        "id": "Bhicz5L_kqQd",
        "colab_type": "text"
      },
      "source": [
        "# Recursion with functions\n",
        "\n",
        "A classic construction with functions is recursion, which is when a function makes calls to itself. \n",
        "Recursion can be very powerful, and sometimes also quite confusing at first. We demonstrate with a well-known example, the Fibonacci series of numbers."
      ]
    },
    {
      "cell_type": "markdown",
      "metadata": {
        "collapsed": true,
        "id": "kUgqL8eNkqQd",
        "colab_type": "text"
      },
      "source": [
        "## Fibonacci number\n",
        "\n",
        "The Fibonacci series is defined recursively, i.e. the $n$th term $f_{n}$ is computed from the preceding terms $f_{n-1}$ and $f_{n-2}$:\n",
        "\n",
        "$$\n",
        "f_n = f_{n-1} + f_{n-2}\n",
        "$$\n",
        "\n",
        "for $n > 1$, and with $f_0 = 0$ and $f_1 = 1$. "
      ]
    },
    {
      "cell_type": "markdown",
      "metadata": {
        "id": "8OH4xb9tkqQe",
        "colab_type": "text"
      },
      "source": [
        "Below is a function that computes the $n$th number in the Fibonacci sequence using a `for` loop inside the function."
      ]
    },
    {
      "cell_type": "code",
      "metadata": {
        "id": "G6yVUoFXkqQe",
        "colab_type": "code",
        "colab": {},
        "outputId": "07a8b047-6ac9-4736-87e0-faabc39acdda"
      },
      "source": [
        "def fib(n):\n",
        "    \"Compute the nth Fibonacci number\"\n",
        "    # Starting values for f0 and f1\n",
        "    f0, f1 = 0, 1\n",
        "\n",
        "    # Handle cases n==0 and n==1\n",
        "    if n == 0:\n",
        "        return 0\n",
        "    elif n == 1:\n",
        "        return 1\n",
        "    \n",
        "    # Start loop (from n = 2)    \n",
        "    for i in range(2, n + 1):\n",
        "        # Compute next term in sequence\n",
        "        f = f1 + f0\n",
        "\n",
        "        # Update f0 and f1    \n",
        "        f0 = f1\n",
        "        f1 = f\n",
        "\n",
        "    # Return Fibonacci number\n",
        "    return f\n",
        "\n",
        "print(fib(10))"
      ],
      "execution_count": null,
      "outputs": [
        {
          "output_type": "stream",
          "text": [
            "55\n"
          ],
          "name": "stdout"
        }
      ]
    },
    {
      "cell_type": "markdown",
      "metadata": {
        "id": "0_oh8CGakqQi",
        "colab_type": "text"
      },
      "source": [
        "Since the Fibonacci sequence has a recursive structure, with the $n$th term computed from the $n-1$ and $n-2$ terms, we could write a function that uses this recursive structure:"
      ]
    },
    {
      "cell_type": "code",
      "metadata": {
        "id": "oFemlnd-kqQi",
        "colab_type": "code",
        "colab": {},
        "outputId": "10c91f9e-f327-4644-e9c6-946be3371c84"
      },
      "source": [
        "def f(n): \n",
        "    \"Compute the nth Fibonacci number using recursion\"\n",
        "    if n == 0:\n",
        "        return 0  # This doesn't call f, so it breaks out of the recursion loop\n",
        "    elif n == 1:\n",
        "        return 1  # This doesn't call f, so it breaks out of the recursion loop\n",
        "    else:\n",
        "        return f(n - 1) + f(n - 2)  # This calls f for n-1 and n-2 (recursion), and returns the sum \n",
        "\n",
        "print(f(10))"
      ],
      "execution_count": null,
      "outputs": [
        {
          "output_type": "stream",
          "text": [
            "55\n"
          ],
          "name": "stdout"
        }
      ]
    },
    {
      "cell_type": "markdown",
      "metadata": {
        "id": "ZAFjH6PqkqQl",
        "colab_type": "text"
      },
      "source": [
        "As expected (if the implementations are correct) the two implementations return the same result.\n",
        "The recursive version is simple and has a more 'mathematical' structure. It is good that a program which performs a mathematical task closely reflects the mathematical problem. It makes it easier to comprehend at a high level what the program does.\n",
        "\n",
        "Care needs to be taken when using recursion that a program does not enter an infinite recursion loop. There must be a mechanism to 'break out' of the recursion cycle. "
      ]
    },
    {
      "cell_type": "markdown",
      "metadata": {
        "id": "RHp2HenYkqQm",
        "colab_type": "text"
      },
      "source": [
        "# Pass by  value, reference or object\n",
        "\n",
        "*This section is for reference and should be skipped if you are new to programming. It is not necessary for this course but may be of interest \n",
        "to those with more experience.*\n",
        "\n",
        "When passing something to a function, it is *passed by value*, *passed by reference*, or *passed by object*.\n",
        "The model depends on the language.\n",
        "\n",
        "Pass by value means that the version available inside the function is a copy of the value outside. \n",
        "A simple example is:"
      ]
    },
    {
      "cell_type": "code",
      "metadata": {
        "id": "khIlow5ckqQn",
        "colab_type": "code",
        "colab": {},
        "outputId": "e10fbcb4-e383-46ea-9659-0cca8d78883c"
      },
      "source": [
        "def mult_by_two(a):\n",
        "    a *= 2\n",
        "    print(\"Value of variable \\'a\\' inside function:\", a)\n",
        "    \n",
        "a = 5\n",
        "mult_by_two(a)\n",
        "print(\"Value of variable \\'a\\' post-function:\", a)"
      ],
      "execution_count": null,
      "outputs": [
        {
          "output_type": "stream",
          "text": [
            "Value of variable 'a' inside function: 10\n",
            "Value of variable 'a' post-function: 5\n"
          ],
          "name": "stdout"
        }
      ]
    },
    {
      "cell_type": "markdown",
      "metadata": {
        "id": "3XfucWI4kqQq",
        "colab_type": "text"
      },
      "source": [
        "Pass by reference means that the version passed into the function is modified, rather than a copy being made."
      ]
    },
    {
      "cell_type": "code",
      "metadata": {
        "id": "8uXliVKUkqQq",
        "colab_type": "code",
        "colab": {},
        "outputId": "38c163f1-536d-4d61-969f-8312ff2148ef"
      },
      "source": [
        "a = [2, 3]\n",
        "mult_by_two(a)\n",
        "print(\"Value of variable \\'a\\' post-function:\", a)"
      ],
      "execution_count": null,
      "outputs": [
        {
          "output_type": "stream",
          "text": [
            "Value of variable 'a' inside function: [2, 3, 2, 3]\n",
            "Value of variable 'a' post-function: [2, 3, 2, 3]\n"
          ],
          "name": "stdout"
        }
      ]
    },
    {
      "cell_type": "markdown",
      "metadata": {
        "id": "yAOxMmbRkqQt",
        "colab_type": "text"
      },
      "source": [
        "Python uses the pass-by-object model. The apparent behaviours depends on the details of the object being passed.\n",
        "In many cases it is clearly to return objects. "
      ]
    },
    {
      "cell_type": "markdown",
      "metadata": {
        "id": "Ji0q95fGkqQu",
        "colab_type": "text"
      },
      "source": [
        "# Exercises\n",
        "\n",
        "Complete now the [04 Exercises](Exercises/04%20Exercises.ipynb) notebook."
      ]
    }
  ]
}