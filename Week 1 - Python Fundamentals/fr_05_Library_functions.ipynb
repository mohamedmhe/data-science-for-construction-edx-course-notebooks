{
  "nbformat": 4,
  "nbformat_minor": 0,
  "metadata": {
    "kernelspec": {
      "display_name": "Python 3",
      "language": "python",
      "name": "python3"
    },
    "language_info": {
      "codemirror_mode": {
        "name": "ipython",
        "version": 3
      },
      "file_extension": ".py",
      "mimetype": "text/x-python",
      "name": "python",
      "nbconvert_exporter": "python",
      "pygments_lexer": "ipython3",
      "version": "3.6.6"
    },
    "colab": {
      "name": "fr 05 Library functions.ipynb",
      "provenance": [],
      "collapsed_sections": [],
      "include_colab_link": true
    }
  },
  "cells": [
    {
      "cell_type": "markdown",
      "metadata": {
        "id": "view-in-github",
        "colab_type": "text"
      },
      "source": [
        "<a href=\"https://colab.research.google.com/github/mohamedmhe/data-science-for-construction-edx-course-notebooks/blob/fr/Week%201%20-%20Python%20Fundamentals/fr_05_Library_functions.ipynb\" target=\"_parent\"><img src=\"https://colab.research.google.com/assets/colab-badge.svg\" alt=\"Open In Colab\"/></a>"
      ]
    },
    {
      "cell_type": "markdown",
      "metadata": {
        "id": "zY7auAllZnaZ",
        "colab_type": "text"
      },
      "source": [
        "# Introduction\n",
        "\n",
        "Les langages de programmation modernes se caractérisent par une vaste bibliothèque de fonctions standard. Cela signifie que nous pouvons utiliser des fonctions standard, bien testées et optimisées\n",
        "pour accomplir des tâches communes plutôt que d'écrire les nôtres. Cela rend nos programmes plus courts et de meilleure qualité, et dans la plupart des cas plus rapides.\n",
        "\n",
        "\n",
        "\n",
        "## Objectifs\n",
        "\n",
        "- Introduire l'utilisation des fonctions standard de la bibliothèque\n",
        "- Importation et utilisation des modules\n",
        "- Introduction aux espaces de noms\n",
        "- Mise en forme des flotteurs pour l'impression"
      ]
    },
    {
      "cell_type": "markdown",
      "metadata": {
        "id": "C04ZqcboZnab",
        "colab_type": "text"
      },
      "source": [
        "# The standard library\n",
        "\n",
        "You have already used some standard library types and functions. In previous activities we have used built-in types like `string` and `float`, and the function `abs` for absolute value. We have made use of the standard library function `print` to display to the screen.\n",
        "\n",
        "Python has a large standard library. To organise it, most functionality is arranged into 'modules', with each module providing a range of related functions. Before you program a function, check if there is a library function that can perform the task. The Python standard library is documented at https://docs.python.org/3/library/.\n",
        "Search engines are a good way to find library functions, e.g. entering \"Is there a Python function to compute the hyperbolic tangent of a complex number\" into a search engine will take you to the function `cmath.tanh`. Try this link: http://bfy.tw/7aMc.\n",
        "\n",
        "--------------------\n",
        "# La bibliothèque standard\n",
        "\n",
        "Vous avez déjà utilisé certains types de bibliothèques et fonctions standard. Dans les activités précédentes, nous avons utilisé des types intégrés comme `string` et `float`, et la fonction `abs` pour la valeur absolue. Nous avons utilisé la fonction de bibliothèque standard `print` pour l'affichage à l'écran.\n",
        "\n",
        "Python dispose d'une grande bibliothèque standard. Pour l'organiser, la plupart des fonctionnalités sont organisées en \"modules\", chaque module fournissant une série de fonctions connexes. Avant de programmer une fonction, vérifiez s'il existe une fonction de bibliothèque qui peut exécuter la tâche. La bibliothèque standard de Python est documentée sur https://docs.python.org/3/library/.\n",
        "Les moteurs de recherche sont un bon moyen de trouver des fonctions de bibliothèque. Par exemple, en entrant \"existe-t-il une fonction Python pour calculer la tangente hyperbolique d'un nombre complexe\" dans un moteur de recherche, vous arriverez à la fonction `cmath.tanh`. Essayez ce lien : http://bfy.tw/7aMc."
      ]
    },
    {
      "cell_type": "markdown",
      "metadata": {
        "id": "p4-sDFQkZnac",
        "colab_type": "text"
      },
      "source": [
        "# Autres bibliothèques\n",
        "\n",
        "Les outils standard de la bibliothèque sont d'usage général et seront disponibles dans tout environnement Python.\n",
        "Les outils spécialisés sont généralement mis à disposition dans d'autres bibliothèques (modules). Il existe un grand nombre de bibliothèques Python disponibles pour les problèmes spécialisés. Nous avons déjà utilisé certaines parties\n",
        "de NumPy (http://www.numpy.org/), qui est une bibliothèque spécialisée dans le calcul numérique. \n",
        "Elle offre à peu près les mêmes fonctionnalités que MATLAB. \n",
        "\n",
        "La façon la plus simple d'installer une bibliothèque non standard est d'utiliser la commande `pip`. En ligne de commande, la bibliothèque NumPy est installée à l'aide de\n",
        "\n",
        "    pip install numpy\n",
        "    \n",
        "et de l'intérieur un ordinateur portable Jupyter utiliser :\n",
        "\n",
        "    !pip install numpy\n",
        "\n",
        "NumPy est si couramment utilisé qu'il est probablement déjà installé sur les ordinateurs que vous utiliserez.\n",
        "Vous verrez `pip` être utilisé dans certains ordinateurs portables ultérieurs pour installer des outils à usage spécifique.\n",
        "\n",
        "Lors du développement de programmes en dehors des exercices d'apprentissage,\n",
        "s'il n'existe pas de module de bibliothèque standard pour un problème que vous essayez de résoudre, \n",
        "recherchez en ligne un module avant de mettre en œuvre le vôtre."
      ]
    },
    {
      "cell_type": "markdown",
      "metadata": {
        "id": "NEfCx4MkZnad",
        "colab_type": "text"
      },
      "source": [
        "# Utiliser les fonctions de la bibliothèque : exemple de `math`.\n",
        "\n",
        "Pour utiliser une fonction d'un module, nous devons la rendre disponible dans notre programme. \n",
        "C'est ce qu'on appelle l'importation. Nous l'avons fait dans des cahiers précédents avec le module `math`, mais sans explication. Le processus est expliqué ci-dessous.\n",
        "\n",
        "Le module `math` (https://docs.python.org/3/library/math.html) fournit un large éventail de fonctions mathématiques. Par exemple, pour calculer la racine carrée d'un nombre, nous le faisons :"
      ]
    },
    {
      "cell_type": "code",
      "metadata": {
        "id": "kieKP6-SZnae",
        "colab_type": "code",
        "colab": {
          "base_uri": "https://localhost:8080/",
          "height": 35
        },
        "outputId": "d2240ed5-ba42-45e2-ccc4-eacf0d2a7900"
      },
      "source": [
        "import math\n",
        "\n",
        "x = 2.0\n",
        "x = math.sqrt(x)\n",
        "print(x)"
      ],
      "execution_count": 1,
      "outputs": [
        {
          "output_type": "stream",
          "text": [
            "1.4142135623730951\n"
          ],
          "name": "stdout"
        }
      ]
    },
    {
      "cell_type": "markdown",
      "metadata": {
        "id": "ZPmJtx4gZnan",
        "colab_type": "text"
      },
      "source": [
        "En disséquant le bloc de code ci-dessus, la ligne \n",
        "```python\n",
        "import math \n",
        "```\n",
        "met le module de math à disposition dans notre programme. C'est un bon style de mettre toutes les déclarations `import` en haut d'un fichier (ou en haut d'une cellule quand on utilise un notebook Jupyter). \n",
        "\n",
        "L'appel de fonction\n",
        "```python\n",
        "x = math.sqrt(x)\n",
        "```    \n",
        "dit \"utilisez la fonction `sqrt` du module `math` pour calculer la racine carrée\".\n",
        "\n",
        "En préfixant `sqrt` par `math`, nous utilisons un *espace de nommage* (qui dans ce cas est `math`).\n",
        "Cela indique clairement quelle fonction `sqrt` nous voulons utiliser - il peut y avoir plus d'une fonction `sqrt` disponible.\n",
        "\n",
        "> Le préfixe \"math\" indique la fonction \"sqrt\" que nous voulons utiliser. Ce\n",
        "peut sembler pédant, mais en pratique, il existe souvent différents algorithmes pour effectuer la même opération ou une opération similaire. Ils peuvent varier en vitesse et en précision. Dans certaines applications, nous pouvons avoir besoin d'une méthode précise (mais lente) pour calculer la racine carrée, tandis que dans d'autres, nous pouvons avoir besoin de vitesse avec un compromis sur la précision. Mais, si deux fonctions portent le même nom et ne sont pas distinguées par un espace nom, nous avons un *collision de noms*.\n",
        "\n",
        "> Dans un grand programme, deux développeurs peuvent choisir le même nom pour deux fonctions qui effectuent des tâches similaires mais légèrement différentes. Si ces fonctions se trouvent dans des modules différents, il n'y aura pas de conflit de noms puisque le nom du module fournit un \"espace de noms\" - un préfixe qui permet de distinguer les deux fonctions. Les espaces de noms sont extrêmement utiles pour les programmes à plusieurs auteurs. Une faiblesse des anciens langages, comme le C et le Fortran, est qu'ils ne supportent pas les espaces de noms. La plupart des langages modernes supportent les espaces de noms.  \n",
        "\n",
        "Nous pouvons importer des fonctions spécifiques à partir d'un module, par exemple en n'important que la fonction `sqrt` :"
      ]
    },
    {
      "cell_type": "code",
      "metadata": {
        "id": "f3ngpwTIZnan",
        "colab_type": "code",
        "colab": {
          "base_uri": "https://localhost:8080/",
          "height": 35
        },
        "outputId": "cd8df554-ef22-420c-f783-ce38499ee6f3"
      },
      "source": [
        "from math import sqrt\n",
        "\n",
        "x = 2.0\n",
        "x = sqrt(x)\n",
        "print(x)"
      ],
      "execution_count": 2,
      "outputs": [
        {
          "output_type": "stream",
          "text": [
            "1.4142135623730951\n"
          ],
          "name": "stdout"
        }
      ]
    },
    {
      "cell_type": "markdown",
      "metadata": {
        "id": "UiYox37-Znar",
        "colab_type": "text"
      },
      "source": [
        "De cette façon, nous n'importons (mettons à disposition) que la fonction `sqrt` du module `math` (le module `math` a un grand nombre de fonctions).\n",
        "\n",
        "Nous pouvons même choisir de renommer les fonctions que nous importons :"
      ]
    },
    {
      "cell_type": "code",
      "metadata": {
        "id": "2ofx_v3KZnas",
        "colab_type": "code",
        "colab": {
          "base_uri": "https://localhost:8080/",
          "height": 35
        },
        "outputId": "5a3d7537-07e5-4fab-ea84-89f921f2f717"
      },
      "source": [
        "from math import sqrt as some_math_function \n",
        "\n",
        "x = 2.0\n",
        "x = some_math_function(x)\n",
        "print(x)"
      ],
      "execution_count": 3,
      "outputs": [
        {
          "output_type": "stream",
          "text": [
            "1.4142135623730951\n"
          ],
          "name": "stdout"
        }
      ]
    },
    {
      "cell_type": "markdown",
      "metadata": {
        "id": "V8fGvpNIZnav",
        "colab_type": "text"
      },
      "source": [
        "Le renommage des fonctions à l'importation peut être utile pour garder le code court, et nous verrons plus loin qu'il peut être utile pour passer d'une fonction à l'autre.\n",
        "Cependant, le choix du nom ci-dessus est une très mauvaise pratique - le nom '`some_math_function`' n'est pas descriptif.\n",
        "L'exemple ci-dessous est plus judicieux."
      ]
    },
    {
      "cell_type": "markdown",
      "metadata": {
        "id": "8Q9yqT_eZnaw",
        "colab_type": "text"
      },
      "source": [
        "Supposons que nous programmons une fonction qui calcule les racines d'une fonction quadratique en utilisant la formule quadratique :ion using the quadratic formula:"
      ]
    },
    {
      "cell_type": "code",
      "metadata": {
        "id": "FyfAgbt9Znax",
        "colab_type": "code",
        "colab": {},
        "outputId": "6277b1da-5702-4e5e-d0ac-3a8eec9e56fc"
      },
      "source": [
        "from math import sqrt as square_root\n",
        "\n",
        "def compute_roots(a, b, c):\n",
        "    \"Calculer les racines du polynôme f(x) = ax^2 + bx + c\"\n",
        "    \n",
        "    root0 = (-b + square_root(b*b - 4*a*c))/(2*a)\n",
        "    root1 = (-b - square_root(b*b - 4*a*c))/(2*a)\n",
        "    \n",
        "    return root0, root1\n",
        "\n",
        "# Calculer les racines de f = 4x^2 + 10x + 1\n",
        "root0, root1 = compute_roots(4, 10, 1)\n",
        "print(root0, root1)"
      ],
      "execution_count": null,
      "outputs": [
        {
          "output_type": "stream",
          "text": [
            "-0.10435607626104004 -2.3956439237389597\n"
          ],
          "name": "stdout"
        }
      ]
    },
    {
      "cell_type": "markdown",
      "metadata": {
        "id": "nQLyewEjZna1",
        "colab_type": "text"
      },
      "source": [
        "Ce qui précède est correct tant que le polynôme a de vraies racines. Cependant, la fonction `math.sqrt` est \n",
        "donnera une erreur (techniquement, elle \"soulèvera une exception\") si un argument négatif lui est transmis. Ceci pour empêcher les programmeurs naïfs de faire des erreurs stupides.\n",
        "\n",
        "Nous connaissons les nombres complexes, c'est pourquoi nous voulons calculer des racines complexes. Le module Python `cmath` fournit des fonctions pour les nombres complexes. Si nous devions utiliser `cmath.sqrt` pour calculer la racine carrée, notre fonction prendrait en charge les racines complexes. Nous le faisons en important les fonctions de `cmath.sqrt` en tant que `square_root` :"
      ]
    },
    {
      "cell_type": "code",
      "metadata": {
        "id": "6dhRAhgIZna1",
        "colab_type": "code",
        "colab": {},
        "outputId": "f2d0a0de-7bf6-439c-fa73-b2c752dff388"
      },
      "source": [
        "# Utiliser la fonction de cmath comme racine carrée pour calculer la racine carrée\n",
        "# (ceci remplacera la fonction sqrt précédemment importée)\n",
        "from cmath import sqrt as square_root\n",
        "\n",
        "# Calculer les racines (les racines seront complexes dans ce cas)\n",
        "root0, root1 = compute_roots(40, 10, 1)\n",
        "print(root0, root1)\n",
        "\n",
        "# Calculer les racines (les racines seront réelles dans ce cas, mais cmath.sqrt renvoie toujours un type complexe)\n",
        "root0, root1 = compute_roots(4, 10, 1)\n",
        "print(root0, root1)"
      ],
      "execution_count": null,
      "outputs": [
        {
          "output_type": "stream",
          "text": [
            "(-0.125+0.09682458365518543j) (-0.125-0.09682458365518543j)\n",
            "(-0.10435607626104004+0j) (-2.3956439237389597+0j)\n"
          ],
          "name": "stdout"
        }
      ]
    },
    {
      "cell_type": "markdown",
      "metadata": {
        "id": "ma2ib-CsZna5",
        "colab_type": "text"
      },
      "source": [
        "La fonction fonctionne maintenant pour tous les cas car `square_root` utilise maintenant `cmath.sqrt`. Notez que `cmath.sqrt` renvoie toujours un type de nombre complexe, même lorsque la partie complexe est zéro."
      ]
    },
    {
      "cell_type": "markdown",
      "metadata": {
        "id": "IhDNbv7YZna6",
        "colab_type": "text"
      },
      "source": [
        "# Fonctions et formatage des chaînes de caractères (String functions and string formatting)\n",
        "\n",
        "Une fonction standard que nous utilisons depuis le début est '`print`'. Cette fonction transforme les arguments en une chaîne de caractères et affiche cette chaîne à l'écran. Jusqu'à présent, nous n'avons imprimé que des variables simples et nous nous sommes surtout appuyés sur les conversions par défaut en une chaîne de caractères pour l'impression à l'écran (l'exception était l'impression de la représentation en virgule flottante de 0,1, où nous devions spécifier le nombre de chiffres significatifs pour voir la représentation inexacte en binaire)."
      ]
    },
    {
      "cell_type": "markdown",
      "metadata": {
        "id": "OnDJqN6rZna7",
        "colab_type": "text"
      },
      "source": [
        "## Formatage\n",
        "\n",
        "Nous pouvons contrôler la façon dont les chaînes sont formatées et affichées. Vous trouverez ci-dessous un exemple d'insertion d'une variable chaîne et d'une variable nombre dans une chaîne de caractères :"
      ]
    },
    {
      "cell_type": "code",
      "metadata": {
        "id": "H9Opxp-mZna7",
        "colab_type": "code",
        "colab": {},
        "outputId": "25def701-5a84-45f9-f230-4e6aef2e7591"
      },
      "source": [
        "# Format a string with name and age\n",
        "name = \"Amber\"\n",
        "age = 19\n",
        "text_string = \"My name is {} and I am {} years old.\".format(name, age)\n",
        "\n",
        "# Print to screen \n",
        "print(text_string)\n",
        "\n",
        "# Short-cut for printing without assignment\n",
        "name = \"Ashley\"\n",
        "age = 21\n",
        "print(\"My name is {} and I am {} years old.\".format(name, age))"
      ],
      "execution_count": null,
      "outputs": [
        {
          "output_type": "stream",
          "text": [
            "My name is Amber and I am 19 years old.\n",
            "My name is Ashley and I am 21 years old.\n"
          ],
          "name": "stdout"
        }
      ]
    },
    {
      "cell_type": "markdown",
      "metadata": {
        "id": "zvfOi5oQZna_",
        "colab_type": "text"
      },
      "source": [
        "Pour les nombres à virgule flottante, nous voulons souvent contrôler le formatage, et en particulier le nombre de chiffres significatifs affichés. Prenons l'exemple de l'affichage de $\\pi$ : "
      ]
    },
    {
      "cell_type": "code",
      "metadata": {
        "id": "S9HsBq5wZna_",
        "colab_type": "code",
        "colab": {},
        "outputId": "49b9ae20-a044-4792-caf4-e33beb7eec26"
      },
      "source": [
        "# Import math module to get access to math.pi\n",
        "import math\n",
        "\n",
        "# Default formatting\n",
        "print(\"The value of π using the default formatting is: {}\".format(math.pi))\n",
        "\n",
        "# Control number of significant figures in formatting\n",
        "print(\"The value of π to 5 significant figures is: {:.5}\".format(math.pi))\n",
        "print(\"The value of π to 8 significant figures is: {:.8}\".format(math.pi))\n",
        "print(\"The value of π to 20 significant figures and using scientific notation is: {:.20e}\".format(math.pi))"
      ],
      "execution_count": null,
      "outputs": [
        {
          "output_type": "stream",
          "text": [
            "The value of π using the default formatting is: 3.141592653589793\n",
            "The value of π to 5 significant figures is: 3.1416\n",
            "The value of π to 8 significant figures is: 3.1415927\n",
            "The value of π to 20 significant figures and using scientific notation is: 3.14159265358979311600e+00\n"
          ],
          "name": "stdout"
        }
      ]
    },
    {
      "cell_type": "markdown",
      "metadata": {
        "id": "_n-TNpCFZnbD",
        "colab_type": "text"
      },
      "source": [
        "Il existe de nombreuses autres manières de contrôler le formatage des flotteurs - faites une recherche en ligne si vous souhaitez formater un flotteur d'une manière particulière.  "
      ]
    },
    {
      "cell_type": "markdown",
      "metadata": {
        "id": "pV-KkTKWZnbE",
        "colab_type": "text"
      },
      "source": [
        "# Exemple de module : traitement parallèle\n",
        "\n",
        "Les modules standard peuvent simplifier des problèmes très techniques. Le traitement parallèle en est un exemple.\n",
        "\n",
        "La majorité des processeurs - des téléphones aux supercalculateurs - sont maintenant dotés de plusieurs cœurs, chaque cœur effectuant des calculs. Pour tirer profit de ces cœurs multiples, nous devons calculer en *parallèle*.\n",
        "Un programme \"standard\" exécute les tâches dans l'ordre, et dans ce cas, un seul cœur sera utilisé et les autres\n",
        "restent inactifs. Pour obtenir les meilleures performances du matériel, nous devons calculer en parallèle. C'est-à-dire que nous effectuons plusieurs tâches en même temps. \n",
        "\n",
        "Le traitement parallèle est un sujet énorme en soi, mais nous pouvons l'aborder ici car nous disposons de bibliothèques standard\n",
        "qui le rendent facile à utiliser. La gestion de tâches parallèles à un niveau peu élevé est extrêmement technique, mais les bibliothèques standard peuvent la rendre facile. Nous utiliserons le module `multiprocessing`, et l'utiliserons pour trier des listes de nombres simultanément.\n",
        "\n",
        "Nous commençons par examiner comment générer une liste d'entiers aléatoires en utilisant le module `random`. Le code suivant \n",
        "crée une liste (plus sur les listes dans le cahier suivant) de 10 entiers aléatoires dans la gamme de 0 à 100 (sans compter 100) :"
      ]
    },
    {
      "cell_type": "code",
      "metadata": {
        "id": "l66M55kHZnbE",
        "colab_type": "code",
        "colab": {},
        "outputId": "8504d20c-0e37-4527-dba5-7e9c02e7af0b"
      },
      "source": [
        "import random\n",
        "x = random.sample(range(0, 100), 10)\n",
        "print(x)"
      ],
      "execution_count": null,
      "outputs": [
        {
          "output_type": "stream",
          "text": [
            "[30, 9, 78, 59, 85, 81, 67, 97, 11, 91]\n"
          ],
          "name": "stdout"
        }
      ]
    },
    {
      "cell_type": "markdown",
      "metadata": {
        "id": "hq4lm_fnZnbH",
        "colab_type": "text"
      },
      "source": [
        "Pour créer une liste triée, nous avons utilisé la fonction intégrée `sorted`: "
      ]
    },
    {
      "cell_type": "code",
      "metadata": {
        "id": "Xpbc5gIlZnbI",
        "colab_type": "code",
        "colab": {},
        "outputId": "ccc7bb37-99bb-437c-b474-457e93a5b8aa"
      },
      "source": [
        "y = sorted(x)\n",
        "print(y)"
      ],
      "execution_count": null,
      "outputs": [
        {
          "output_type": "stream",
          "text": [
            "[9, 11, 30, 59, 67, 78, 81, 85, 91, 97]\n"
          ],
          "name": "stdout"
        }
      ]
    },
    {
      "cell_type": "markdown",
      "metadata": {
        "id": "1p3-wdvsZnbO",
        "colab_type": "text"
      },
      "source": [
        "Maintenant, si nous devons trier plusieurs listes différentes, nous pourrions trier les listes l'une après l'autre, ou \n",
        "nous pourrions trier plusieurs listes en même temps (en parallèle). Notre système d'exploitation gérera alors l'envoi \n",
        "de la tâche de tri à différents cœurs de processeur. Avant de voir comment faire, nous mettons en œuvre une fonction pour effectuer le tri :"
      ]
    },
    {
      "cell_type": "code",
      "metadata": {
        "id": "Kpk2JNEpZnbP",
        "colab_type": "code",
        "colab": {}
      },
      "source": [
        "import multiprocessing\n",
        "import random\n",
        "\n",
        "def mysort(N):\n",
        "    \"Create a list of random numbers of length N, and return a sorted list\"\n",
        "\n",
        "    # Create random list \n",
        "    x = random.sample(range(0, N), N) \n",
        "\n",
        "    # Print process identifier (just out of interest)\n",
        "    print(\"Process id: {}\".format(multiprocessing.current_process()))\n",
        "    \n",
        "    # Return sorted list of numbers\n",
        "    return sorted(x)"
      ],
      "execution_count": null,
      "outputs": []
    },
    {
      "cell_type": "markdown",
      "metadata": {
        "id": "6sKRLynBZnbT",
        "colab_type": "text"
      },
      "source": [
        "Pour créer les listes triées, nous utilisons trois processus (threads) :"
      ]
    },
    {
      "cell_type": "code",
      "metadata": {
        "id": "laHa04tLZnbU",
        "colab_type": "code",
        "colab": {},
        "outputId": "59a8e972-4340-4798-ae76-404a5f5e6727"
      },
      "source": [
        "N = 20000\n",
        "with multiprocessing.Pool(processes=3) as p:\n",
        "    p.map(mysort, [N, N, N])  # Call function mysort three times"
      ],
      "execution_count": null,
      "outputs": [
        {
          "output_type": "stream",
          "text": [
            "Process id: <ForkProcess(ForkPoolWorker-3, started daemon)>\n",
            "Process id: <ForkProcess(ForkPoolWorker-2, started daemon)>\n",
            "Process id: <ForkProcess(ForkPoolWorker-1, started daemon)>\n"
          ],
          "name": "stdout"
        }
      ]
    },
    {
      "cell_type": "markdown",
      "metadata": {
        "id": "uzcl7GgpZnbX",
        "colab_type": "text"
      },
      "source": [
        "Nous constatons que trois processus différents ont permis de résoudre notre problème - un pour chaque tâche de tri.\n",
        "\n",
        "Nous utilisons un traitement parallèle pour accélérer les calculs. Chronométrons nos calculs en utilisant des nombres différents\n",
        "de processus pour voir comment elle affecte les performances. \n",
        "Pour effectuer le chronométrage, nous encapsulons d'abord notre problème dans une fonction :"
      ]
    },
    {
      "cell_type": "code",
      "metadata": {
        "id": "76li3WJ4ZnbY",
        "colab_type": "code",
        "colab": {}
      },
      "source": [
        "def parallel_sort(N, num_proc):\n",
        "    \"Create three lists of random numbers (each of length N) using num_proc processes\"\n",
        "    with multiprocessing.Pool(processes=num_proc) as p:\n",
        "        p.map(mysort, [N, N, N])"
      ],
      "execution_count": null,
      "outputs": []
    },
    {
      "cell_type": "markdown",
      "metadata": {
        "id": "2wc3rnPtZnbb",
        "colab_type": "text"
      },
      "source": [
        "En utilisant la commande magique '[`%time`](Notebook%20tips.ipynb#Simple-timing)', nous chronométrons le tri en utilisant un seul processus (un processus trie les listes l'une après l'autre) :"
      ]
    },
    {
      "cell_type": "code",
      "metadata": {
        "id": "iBFMu2lbZnbc",
        "colab_type": "code",
        "colab": {},
        "outputId": "fe6a4a43-8907-4c5e-b603-cbd28f89bdf8"
      },
      "source": [
        "N = 500000\n",
        "%time parallel_sort(N, 1)    "
      ],
      "execution_count": null,
      "outputs": [
        {
          "output_type": "stream",
          "text": [
            "Process id: <ForkProcess(ForkPoolWorker-4, started daemon)>\n",
            "Process id: <ForkProcess(ForkPoolWorker-4, started daemon)>\n",
            "Process id: <ForkProcess(ForkPoolWorker-4, started daemon)>\n",
            "CPU times: user 56.6 ms, sys: 34 ms, total: 90.6 ms\n",
            "Wall time: 1.82 s\n"
          ],
          "name": "stdout"
        }
      ]
    },
    {
      "cell_type": "markdown",
      "metadata": {
        "id": "DBgw2BEUZnbf",
        "colab_type": "text"
      },
      "source": [
        "Nous voyons dans \"`Process id`\" que le même processus a fonctionné sur les trois listes.\n",
        "\n",
        "Nous essayons maintenant avec un maximum de 4 processus (il n'y a que trois listes à trier, donc seulement trois seront utilisées) :"
      ]
    },
    {
      "cell_type": "code",
      "metadata": {
        "id": "XsZAizABZnbg",
        "colab_type": "code",
        "colab": {},
        "outputId": "4c087951-628c-4e09-e94b-27f1bc4da779"
      },
      "source": [
        "%time parallel_sort(N, 4)    "
      ],
      "execution_count": null,
      "outputs": [
        {
          "output_type": "stream",
          "text": [
            "Process id: <ForkProcess(ForkPoolWorker-5, started daemon)>\n",
            "Process id: <ForkProcess(ForkPoolWorker-6, started daemon)>\n",
            "Process id: <ForkProcess(ForkPoolWorker-8, started daemon)>\n",
            "CPU times: user 46.9 ms, sys: 46.8 ms, total: 93.7 ms\n",
            "Wall time: 832 ms\n"
          ],
          "name": "stdout"
        }
      ]
    },
    {
      "cell_type": "markdown",
      "metadata": {
        "id": "__IO-kgXZnbl",
        "colab_type": "text"
      },
      "source": [
        "Nous voyons dans `Process id` que trois processus différents ont fonctionné sur les listes. L'exécution parallèle devrait être plus rapide (cela dépendra du matériel)."
      ]
    },
    {
      "cell_type": "markdown",
      "metadata": {
        "id": "L4vOHv6SZnbl",
        "colab_type": "text"
      },
      "source": [
        "# Exercises\n",
        "\n",
        "Complete now the [05 Exercises](Exercises/05%20Exercises.ipynb) notebook."
      ]
    }
  ]
}