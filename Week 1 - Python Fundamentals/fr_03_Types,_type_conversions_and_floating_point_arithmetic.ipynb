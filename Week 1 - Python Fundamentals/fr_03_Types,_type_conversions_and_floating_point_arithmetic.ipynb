{
  "nbformat": 4,
  "nbformat_minor": 0,
  "metadata": {
    "kernelspec": {
      "display_name": "Python 3",
      "language": "python",
      "name": "python3"
    },
    "language_info": {
      "codemirror_mode": {
        "name": "ipython",
        "version": 3
      },
      "file_extension": ".py",
      "mimetype": "text/x-python",
      "name": "python",
      "nbconvert_exporter": "python",
      "pygments_lexer": "ipython3",
      "version": "3.6.6"
    },
    "colab": {
      "name": "fr 03 Types, type conversions and floating point arithmetic.ipynb",
      "provenance": [],
      "include_colab_link": true
    }
  },
  "cells": [
    {
      "cell_type": "markdown",
      "metadata": {
        "id": "view-in-github",
        "colab_type": "text"
      },
      "source": [
        "<a href=\"https://colab.research.google.com/github/mohamedmhe/data-science-for-construction-edx-course-notebooks/blob/fr/Week%201%20-%20Python%20Fundamentals/fr_03_Types%2C_type_conversions_and_floating_point_arithmetic.ipynb\" target=\"_parent\"><img src=\"https://colab.research.google.com/assets/colab-badge.svg\" alt=\"Open In Colab\"/></a>"
      ]
    },
    {
      "cell_type": "markdown",
      "metadata": {
        "id": "Z0Bpmf1J-AYU",
        "colab_type": "text"
      },
      "source": [
        "# Introduction\n",
        "\n",
        "Nous avons jusqu'à présent évité de discuter directement des *types*. Le \"*type*\" est le type d'objet auquel une variable est associée. Cela affecte la façon dont un ordinateur stocke l'objet en mémoire et la façon dont les opérations, telles que la multiplication et la division, sont effectuées.\n",
        "\n",
        "Dans les langages *statiquement typés*, comme le C et le C++, les types apparaissent dès le début parce que \n",
        "vous devez généralement spécifier les types explicitement dans vos programmes. Python est un langage *dynamiquement typé*, ce qui signifie que les types sont déduits lorsqu'un programme est exécuté. C'est pourquoi nous avons pu reporter la discussion jusqu'à présent.\n",
        "Il est important d'avoir une compréhension de base des types, et de la façon dont les types peuvent affecter le comportement de vos programmes. On peut aller très loin dans ce sujet, surtout pour les calculs numériques, mais nous allons couvrir le concept général à un niveau élevé, \n",
        "montrer quelques exemples et mettre en évidence certains pièges potentiels pour les calculs d'ingénierie. \n",
        "\n",
        "C'est un sujet aride - il contient des informations de fond importantes que vous devez connaître pour plus tard, alors tenez bon. Le compte-rendu ci-dessous met en évidence ce qui peut mal tourner sans une connaissance des types et de la façon dont les ordinateurs traitent les nombres."
      ]
    },
    {
      "cell_type": "markdown",
      "metadata": {
        "id": "mLI6Ctma-AYW",
        "colab_type": "text"
      },
      "source": [
        "## Défaillance du missile Patriot et explosion d'Ariane 5\n",
        "\n",
        "De nombreux accidents sont dus à des programmes ne gérant pas correctement les types, les conversions de types et l'arithmétique en virgule flottante. En voici deux exemples : \n",
        "\n",
        "1. En 1991, un missile Patriot américain n'a pas réussi à intercepter un missile Scud irakien à Dhahran en Arabie Saoudite, ce qui a entraîné \n",
        "   une perte de vie. L'enquête qui a suivi a révélé que le missile Patriot n'avait pas réussi à intercepter le Scud   \n",
        "   missile en raison d'une faille dans le logiciel. Les développeurs de logiciels n'ont pas tenu compte des effets de la \"virgule flottante \n",
        "   arithmétique\". \n",
        "   Cela a entraîné une petite erreur dans le calcul du temps, qui a fait que le Patriot a manqué le Scud \n",
        "   missile. \n",
        "\n",
        "   <img src=\"https://upload.wikimedia.org/wikipedia/commons/e/eb/Patriot_System_2.jpg\" width=\"300\" />\n",
        "\n",
        "   Nous allons reproduire l'erreur précise que les développeurs du logiciel du missile Patriot ont commise. Voir\n",
        "   https://en.wikipedia.org/wiki/MIM-104_Patriot#Failure_at_Dhahran pour plus d'informations sur l'interception \n",
        "   l'échec.\n",
        "   \n",
        "\n",
        "2. Une mauvaise programmation liée à la façon dont les ordinateurs stockent les chiffres a conduit en 1996 à une expolosion de peu après le décollage de la fusée *Ariane 5* de l'Agence spatiale européenne. La charge utile de la fusée, d'une valeur de 500 millions de dollars US, \n",
        "   a été détruite. Vous trouverez des informations générales à l'adresse https://en.wikipedia.org/wiki/Cluster_(spacecraft)#Launch_failure. \n",
        "   Nous allons reproduire leur erreur, et montrer comment quelques lignes de code auraient permis d'économiser plus de 500 millions de dollars US. \n",
        "   \n",
        "   <img src=\"https://upload.wikimedia.org/wikipedia/commons/thumb/3/3c/Ariane_5ES_with_ATV_4_on_its_way_to_ELA-3.jpg/320px-Ariane_5ES_with_ATV_4_on_its_way_to_ELA-3.jpg\" width=\"200\" />"
      ]
    },
    {
      "cell_type": "markdown",
      "metadata": {
        "id": "FdavSK46-AYX",
        "colab_type": "text"
      },
      "source": [
        "## Contexte : bits et octets\n",
        "\n",
        "Une partie importante de la compréhension des types est d'apprécier le fonctionnement du stockage informatique. La mémoire d'un ordinateur est composée de *bits*, et chaque bit peut prendre l'une des deux \n",
        "valeurs - 0 ou 1. Un bit est le plus petit élément de la mémoire.\n",
        "Les bits sont à grain très fin, de sorte que pour de nombreuses architectures informatiques, le plus petit \"bloc\" avec lequel nous pouvons normalement travailler est un *octet*. Un octet est constitué de 8 bits. C'est pourquoi lorsque nous parlons de bits, par exemple d'un système d'exploitation 64 bits, le nombre de bits sera presque toujours un multiple de 8 (un octet).\n",
        "\n",
        "Plus une chose est \"grosse\", plus il nous faut d'octets. C'est important pour les calculs techniques, car le nombre d'octets utilisés pour stocker un nombre détermine la précision avec laquelle le nombre peut être stocké,\n",
        "et la taille du nombre. Plus il y a d'octets, plus la précision est grande, mais le prix à payer est une plus grande utilisation de la mémoire. En outre, il peut être plus coûteux d'effectuer des opérations comme la multiplication et la division lorsque l'on utilise plus d'octets."
      ]
    },
    {
      "cell_type": "markdown",
      "metadata": {
        "id": "iOE4lUPS-AYX",
        "colab_type": "text"
      },
      "source": [
        "## Objectifs\n",
        "\n",
        "- Introduire des types de données primitives (booléens, chaînes de caractères et types numériques)\n",
        "- Inspection de type\n",
        "- Conversion des types de base\n",
        "- Introduction aux pièges de l'arithmétique en virgule flottante "
      ]
    },
    {
      "cell_type": "markdown",
      "metadata": {
        "id": "kk-fFaOj-AYY",
        "colab_type": "text"
      },
      "source": [
        "# Qu'est-ce que le type ?\n",
        "\n",
        "Toutes les variables ont un \"type\", qui indique ce qu'est la variable, par exemple un nombre, une chaîne de caractères (*string*), etc. Dans les langues \"statiquement typées\", nous devons généralement être explicites dans la déclaration du type d'une variable dans un programme. Dans un langage à typage dynamique, tel que Python, les variables ont toujours des types, mais l'interpréteur peut les déterminer de manière dynamique.\n",
        "\n",
        "Le type est important car il détermine comment une variable est stockée, comment elle se comporte lorsque nous effectuons des opérations sur elle, et comment elle interagit avec d'autres variables. Par exemple, la multiplication de deux nombres réels est différente de la multiplication de deux nombres complexes."
      ]
    },
    {
      "cell_type": "markdown",
      "metadata": {
        "id": "GCBZPh-H-AYZ",
        "colab_type": "text"
      },
      "source": [
        "# Introspection \n",
        "\n",
        "Avant d'entrer dans les types, nous examinons comment nous pouvons vérifier le type en Python. Une fonction puissante de Python est l' *introspection*. Cela signifie que nous pouvons sonder un programme pour lui demander le type d'une variable. Pour vérifier \n",
        "le type d'une variable que nous utilisons la fonction `type` :"
      ]
    },
    {
      "cell_type": "code",
      "metadata": {
        "id": "o9yBATAZ-AYa",
        "colab_type": "code",
        "colab": {
          "base_uri": "https://localhost:8080/",
          "height": 84
        },
        "outputId": "8c9722c8-10cc-47cf-c0f2-e478df7fcc7d"
      },
      "source": [
        "x = True\n",
        "print(type(x))\n",
        "\n",
        "a = 1\n",
        "print(type(a))\n",
        "\n",
        "a = 1.0\n",
        "print(type(a))\n",
        "\n",
        "z = 2+3j\n",
        "print(type(z))"
      ],
      "execution_count": null,
      "outputs": [
        {
          "output_type": "stream",
          "text": [
            "<class 'bool'>\n",
            "<class 'int'>\n",
            "<class 'float'>\n",
            "<class 'complex'>\n"
          ],
          "name": "stdout"
        }
      ]
    },
    {
      "cell_type": "markdown",
      "metadata": {
        "id": "eifMy_TR-AYg",
        "colab_type": "text"
      },
      "source": [
        "Notez que `a = 1` et `a = 1.0` sont des types différents ! Cette distinction est très importante pour les calculs numériques.\n",
        "Plus d'informations à ce sujet plus bas.\n",
        "\n",
        "Utilisez `type` librement lors de l'exploration et des tests, afin de comprendre ce que fait votre programme."
      ]
    },
    {
      "cell_type": "markdown",
      "metadata": {
        "id": "5s7RDptE-AYh",
        "colab_type": "text"
      },
      "source": [
        "# Booleans\n",
        "\n",
        "Vous avez déjà vu le type `booléen` qui peut prendre l'une des deux valeurs suivantes : vrai ou faux. C'est le type le plus simple."
      ]
    },
    {
      "cell_type": "code",
      "metadata": {
        "id": "bGnvpdxB-AYh",
        "colab_type": "code",
        "colab": {},
        "outputId": "73de09c7-5107-493a-a3d0-4618dab234d1"
      },
      "source": [
        "a = True\n",
        "b = False\n",
        "test = a or b  # test will be True if a or b are True\n",
        "print(test, type(test))"
      ],
      "execution_count": null,
      "outputs": [
        {
          "output_type": "stream",
          "text": [
            "True <class 'bool'>\n"
          ],
          "name": "stdout"
        }
      ]
    },
    {
      "cell_type": "markdown",
      "metadata": {
        "id": "5DJKdg5a-AYl",
        "colab_type": "text"
      },
      "source": [
        "En principe, nous pourrions représenter un booléen avec un seul bit (commutateur 0 ou 1)."
      ]
    },
    {
      "cell_type": "markdown",
      "metadata": {
        "id": "R6x9ECMf-AYm",
        "colab_type": "text"
      },
      "source": [
        "# Strings (Chaîne de caractères)\n",
        "\n",
        "String  est un ensemble de caractères. Nous avons utilisé des chaînes de caractères dans des activités précédentes pour l'impression de messages informatifs. En Python, nous créons une chaîne en utilisant des guillemets simples ou doubles (le choix est une préférence personnelle), par exemple\n",
        "\n",
        "    my_string = 'Ceci est une chaîne de caractères'.\n",
        "    \n",
        "ou\n",
        "\n",
        "    my_string = \"Ceci est une chaîne de caractères.\"\n",
        "    \n",
        "Ci-dessous, nous attribuons une chaîne à une variable, nous affichons la chaîne, puis nous vérifions son type :\n",
        "\n",
        "Traduit avec www.DeepL.com/Translator (version gratuite)"
      ]
    },
    {
      "cell_type": "code",
      "metadata": {
        "id": "Ef9pxY5I-AYm",
        "colab_type": "code",
        "colab": {
          "base_uri": "https://localhost:8080/",
          "height": 50
        },
        "outputId": "2b0ebfde-0cf1-4ba4-f17f-c5e5f767fa5c"
      },
      "source": [
        "my_string = \"Ceci est une chaîne de caractères.\"\n",
        "print(my_string)\n",
        "print(type(my_string))"
      ],
      "execution_count": null,
      "outputs": [
        {
          "output_type": "stream",
          "text": [
            "Ceci est une chaîne de caractères.\n",
            "<class 'str'>\n"
          ],
          "name": "stdout"
        }
      ]
    },
    {
      "cell_type": "markdown",
      "metadata": {
        "id": "NSEye7uq-AYq",
        "colab_type": "text"
      },
      "source": [
        "Nous pouvons effectuer de nombreuses opérations différentes sur les chaînes de caractères. Nous pouvons extraire un caractère particulier sous forme de nouvelle chaîne :"
      ]
    },
    {
      "cell_type": "code",
      "metadata": {
        "id": "6Kv0vIVI-AYr",
        "colab_type": "code",
        "colab": {
          "base_uri": "https://localhost:8080/",
          "height": 50
        },
        "outputId": "b2d6f653-0924-4e66-aad4-4c8ac6398029"
      },
      "source": [
        "# Obtenir le 3ème caractère (Python compte à partir de zéro)\n",
        "s2 = my_string[2]\n",
        "print(s2)\n",
        "print(type(s2))"
      ],
      "execution_count": null,
      "outputs": [
        {
          "output_type": "stream",
          "text": [
            "c\n",
            "<class 'str'>\n"
          ],
          "name": "stdout"
        }
      ]
    },
    {
      "cell_type": "markdown",
      "metadata": {
        "id": "SaW-kjB6-AYv",
        "colab_type": "text"
      },
      "source": [
        "ou extraire une série de caractères :"
      ]
    },
    {
      "cell_type": "code",
      "metadata": {
        "id": "qYKyU4OY-AYv",
        "colab_type": "code",
        "colab": {
          "base_uri": "https://localhost:8080/",
          "height": 67
        },
        "outputId": "3a6296ff-6903-4227-f5f5-900ede731a3f"
      },
      "source": [
        "# Obtenez les six premiers caractères, imprimez et vérifiez le type\n",
        "s3 = my_string[0:6]\n",
        "print(s3)\n",
        "print(type(s3))\n",
        "\n",
        "# Obtenez les quatre derniers caractères et imprimez\n",
        "s4 = my_string[-4:]\n",
        "print(s4)"
      ],
      "execution_count": null,
      "outputs": [
        {
          "output_type": "stream",
          "text": [
            "Ceci e\n",
            "<class 'str'>\n",
            "res.\n"
          ],
          "name": "stdout"
        }
      ]
    },
    {
      "cell_type": "markdown",
      "metadata": {
        "id": "lMmBH7eN-AYz",
        "colab_type": "text"
      },
      "source": [
        "We can add strings together:"
      ]
    },
    {
      "cell_type": "code",
      "metadata": {
        "id": "O7dzdGbS-AY0",
        "colab_type": "code",
        "colab": {
          "base_uri": "https://localhost:8080/",
          "height": 34
        },
        "outputId": "db844815-a6ff-4bd8-b36b-4c281a50a9aa"
      },
      "source": [
        "introduction = \"Je m'appelle :\"\n",
        "name = \"Mohamed\"\n",
        "\n",
        "personal_introduction = introduction + \" \" + name\n",
        "print(personal_introduction)"
      ],
      "execution_count": null,
      "outputs": [
        {
          "output_type": "stream",
          "text": [
            "Je m'appelle : Mohamed\n"
          ],
          "name": "stdout"
        }
      ]
    },
    {
      "cell_type": "markdown",
      "metadata": {
        "id": "ggMK_pwp-AY4",
        "colab_type": "text"
      },
      "source": [
        "Nous pouvons également vérifier la longueur (nombre de caractères) d'une chaîne en utilisant `len` :"
      ]
    },
    {
      "cell_type": "code",
      "metadata": {
        "id": "KvM2oucn-AY4",
        "colab_type": "code",
        "colab": {
          "base_uri": "https://localhost:8080/",
          "height": 34
        },
        "outputId": "85ef4b5e-3381-4e67-e52c-a4e754c5a3f0"
      },
      "source": [
        "print(len(personal_introduction))"
      ],
      "execution_count": null,
      "outputs": [
        {
          "output_type": "stream",
          "text": [
            "22\n"
          ],
          "name": "stdout"
        }
      ]
    },
    {
      "cell_type": "markdown",
      "metadata": {
        "id": "4ZI2vuIb-AY8",
        "colab_type": "text"
      },
      "source": [
        "Il y a *beaucoup* d'autres opérations qui peuvent être effectuées sur des strings. Nous en verrons d'autres dans des activités."
      ]
    },
    {
      "cell_type": "markdown",
      "metadata": {
        "collapsed": true,
        "id": "0kDhcQdE-AY8",
        "colab_type": "text"
      },
      "source": [
        "# Types numériques\n",
        "\n",
        "Les types numériques sont importants dans de nombreuses applications informatiques, et en particulier dans les programmes scientifiques et d'ingénierie. Python 3 possède trois types numériques natifs :\n",
        "\n",
        "- les entiers (`int`)\n",
        "- les nombres à virgule flottante (`float`)\n",
        "- les nombres complexes (`complex`)\n",
        "\n",
        "C'est typique de la plupart des langages de programmation, bien qu'il puisse y avoir quelques différences subtiles."
      ]
    },
    {
      "cell_type": "markdown",
      "metadata": {
        "id": "bfot9QcR-AY9",
        "colab_type": "text"
      },
      "source": [
        "## Les entiers (Integers)\n",
        "\n",
        "Les nombres entiers (`int`) sont des nombres entiers, et peuvent être positifs ou négatifs. Les nombres entiers doivent être utilisés lorsqu'une valeur ne peut porter que sur un nombre entier, par exemple l'année, ou le nombre d'étudiants suivant ce cours. Python déduit le type d'un nombre à partir de la façon dont nous le saisissons. Il déduira un `int` si nous attribuons un nombre sans décimale :"
      ]
    },
    {
      "cell_type": "code",
      "metadata": {
        "id": "g9rA08yf-AY-",
        "colab_type": "code",
        "colab": {
          "base_uri": "https://localhost:8080/",
          "height": 34
        },
        "outputId": "32d508d2-0a2f-4ecf-b643-89621824ffd0"
      },
      "source": [
        "a = 2\n",
        "print(type(a))"
      ],
      "execution_count": null,
      "outputs": [
        {
          "output_type": "stream",
          "text": [
            "<class 'int'>\n"
          ],
          "name": "stdout"
        }
      ]
    },
    {
      "cell_type": "markdown",
      "metadata": {
        "id": "YYXKJi5L-AZC",
        "colab_type": "text"
      },
      "source": [
        "Si nous ajoutons un point décimal, le type de variable devient un `float` (nous y reviendrons plus tard)"
      ]
    },
    {
      "cell_type": "code",
      "metadata": {
        "id": "JjvGffK--AZC",
        "colab_type": "code",
        "colab": {
          "base_uri": "https://localhost:8080/",
          "height": 34
        },
        "outputId": "d633abab-0b52-418d-81c7-ab3ea876c5b7"
      },
      "source": [
        "a = 2.0\n",
        "print(type(a))"
      ],
      "execution_count": null,
      "outputs": [
        {
          "output_type": "stream",
          "text": [
            "<class 'float'>\n"
          ],
          "name": "stdout"
        }
      ]
    },
    {
      "cell_type": "markdown",
      "metadata": {
        "id": "nwRzsbBt-AZG",
        "colab_type": "text"
      },
      "source": [
        "Les opérations sur les nombres entiers qui aboutissent à un nombre entier, telles que la multiplication ou l'addition de deux nombres entiers, sont effectuées exactement (il n'y a pas d'erreur). Cela dépend toutefois de la présence d'une variable ayant suffisamment de mémoire (suffisamment d'octets) pour représenter le résultat."
      ]
    },
    {
      "cell_type": "markdown",
      "metadata": {
        "id": "JJW9h_3J-AZG",
        "colab_type": "text"
      },
      "source": [
        "### Stockage d'entiers et débordement\n",
        "\n",
        "Dans la plupart des langues, un nombre fixe de bits est utilisé pour stocker un type d'entier donné. En C et C++, un entier standard (`int`) est généralement stocké sur 32 bits (il est possible de déclarer des types d'entiers plus courts et plus longs). \n",
        "Le plus grand entier qui peut être stocké en utilisant 32 bits est $2^{31} - 1 = 2,147,483,647$.\n",
        "Nous expliquons plus loin d'où cela vient. Le message pour l'instant est que pour un nombre fixe de bits, il y a une limite sur le plus grand nombre qui peut être représenté/stocké.\n",
        "\n",
        "#### Débordement d'entier\n",
        "\n",
        "Le débordement d'entier est lorsqu'une opération crée un entier trop grand pour être représenté par le type d'entier donné. Par exemple, si l'on tente d'attribuer à $2^{31} + 1$ à un entier de 32 bits provoquera un débordement et une réponse potentiellement imprévisible du programme. Il s'agit généralement d'un *bug*.\n",
        "\n",
        "L'explosion de la fusée Ariane 5 en 1996 a été causée par un débordement d'entier. Le logiciel de navigation de la fusée a été repris de la fusée Ariane 4, plus ancienne et plus lente. Le programme a attribué la vitesse de la fusée à un entier de 16 bits (le plus grand nombre qu'un entier de 16 bits peut stocker est $2^{15} - 1 = 32767$), mais la fusée Ariane 5 pouvait voyager plus vite que l'ancienne génération de fusée et la valeur de la vitesse dépassait les $32767$. Le débordement d'entier résultant a conduit à \n",
        "la défaillance du système de navigation de la fusée et\n",
        "explosion de la fusée ; une fusée très coûteuse et une charge utile très coûteuse ont été détruites.\n",
        "Nous reproduirons l'erreur qui a causé cette défaillance lorsque nous examinerons les *conversions de type*.\n",
        "\n",
        "Python évite les débordements d'entiers en changeant dynamiquement le nombre de bits utilisés pour représenter un entier. Vous pouvez vérifier le nombre de bits requis pour stocker un entier en binaire (sans inclure le bit pour le signe) en utilisant la fonction [bit_length](https://docs.python.org/3/library/stdtypes.html#int.bit_length) :\n"
      ]
    },
    {
      "cell_type": "code",
      "metadata": {
        "id": "Gp4VqPMQ-AZH",
        "colab_type": "code",
        "colab": {},
        "outputId": "2e5495ce-fd1a-4037-b59b-9b1f0e6f72ec"
      },
      "source": [
        "a = 8\n",
        "print(type(a))\n",
        "print(a.bit_length())"
      ],
      "execution_count": null,
      "outputs": [
        {
          "output_type": "stream",
          "text": [
            "<class 'int'>\n",
            "4\n"
          ],
          "name": "stdout"
        }
      ]
    },
    {
      "cell_type": "markdown",
      "metadata": {
        "id": "7fzrVL7q-AZK",
        "colab_type": "text"
      },
      "source": [
        "Nous voyons que 4 bits sont nécessaires pour représenter le nombre 8. Si nous augmentons considérablement la taille du nombre en l'élevant à la puissance 12 :"
      ]
    },
    {
      "cell_type": "code",
      "metadata": {
        "id": "DhK5ojNu-AZL",
        "colab_type": "code",
        "colab": {},
        "outputId": "90272280-fd46-4425-91ee-fcc24837e23b"
      },
      "source": [
        "b = a**12\n",
        "print(b)\n",
        "type(b)\n",
        "print(b.bit_length())"
      ],
      "execution_count": null,
      "outputs": [
        {
          "output_type": "stream",
          "text": [
            "68719476736\n",
            "37\n"
          ],
          "name": "stdout"
        }
      ]
    },
    {
      "cell_type": "markdown",
      "metadata": {
        "id": "-p7IGWGb-AZO",
        "colab_type": "text"
      },
      "source": [
        "Nous voyons que 37 bits sont nécessaires pour représenter le nombre. Si le type `int` était limité à 32 bits pour le stockage de la valeur, cette opération aurait provoqué un débordement."
      ]
    },
    {
      "cell_type": "markdown",
      "metadata": {
        "id": "xBs5bPzB-AZP",
        "colab_type": "text"
      },
      "source": [
        "#### Gangnam Style\n",
        "\n",
        "En 2014, Google est passé des entiers 32 bits aux entiers 64 bits pour compter les vues lorsque la vidéo \"Gangnam Style\" a été visionnée plus de 2 147 483 647 fois, ce qui est la limite des entiers 32 bits (voir https://www.bbc.com/news/world-asia-30288542)."
      ]
    },
    {
      "cell_type": "markdown",
      "metadata": {
        "id": "ZVeL6kJI-AZQ",
        "colab_type": "text"
      },
      "source": [
        "#### Bug du Boeing 787 Dreamliner\n",
        "\n",
        "En raison d'un bug de débordement d'entier, les générateurs d'électricité d'un Boeing 787 s'arrêtent si l'avion est\n",
        "alimenté en continu pendant 248 jours, en raison d'un débordement. La \"solution rapide\" consistait à s'assurer que \n",
        "les unités de commande des générateurs ne fonctionnent pas pendant plus de 248 jours.\n",
        "Voir \n",
        "https://www.theguardian.com/business/2015/may/01/us-aviation-authority-boeing-787-dreamliner-bug-could-cause-loss-of-control et \n",
        "https://s3.amazonaws.com/public-inspection.federalregister.gov/2015-10066.pdf pour le contexte."
      ]
    },
    {
      "cell_type": "markdown",
      "metadata": {
        "id": "nJNaMc5t-AZQ",
        "colab_type": "text"
      },
      "source": [
        "## Stockage en virgule flottante\n",
        "\n",
        "La plupart des calculs d'ingénierie impliquent des nombres qui ne peuvent pas être représentés comme des entiers. Les nombres qui ont un \n",
        "Les points décimaux sont stockés en utilisant le type \"float\". Les ordinateurs stockent les nombres à virgule flottante en mémorisant le signe, le significand (aussi appelé mantisse) et l'exposant, par exemple : pour 10,45\n",
        "\n",
        "$$\n",
        "10h45 = \\underbrace{+}_{\\text{sign}} \\underbrace{1045}_{\\text{signifiant}} \\times \\underbrace{10^{-2}}_{\\text{exponent} = -2}\n",
        "$$\n",
        "\n",
        "Python utilise 64 bits pour stocker un `float` (en C et C++, on appelle cela un `double`). Le signe nécessite un bit, et il existe des normes qui spécifient combien de bits doivent être utilisés pour le significand et combien pour l'exposant.\n",
        "\n",
        "Comme un nombre fini de bits est utilisé pour stocker un nombre, la précision avec laquelle les nombres peuvent être représentés est limitée. À titre indicatif, en utilisant 64 bits, un nombre à virgule flottante est précis pour 15 à 17 chiffres significatifs.\n",
        "Plus d'informations à ce sujet, et sur les raisons de l'échec du missile Patriot, plus loin."
      ]
    },
    {
      "cell_type": "markdown",
      "metadata": {
        "id": "q0S_zw23-AZR",
        "colab_type": "text"
      },
      "source": [
        "### Floats (Nombres à virgule flottante)\n",
        "\n",
        "On peut déclarer un float en ajoutant une décimale :"
      ]
    },
    {
      "cell_type": "code",
      "metadata": {
        "id": "8zdDWYmp-AZR",
        "colab_type": "code",
        "colab": {},
        "outputId": "90132df6-47ec-4596-a645-19367ce8c96f"
      },
      "source": [
        "a = 2.0\n",
        "print(a)\n",
        "print(type(a))\n",
        "\n",
        "b = 3.\n",
        "print(b)\n",
        "print(type(b))"
      ],
      "execution_count": null,
      "outputs": [
        {
          "output_type": "stream",
          "text": [
            "2.0\n",
            "<class 'float'>\n",
            "3.0\n",
            "<class 'float'>\n"
          ],
          "name": "stdout"
        }
      ]
    },
    {
      "cell_type": "markdown",
      "metadata": {
        "id": "xg1Vy8k_-AZa",
        "colab_type": "text"
      },
      "source": [
        "ou en utilisant `e` ou `E` (le choix entre `e` et `E` est juste une question de goût) :"
      ]
    },
    {
      "cell_type": "code",
      "metadata": {
        "id": "RPW5EUl8-AZa",
        "colab_type": "code",
        "colab": {
          "base_uri": "https://localhost:8080/",
          "height": 67
        },
        "outputId": "791930ab-9524-4e30-fc0f-27f8eb3be541"
      },
      "source": [
        "a = 2e0\n",
        "print(a, type(a))\n",
        "\n",
        "b = 2e3\n",
        "print(b, type(b))\n",
        "\n",
        "c = 2.1E3\n",
        "print(c, type(c))"
      ],
      "execution_count": null,
      "outputs": [
        {
          "output_type": "stream",
          "text": [
            "2.0 <class 'float'>\n",
            "2000.0 <class 'float'>\n",
            "2100.0 <class 'float'>\n"
          ],
          "name": "stdout"
        }
      ]
    },
    {
      "cell_type": "markdown",
      "metadata": {
        "id": "5Eqw5oua-AZe",
        "colab_type": "text"
      },
      "source": [
        "### Nombres complexes\n",
        "\n",
        "Un nombre complexe est un float plus élaboré, composé de deux parties - le réel et l'imaginaire. On peut déclarer un nombre complexe en Python en ajoutant \"j\" ou \"J\" après la partie complexe du nombre :"
      ]
    },
    {
      "cell_type": "code",
      "metadata": {
        "id": "8qlzueWS-AZf",
        "colab_type": "code",
        "colab": {
          "base_uri": "https://localhost:8080/",
          "height": 50
        },
        "outputId": "f3b5300a-111c-41b2-c448-0642f053cf77"
      },
      "source": [
        "a = 2j\n",
        "print(a, type(a))\n",
        "\n",
        "b = 4 - 3j\n",
        "print(b, type(b))"
      ],
      "execution_count": null,
      "outputs": [
        {
          "output_type": "stream",
          "text": [
            "2j <class 'complex'>\n",
            "(4-3j) <class 'complex'>\n"
          ],
          "name": "stdout"
        }
      ]
    },
    {
      "cell_type": "markdown",
      "metadata": {
        "id": "lmoHMY7U-AZi",
        "colab_type": "text"
      },
      "source": [
        "Les opérations habituelles d'addition, de soustraction, de multiplication et de division peuvent toutes être effectuées sur des nombres complexes. Les parties réelles et imaginaires peuvent être extraites :"
      ]
    },
    {
      "cell_type": "code",
      "metadata": {
        "id": "wzi5HMzD-AZi",
        "colab_type": "code",
        "colab": {
          "base_uri": "https://localhost:8080/",
          "height": 50
        },
        "outputId": "55547615-1d08-423d-fed8-61de7a06cc97"
      },
      "source": [
        "print(b.imag)\n",
        "print(b.real)"
      ],
      "execution_count": null,
      "outputs": [
        {
          "output_type": "stream",
          "text": [
            "-3.0\n",
            "4.0\n"
          ],
          "name": "stdout"
        }
      ]
    },
    {
      "cell_type": "markdown",
      "metadata": {
        "id": "HDobDj0u-AZl",
        "colab_type": "text"
      },
      "source": [
        "et le conjugué complexe peut être pris :"
      ]
    },
    {
      "cell_type": "code",
      "metadata": {
        "id": "fkRzDoed-AZl",
        "colab_type": "code",
        "colab": {
          "base_uri": "https://localhost:8080/",
          "height": 34
        },
        "outputId": "e4d68a43-6098-4364-ea26-6e114dd8c94d"
      },
      "source": [
        "print(b.conjugate())"
      ],
      "execution_count": null,
      "outputs": [
        {
          "output_type": "stream",
          "text": [
            "(4+3j)\n"
          ],
          "name": "stdout"
        }
      ]
    },
    {
      "cell_type": "markdown",
      "metadata": {
        "id": "UU0WNCe0-AZo",
        "colab_type": "text"
      },
      "source": [
        "Nous pouvons calculer le module d'un nombre complexe en utilisant des `abs` :"
      ]
    },
    {
      "cell_type": "code",
      "metadata": {
        "id": "_FyiLflK-AZp",
        "colab_type": "code",
        "colab": {
          "base_uri": "https://localhost:8080/",
          "height": 34
        },
        "outputId": "d5750c85-e520-44f4-81fb-1919c531f319"
      },
      "source": [
        "print(abs(b))"
      ],
      "execution_count": null,
      "outputs": [
        {
          "output_type": "stream",
          "text": [
            "5.0\n"
          ],
          "name": "stdout"
        }
      ]
    },
    {
      "cell_type": "markdown",
      "metadata": {
        "id": "dd0Ap3yd-AZs",
        "colab_type": "text"
      },
      "source": [
        "Plus généralement, `abs` renvoie la valeur absolue, par exemple :"
      ]
    },
    {
      "cell_type": "code",
      "metadata": {
        "id": "fjhUyWsO-AZt",
        "colab_type": "code",
        "colab": {
          "base_uri": "https://localhost:8080/",
          "height": 34
        },
        "outputId": "cda6756f-5f75-459b-9518-003b4c3f618b"
      },
      "source": [
        "a = -21.6\n",
        "a = abs(a)\n",
        "print(a)"
      ],
      "execution_count": null,
      "outputs": [
        {
          "output_type": "stream",
          "text": [
            "21.6\n"
          ],
          "name": "stdout"
        }
      ]
    },
    {
      "cell_type": "markdown",
      "metadata": {
        "id": "1RiWKo5b-AZv",
        "colab_type": "text"
      },
      "source": [
        "# Conversions de type (casting)\n",
        "\n",
        "On peut souvent changer de type. C'est ce que l'on appelle la *conversion de type* ou le *moulage de type*. Dans certains cas, cela se produit implicitement, et dans d'autres cas, nous pouvons demander à notre programme de changer de type.\n",
        "\n",
        "Si nous ajoutons deux nombres entiers, le résultat sera un nombre entier :"
      ]
    },
    {
      "cell_type": "code",
      "metadata": {
        "id": "T_I134AW-AZw",
        "colab_type": "code",
        "colab": {
          "base_uri": "https://localhost:8080/",
          "height": 34
        },
        "outputId": "e2f37ae7-0239-4ce6-9af5-016ef674705d"
      },
      "source": [
        "a = 4\n",
        "b = 15\n",
        "c = a + b\n",
        "print(c, type(c))"
      ],
      "execution_count": null,
      "outputs": [
        {
          "output_type": "stream",
          "text": [
            "19 <class 'int'>\n"
          ],
          "name": "stdout"
        }
      ]
    },
    {
      "cell_type": "markdown",
      "metadata": {
        "id": "9KCvLqKp-AZz",
        "colab_type": "text"
      },
      "source": [
        "Cependant, si nous ajoutons un `int` et un `float`, le résultat sera un float :"
      ]
    },
    {
      "cell_type": "code",
      "metadata": {
        "id": "fbhO4d70-AZ0",
        "colab_type": "code",
        "colab": {},
        "outputId": "bcbdf124-060d-4617-d31a-0dfd98882037"
      },
      "source": [
        "a = 4\n",
        "b = 15.0  # L'ajout du '.0' indique à Python qu'il s'agit d'un flotteur\n",
        "c = a + b\n",
        "print(c, type(c))"
      ],
      "execution_count": null,
      "outputs": [
        {
          "output_type": "stream",
          "text": [
            "19.0 <class 'float'>\n"
          ],
          "name": "stdout"
        }
      ]
    },
    {
      "cell_type": "markdown",
      "metadata": {
        "id": "7vZYHcJY-AZ3",
        "colab_type": "text"
      },
      "source": [
        "Si nous divisons deux entiers, le résultat sera un `float` :"
      ]
    },
    {
      "cell_type": "code",
      "metadata": {
        "id": "eW90Yapy-AZ3",
        "colab_type": "code",
        "colab": {},
        "outputId": "797c8e4b-a36b-423f-d4d3-c3f8c8c27ab1"
      },
      "source": [
        "a = 16\n",
        "b = 4\n",
        "c = a/b\n",
        "print(c, type(c))\n",
        "b = 2"
      ],
      "execution_count": null,
      "outputs": [
        {
          "output_type": "stream",
          "text": [
            "4.0 <class 'float'>\n"
          ],
          "name": "stdout"
        }
      ]
    },
    {
      "cell_type": "markdown",
      "metadata": {
        "id": "twfUK7Hg-AZ6",
        "colab_type": "text"
      },
      "source": [
        "Lorsque l'on divise deux entiers, on peut faire une \"division d'entier\" en utilisant `//`, par exemple"
      ]
    },
    {
      "cell_type": "code",
      "metadata": {
        "id": "A7sB1R-4-AZ6",
        "colab_type": "code",
        "colab": {},
        "outputId": "c341be82-42c4-4651-f3e3-166c4c2528aa"
      },
      "source": [
        "a = 16\n",
        "b = 3\n",
        "c = a//b\n",
        "print(c, type(c))"
      ],
      "execution_count": null,
      "outputs": [
        {
          "output_type": "stream",
          "text": [
            "5 <class 'int'>\n"
          ],
          "name": "stdout"
        }
      ]
    },
    {
      "cell_type": "markdown",
      "metadata": {
        "id": "XagAAByz-AZ9",
        "colab_type": "text"
      },
      "source": [
        "auquel cas le résultat est un `int`.\n",
        "\n",
        "En général, les opérations qui mélangent un `int` et un `float` généreront un `float`, et les opérations qui mélangent un `int` ou un `float` avec un `complex` retourneront un type `complex`. En cas de doute, utilisez `type` pour expérimenter et vérifier. "
      ]
    },
    {
      "cell_type": "markdown",
      "metadata": {
        "id": "N-2xk5uR-AZ-",
        "colab_type": "text"
      },
      "source": [
        "## Conversion explicite des types\n",
        "\n",
        "Nous pouvons explicitement changer le type (faire un casting), par exemple passer d'un `int` à un `float` :"
      ]
    },
    {
      "cell_type": "code",
      "metadata": {
        "id": "1zDvL-9p-AZ-",
        "colab_type": "code",
        "colab": {
          "base_uri": "https://localhost:8080/",
          "height": 50
        },
        "outputId": "5a89e4fa-23a7-4cfe-ce0b-21408260d18e"
      },
      "source": [
        "a = 1\n",
        "print(a, type(a))\n",
        "\n",
        "a = float(a)  # Cela convertit l'int associé à 'a' en un flotteur, et affecte le résultat à la variable 'a'.\n",
        "print(a, type(a))"
      ],
      "execution_count": null,
      "outputs": [
        {
          "output_type": "stream",
          "text": [
            "1 <class 'int'>\n",
            "1.0 <class 'float'>\n"
          ],
          "name": "stdout"
        }
      ]
    },
    {
      "cell_type": "markdown",
      "metadata": {
        "id": "xXGRJaI3-AaB",
        "colab_type": "text"
      },
      "source": [
        "En allant dans l'autre sens,"
      ]
    },
    {
      "cell_type": "code",
      "metadata": {
        "id": "3DNAMjQk-AaC",
        "colab_type": "code",
        "colab": {
          "base_uri": "https://localhost:8080/",
          "height": 50
        },
        "outputId": "d61265d5-0641-4981-9c54-3650ad7904ba"
      },
      "source": [
        "y = 1.99\n",
        "print(y, type(y))\n",
        "\n",
        "z = int(y)\n",
        "print(z, type(z))"
      ],
      "execution_count": null,
      "outputs": [
        {
          "output_type": "stream",
          "text": [
            "1.99 <class 'float'>\n",
            "1 <class 'int'>\n"
          ],
          "name": "stdout"
        }
      ]
    },
    {
      "cell_type": "markdown",
      "metadata": {
        "id": "5ZNBvgh1-AaF",
        "colab_type": "text"
      },
      "source": [
        "Notez que l'arrondi est appliqué lors de la conversion d'un `float` en un `int` ; les valeurs après la virgule sont rejetées. Ce type d'arrondi est appelé \"arrondi vers zéro\" ou \"troncature\".\n",
        "\n",
        "Une tâche courante consiste à convertir des types numériques en chaînes de caractères. Nous pouvons lire un nombre dans un fichier sous forme de chaîne, ou un utilisateur peut entrer une valeur que Python lit sous forme de chaîne. Conversion d'un flottant en chaîne de caractères :"
      ]
    },
    {
      "cell_type": "code",
      "metadata": {
        "id": "pKccFmiK-AaF",
        "colab_type": "code",
        "colab": {},
        "outputId": "dfd988a3-97e8-4e6b-b0f3-9928f6a8ca07"
      },
      "source": [
        "a = 1.023\n",
        "b = str(a)\n",
        "print(b, type(b))"
      ],
      "execution_count": null,
      "outputs": [
        {
          "output_type": "stream",
          "text": [
            "1.023 <class 'str'>\n"
          ],
          "name": "stdout"
        }
      ]
    },
    {
      "cell_type": "markdown",
      "metadata": {
        "id": "5E5cgObX-AaI",
        "colab_type": "text"
      },
      "source": [
        "et dans l'autre sens :"
      ]
    },
    {
      "cell_type": "code",
      "metadata": {
        "id": "ueSqbn7J-AaJ",
        "colab_type": "code",
        "colab": {
          "base_uri": "https://localhost:8080/",
          "height": 50
        },
        "outputId": "0cd67afd-368d-4eb9-851c-8af6d5ce2c39"
      },
      "source": [
        "a = \"15.07\"\n",
        "b = \"18.07\"\n",
        "\n",
        "print(a + b)\n",
        "print(float(a) + float(b))"
      ],
      "execution_count": null,
      "outputs": [
        {
          "output_type": "stream",
          "text": [
            "15.0718.07\n",
            "33.14\n"
          ],
          "name": "stdout"
        }
      ]
    },
    {
      "cell_type": "markdown",
      "metadata": {
        "id": "3mX16XKO-AaM",
        "colab_type": "text"
      },
      "source": [
        "Si nous essayions \n",
        "```python\n",
        "print(int(a) + int(b))\n",
        "```\n",
        "nous pourrions obtenir une erreur qui empêcherait de convertir les chaînes de caractères en `int`. Cela fonctionne dans ce cas :"
      ]
    },
    {
      "cell_type": "code",
      "metadata": {
        "id": "aFh8j5Sa-AaM",
        "colab_type": "code",
        "colab": {
          "base_uri": "https://localhost:8080/",
          "height": 34
        },
        "outputId": "a54409a8-5200-4237-cc7f-846449de9973"
      },
      "source": [
        "a = \"15\"\n",
        "b = \"18\"\n",
        "print(int(a) + int(b))"
      ],
      "execution_count": null,
      "outputs": [
        {
          "output_type": "stream",
          "text": [
            "33\n"
          ],
          "name": "stdout"
        }
      ]
    },
    {
      "cell_type": "markdown",
      "metadata": {
        "id": "fSxK0ung-AaQ",
        "colab_type": "text"
      },
      "source": [
        "puisque ces chaînes peuvent être correctement coulées en nombres entiers."
      ]
    },
    {
      "cell_type": "markdown",
      "metadata": {
        "id": "HfWoNVHL-AaQ",
        "colab_type": "text"
      },
      "source": [
        "## Explosion de la fusée Ariane 5 et conversion de type\n",
        "\n",
        "L'explosion de la fusée Ariane 5 a été causée par un débordement d'entier. La vitesse de la fusée a été enregistrée sous la forme d'un flotteur de 64 bits, qui a été converti dans le logiciel de navigation en un nombre entier de 16 bits. Cependant, la valeur du \"flot\" était supérieure à $32767$, le plus grand nombre qu'un nombre entier de 16-bits puisse représenter, et cela a conduit à un débordement qui à son tour a causé la défaillance du système de navigation et l'explosion de la fusée.\n",
        "\n",
        "Nous pouvons démontrer ce qui s'est passé dans le programme de la fusée. Nous considérons une vitesse de $40000.54$ (les unités ne sont pas pertinentes pour ce qui est démontré), stockée comme un `float` (64 bits) :"
      ]
    },
    {
      "cell_type": "code",
      "metadata": {
        "id": "u5gRiwc0-AaR",
        "colab_type": "code",
        "colab": {}
      },
      "source": [
        "speed_float = 40000.54"
      ],
      "execution_count": null,
      "outputs": []
    },
    {
      "cell_type": "markdown",
      "metadata": {
        "id": "Fdga9jqW-AaT",
        "colab_type": "text"
      },
      "source": [
        "Si nous convertissons d'abord le flottant en un `int` de 32-bit (nous utilisons NumPy pour obtenir des entiers avec un nombre fixe de bits. Nous en parlerons davantage sur NumPy dans un prochain notebook) :"
      ]
    },
    {
      "cell_type": "code",
      "metadata": {
        "id": "PUlqvqr_-AaU",
        "colab_type": "code",
        "colab": {
          "base_uri": "https://localhost:8080/",
          "height": 34
        },
        "outputId": "e48d1b88-5867-47d7-ce01-8551eda5ab06"
      },
      "source": [
        "import numpy as np\n",
        "speed_int = np.int32(speed_float)  # Convertir la vitesse en un int 32-bit\n",
        "print(speed_int)"
      ],
      "execution_count": null,
      "outputs": [
        {
          "output_type": "stream",
          "text": [
            "40000\n"
          ],
          "name": "stdout"
        }
      ]
    },
    {
      "cell_type": "markdown",
      "metadata": {
        "id": "HaNd3-qB-AaX",
        "colab_type": "text"
      },
      "source": [
        "La conversion se déroule comme on peut s'y attendre. Maintenant, si nous convertissons la vitesse du `float` en un entier de 16 bits :"
      ]
    },
    {
      "cell_type": "code",
      "metadata": {
        "id": "QbLiuzDd-AaX",
        "colab_type": "code",
        "colab": {
          "base_uri": "https://localhost:8080/",
          "height": 34
        },
        "outputId": "a07e8d88-917b-4ab1-b34a-1cf28bd032ed"
      },
      "source": [
        "speed_int = np.int16(speed_float)\n",
        "print(speed_int)"
      ],
      "execution_count": null,
      "outputs": [
        {
          "output_type": "stream",
          "text": [
            "-25536\n"
          ],
          "name": "stdout"
        }
      ]
    },
    {
      "cell_type": "markdown",
      "metadata": {
        "id": "jfowdaTG-Aaa",
        "colab_type": "text"
      },
      "source": [
        "Nous voyons clairement le résultat d'un dépassement d'entier puisque l'entier de 16 bits a trop peu de bits pour représenter le nombre \n",
        "40000.\n",
        "\n",
        "L'échec d'Ariane 5 aurait été évité grâce aux essais de pré-lancement et aux quelques lignes suivantes :"
      ]
    },
    {
      "cell_type": "code",
      "metadata": {
        "id": "rnaRmeEb-Aaa",
        "colab_type": "code",
        "colab": {
          "base_uri": "https://localhost:8080/",
          "height": 54
        },
        "outputId": "d633c340-d815-4cdd-99d6-0114f51846da"
      },
      "source": [
        "if abs(speed_float) > np.iinfo(np.int16).max:\n",
        "    print(\"***Erreur, on ne peut pas assigner la vitesse à un entier de 16 bits. Cela provoquera un débordement.\")\n",
        "    # Commande d'appel ici pour sortir du programme\n",
        "else:\n",
        "    speed_int = np.int16(speed_float)"
      ],
      "execution_count": null,
      "outputs": [
        {
          "output_type": "stream",
          "text": [
            "***Erreur, on ne peut pas assigner la vitesse à un entier de 16 bits. Cela provoquera un débordement.\n"
          ],
          "name": "stdout"
        }
      ]
    },
    {
      "cell_type": "markdown",
      "metadata": {
        "id": "6dJT0qF_-Aad",
        "colab_type": "text"
      },
      "source": [
        "Ces quelques lignes et des essais minutieux auraient permis d'économiser la charge utile de 500 millions de dollars et le coût de la fusée.\n",
        "\n",
        "L'incident d'Ariane 5 est un exemple non seulement de programmation médiocre, mais aussi de tests et de génie logiciel très médiocres. Des tests minutieux du logiciel avant le lancement auraient permis de détecter ce problème. Le programme aurait dû vérifier la valeur de la vitesse avant d'effectuer la conversion, et déclencher un message d'erreur indiquant que la conversion de type entraînerait un débordement."
      ]
    },
    {
      "cell_type": "markdown",
      "metadata": {
        "id": "CLhosTBd-Aaf",
        "colab_type": "text"
      },
      "source": [
        "# Représentation binaire et arithmétique en virgule flottante\n",
        "\n",
        "## Représentation binaire (base 2)\n",
        "\n",
        "Les ordinateurs stockent les données en utilisant des \"bits\", et un bit est un commutateur qui peut avoir une valeur de 0 ou 1. Cela signifie que les ordinateurs stockent les nombres en binaire (base 2), alors que nous travaillons presque toujours avec des nombres décimaux (base 10).\n",
        "Par exemple, le nombre binaire $110$ est égal à  $0 \\times 2^{0} + 1 \\times 2^{1} + 1 \\times 2^{2} = 6$\n",
        "(lire $110$ de droite à gauche).\n",
        "Vous trouverez ci-dessous un tableau avec la représentation décimale (base 10) et la représentation binaire correspondante (base 2) de certains nombres. Voir <https://en.wikipedia.org/wiki/Binary_number> si vous voulez en savoir plus.\n",
        "\n",
        "| Décimal | Binaire |\n",
        "| ------  |-------- |\n",
        "|0        | 0       | \n",
        "|1        | 1       | \n",
        "|2        | 10      |\n",
        "|3        | 11      |\n",
        "|4        | 100     |\n",
        "|5        | 101     |\n",
        "|6        | 110     |\n",
        "|7        | 111     |\n",
        "|8        | 1000    |\n",
        "|9        | 1001    |\n",
        "|10       | 1010    |\n",
        "|11       | 1011    |\n",
        "|12       | 1100    |\n",
        "|13       | 1101    |\n",
        "|14       | 1110    |\n",
        "|15       | 1111    |\n",
        "\n",
        "Pour représenter n'importe quel entier, il suffit d'avoir suffisamment de bits pour stocker la représentation binaire. Si nous avons des bits $n$, le plus grand nombre que nous pouvons stocker est $2^{n -1} - 1$ (la puissance est $n - 1$ parce que nous utilisons un bit pour stocker le signe de l'entier).\n",
        "\n",
        "Nous pouvons afficher la représentation binaire d'un entier en Python en utilisant la fonction `bin` :"
      ]
    },
    {
      "cell_type": "code",
      "metadata": {
        "id": "j8U3Y5rI-Aag",
        "colab_type": "code",
        "colab": {},
        "outputId": "3ec817cb-66fe-456c-cc07-78c7bdcd4cf2"
      },
      "source": [
        "print(bin(2))\n",
        "print(bin(6))\n",
        "print(bin(110))"
      ],
      "execution_count": null,
      "outputs": [
        {
          "output_type": "stream",
          "text": [
            "0b10\n",
            "0b110\n",
            "0b1101110\n"
          ],
          "name": "stdout"
        }
      ]
    },
    {
      "cell_type": "markdown",
      "metadata": {
        "id": "xdz9XNrI-Aai",
        "colab_type": "text"
      },
      "source": [
        "Le préfixe `0b` indique que la représentation est binaire."
      ]
    },
    {
      "cell_type": "markdown",
      "metadata": {
        "collapsed": true,
        "id": "S6q8dZML-Aak",
        "colab_type": "text"
      },
      "source": [
        "## Numéros à virgule flottante\n",
        "\n",
        "Nous avons introduit la représentation\n",
        "\n",
        "$$\n",
        "10.45 = \\underbrace{+}_{\\text{sign}} \\underbrace{1045}_{\\text{signifiant}} \\times \\underbrace{10^{-2}}_{\\text{exposant}}\n",
        "$$\n",
        "\n",
        "plus tôt. Cependant, cela était un peu trompeur car les ordinateurs n'utilisent pas la base 10\n",
        "pour stocker le significateur et l'exposant, mais en base 2. \n",
        "\n",
        "Lorsque l'on utilise la base 10 bien connue, on ne peut pas représenter $1/3$ exactement comme une décimale. Si nous aimions utiliser la base 3 (système de chiffres ternaires) pour notre calcul mental (ce que nous ne faisons pas vraiment), nous pourrions représenter 1/3$ exactement. Cependant, les fractions qui sont simples à représenter exactement en base 10 pourraient ne pas être représentables dans une autre base.\n",
        "La conséquence est que les fractions qui sont simples en base 10 ne peuvent pas nécessairement être représentées exactement par des ordinateurs utilisant le binaire.\n",
        "\n",
        "Un exemple classique est $1/10 = 0,1$. Ce nombre simple ne peut pas être représenté exactement en\n",
        "binaire. Au contraire, $1/2 = 0,5$ peut être représenté exactement. Pour explorer cela, attribuons le nombre 0,1 à la variable `x` et imprimons le résultat :"
      ]
    },
    {
      "cell_type": "code",
      "metadata": {
        "id": "3XtcDaVl-Aal",
        "colab_type": "code",
        "colab": {
          "base_uri": "https://localhost:8080/",
          "height": 34
        },
        "outputId": "f59bb46e-a895-4b60-9faf-2114626b6e32"
      },
      "source": [
        "x = 0.1\n",
        "print(x)"
      ],
      "execution_count": null,
      "outputs": [
        {
          "output_type": "stream",
          "text": [
            "0.1\n"
          ],
          "name": "stdout"
        }
      ]
    },
    {
      "cell_type": "markdown",
      "metadata": {
        "id": "kOAWK5dJ-Aar",
        "colab_type": "text"
      },
      "source": [
        "Cela semble bien, mais la déclaration `print` cache certains détails. En demandant à l'instruction `print` d'utiliser 30 caractères, nous voyons que `x` n'est pas exactement 0.1 :"
      ]
    },
    {
      "cell_type": "code",
      "metadata": {
        "id": "NfXWkE6a-Aas",
        "colab_type": "code",
        "colab": {
          "base_uri": "https://localhost:8080/",
          "height": 34
        },
        "outputId": "9f7a2da1-6662-408e-bffe-d03bffd61503"
      },
      "source": [
        "print('{0:.30f}'.format(x))"
      ],
      "execution_count": null,
      "outputs": [
        {
          "output_type": "stream",
          "text": [
            "0.100000000000000005551115123126\n"
          ],
          "name": "stdout"
        }
      ]
    },
    {
      "cell_type": "markdown",
      "metadata": {
        "id": "giAcij1i-Aaw",
        "colab_type": "text"
      },
      "source": [
        "La différence entre 0,1 et la représentation binaire est *l'erreur d'arrondi (roundoff error)* (nous examinerons la syntaxe de formatage de l'impression dans une activité ultérieure). D'après ce qui précède, nous pouvons voir que la représentation est précise à environ 17 chiffres significatifs.\n",
        "\n",
        "En vérifiant la valeur 0,5, nous constatons qu'elle semble être représentée avec exactitude :"
      ]
    },
    {
      "cell_type": "code",
      "metadata": {
        "id": "LjkNP93f-Aax",
        "colab_type": "code",
        "colab": {
          "base_uri": "https://localhost:8080/",
          "height": 34
        },
        "outputId": "cdc7a764-5906-40ab-d510-769a20c853a7"
      },
      "source": [
        "print('{0:.30f}'.format(0.5))"
      ],
      "execution_count": null,
      "outputs": [
        {
          "output_type": "stream",
          "text": [
            "0.500000000000000000000000000000\n"
          ],
          "name": "stdout"
        }
      ]
    },
    {
      "cell_type": "markdown",
      "metadata": {
        "id": "5V9Uar-M-Aaz",
        "colab_type": "text"
      },
      "source": [
        "L'erreur d'arrondi pour le cas 0,1 est faible et, dans de nombreux cas, ne posera pas de problème. Cependant, il arrive que les erreurs d'arrondi s'accumulent et détruisent la précision."
      ]
    },
    {
      "cell_type": "markdown",
      "metadata": {
        "id": "NZ8DIPPM-Aa0",
        "colab_type": "text"
      },
      "source": [
        "### Exemple : représentation inexacte\n",
        "\n",
        "Il est trivial que\n",
        "\n",
        "$$\n",
        "x = 11x - 10x\n",
        "$$\n",
        "\n",
        "Si $x = 0,1$, on peut écrire\n",
        "\n",
        "$$\n",
        "x = 11x - 1\n",
        "$$\n",
        "\n",
        "Maintenant, en commençant par $x = 0,1$, nous évaluons le côté droit pour obtenir un \"nouveau\" $x$, et utilisons ce nouveau $x$ pour évaluer à nouveau le côté droit. L'arithmétique est triviale : $x$ doit rester égal à $0,1$.\n",
        "Nous testons cela dans un programme qui répète ce processus 20 fois : "
      ]
    },
    {
      "cell_type": "code",
      "metadata": {
        "id": "2Q8qd2m7-Aa0",
        "colab_type": "code",
        "colab": {
          "base_uri": "https://localhost:8080/",
          "height": 353
        },
        "outputId": "f1163c15-5cd7-4086-92e3-e2187fc9f1e1"
      },
      "source": [
        "x = 0.1\n",
        "for i in range(20):\n",
        "    x = x*11 - 1\n",
        "    print(x)"
      ],
      "execution_count": null,
      "outputs": [
        {
          "output_type": "stream",
          "text": [
            "0.10000000000000009\n",
            "0.10000000000000098\n",
            "0.10000000000001075\n",
            "0.10000000000011822\n",
            "0.10000000000130038\n",
            "0.1000000000143042\n",
            "0.10000000015734622\n",
            "0.10000000173080847\n",
            "0.10000001903889322\n",
            "0.10000020942782539\n",
            "0.10000230370607932\n",
            "0.10002534076687253\n",
            "0.10027874843559781\n",
            "0.1030662327915759\n",
            "0.13372856070733485\n",
            "0.4710141677806834\n",
            "4.181155845587517\n",
            "44.992714301462684\n",
            "493.9198573160895\n",
            "5432.118430476985\n"
          ],
          "name": "stdout"
        }
      ]
    },
    {
      "cell_type": "markdown",
      "metadata": {
        "id": "XoFppyWa-Aa3",
        "colab_type": "text"
      },
      "source": [
        "La solution explose et s'écarte largement de $x = 0,1$. Les erreurs d'arrondi sont amplifiées à chaque étape, ce qui conduit à une réponse complètement fausse. La représentation informatique de $0.1$ n'est pas exacte, et chaque fois que nous multiplions $0.1$ par $11$, nous augmentons l'erreur d'un facteur de 10 environ (nous pouvons voir ci-dessus que nous perdons un chiffre de précision à chaque étape). \n",
        "Vous pouvez observer le même problème à l'aide de tableurs."
      ]
    },
    {
      "cell_type": "markdown",
      "metadata": {
        "id": "W5KuqQvS-Aa4",
        "colab_type": "text"
      },
      "source": [
        "Si nous utilisons $x = 0,5$, qui peut être représenté exactement en binaire :"
      ]
    },
    {
      "cell_type": "code",
      "metadata": {
        "id": "lrZPimkz-Aa4",
        "colab_type": "code",
        "colab": {},
        "outputId": "b33eb0d9-c46c-42e7-d85c-bcf0c0242afb"
      },
      "source": [
        "x = 0.5\n",
        "for i in range(20):\n",
        "    x = x*11 - 5\n",
        "    print(x)"
      ],
      "execution_count": null,
      "outputs": [
        {
          "output_type": "stream",
          "text": [
            "0.5\n",
            "0.5\n",
            "0.5\n",
            "0.5\n",
            "0.5\n",
            "0.5\n",
            "0.5\n",
            "0.5\n",
            "0.5\n",
            "0.5\n",
            "0.5\n",
            "0.5\n",
            "0.5\n",
            "0.5\n",
            "0.5\n",
            "0.5\n",
            "0.5\n",
            "0.5\n",
            "0.5\n",
            "0.5\n"
          ],
          "name": "stdout"
        }
      ]
    },
    {
      "cell_type": "markdown",
      "metadata": {
        "id": "zMzkaMQH-Aa7",
        "colab_type": "text"
      },
      "source": [
        "Le résultat est exact dans ce cas.\n",
        "\n",
        "Par défaut, Python utilise 64 bits pour stocker un flotteur. Nous pouvons utiliser le module NumPy pour créer un \n",
        "flotteur qui n'utilise que 32 bits. Tester ceci pour le cas $x = 0,1$ :"
      ]
    },
    {
      "cell_type": "code",
      "metadata": {
        "id": "L4xY0aUZ-Aa7",
        "colab_type": "code",
        "colab": {},
        "outputId": "7fa23633-8808-458e-ab5e-ab7aca508a8c"
      },
      "source": [
        "x = np.float32(0.1)\n",
        "for i in range(20):\n",
        "    x = x*11 - 1\n",
        "    print(x)"
      ],
      "execution_count": null,
      "outputs": [
        {
          "output_type": "stream",
          "text": [
            "0.10000001639127731\n",
            "0.10000018030405045\n",
            "0.1000019833445549\n",
            "0.10002181679010391\n",
            "0.10023998469114304\n",
            "0.1026398316025734\n",
            "0.12903814762830734\n",
            "0.41941962391138077\n",
            "3.6136158630251884\n",
            "38.74977449327707\n",
            "425.2475194260478\n",
            "4676.722713686526\n",
            "51442.949850551784\n",
            "565871.4483560696\n",
            "6224584.931916766\n",
            "68470433.25108442\n",
            "753174764.7619286\n",
            "8284922411.381214\n",
            "91134146524.19336\n",
            "1002475611765.127\n"
          ],
          "name": "stdout"
        }
      ]
    },
    {
      "cell_type": "markdown",
      "metadata": {
        "id": "cWPqjcOQ-AbA",
        "colab_type": "text"
      },
      "source": [
        "Dans ce cas, l'erreur est plus rapide que dans le cas de 64 bits - l'utilisation de 32 bits conduit à une approximation plus faible de $0.1$ que l'utilisation de 64 bits.\n",
        "\n",
        "*Note : Certaines langues disposent d'outils spéciaux pour effectuer des calculs décimaux (base 10) (par exemple, https://docs.python.org/3/library/decimal.html). Cela permettrait, par exemple, de représenter exactement $0.1$. Cependant, la décimale n'est pas l'arithmétique \"naturelle\" des ordinateurs, de sorte que les opérations en décimale devraient être beaucoup plus lentes."
      ]
    },
    {
      "cell_type": "markdown",
      "metadata": {
        "id": "YCLxM9FJ-AbB",
        "colab_type": "text"
      },
      "source": [
        "## Échec du missile Patriot\n",
        "\n",
        "La représentation inexacte de $0.1$ est à l'origine de l'erreur de logiciel dans le système de missiles Patriot (voir préambule de ce notebook). \n",
        "Le système de missiles suivait le temps depuis le démarrage (démarrage du système) en utilisant un compteur d'entier qui était incrémenté tous les $1/10$ de seconde. À l'adresse suivante :\n",
        "obtenir le temps en secondes, le logiciel du missile a multiplié le compteur par la représentation du flotteur de $ 0,1$. \n",
        "Le logiciel de contrôle utilisait 24 bits pour stocker les flotteurs. L'erreur d'arrondi due à la représentation inexacte de $0.1$ a conduit à une erreur de $0.32$ s après 100 heures de fonctionnement (temps depuis le démarrage), ce qui, en raison de la vitesse élevée du missile, a suffi pour provoquer l'échec de l'interception du Scud entrant.\n",
        "\n",
        "Nous n'avons pas de flotteurs 24 bits en Python, mais nous pouvons tester avec des flotteurs 16, 32 et 64 bits.\n",
        "Nous calculons d'abord ce que serait le compteur du système (un nombre entier) après 100 heures :"
      ]
    },
    {
      "cell_type": "code",
      "metadata": {
        "id": "_QDJpXs3-AbB",
        "colab_type": "code",
        "colab": {}
      },
      "source": [
        "# Calculer le compteur du système interne après 100 heures (incrémentation du compteur toutes les 1/10 s)\n",
        "num_hours = 100\n",
        "num_seconds = num_hours*60*60\n",
        "system_counter = num_seconds*10  # compteur de l'horloge du système"
      ],
      "execution_count": null,
      "outputs": []
    },
    {
      "cell_type": "markdown",
      "metadata": {
        "id": "sybswatM-AbE",
        "colab_type": "text"
      },
      "source": [
        "Conversion du compteur du système en secondes en utilisant différentes représentations de 0,1 :"
      ]
    },
    {
      "cell_type": "code",
      "metadata": {
        "id": "ILIopA8p-AbE",
        "colab_type": "code",
        "colab": {
          "base_uri": "https://localhost:8080/",
          "height": 87
        },
        "outputId": "a7f68ff0-4686-4e1e-e2dc-a4a4336bb934"
      },
      "source": [
        "# Test avec un float de 16 bits\n",
        "dt = np.float16(0.1)\n",
        "time = dt*system_counter\n",
        "print(\"Erreur de temps après 100 heures en utilisant un float de 16 bits (s):\", abs(time - num_seconds))\n",
        "\n",
        "# Test avec un float de 32 bits\n",
        "dt = np.float32(0.1)\n",
        "time = dt*system_counter\n",
        "print(\"Erreur de temps après 100 heures en utilisant un float de 32 bits (s):\", abs(time - num_seconds))\n",
        "\n",
        "# Test avec un float de 64 bits\n",
        "dt = np.float64(0.1)\n",
        "time = dt*system_counter\n",
        "print(\"Erreur de temps après 100 heures en utilisant un float de 64 bits (s):\", abs(time - num_seconds))"
      ],
      "execution_count": null,
      "outputs": [
        {
          "output_type": "stream",
          "text": [
            "Erreur de temps après 100 heures en utilisant un float de 16 bits (s): 87.890625\n",
            "Erreur de temps après 100 heures en utilisant un float de 32 bits (s): 0.005364418029785156\n",
            "Erreur de temps après 100 heures en utilisant un float de 64 bits (s): 0.0\n"
          ],
          "name": "stdout"
        }
      ]
    },
    {
      "cell_type": "markdown",
      "metadata": {
        "id": "HolYkdXb-AbH",
        "colab_type": "text"
      },
      "source": [
        "Le calcul du temps avec des flotteurs de 16 bits est plus d'une minute en moins après 100 heures ! La mesure d'arrêt \n",
        "pour les missiles Patriot à l'époque était de redémarrer fréquemment les systèmes de missiles, ce qui permettait de réinitialiser le compteur du système et de réduire l'erreur de temps."
      ]
    },
    {
      "cell_type": "markdown",
      "metadata": {
        "id": "s8iXgeF5-AbH",
        "colab_type": "text"
      },
      "source": [
        "# Résumé\n",
        "\n",
        "Les points clés de cette activité sont les suivants :\n",
        "\n",
        "- La taille d'un entier qu'un ordinateur peut stocker est déterminée par le nombre de bits utilisés pour représenter le \n",
        "  entier.\n",
        "- Les ordinateurs n'effectuent pas d'arithmétique exacte avec des nombres non entiers. Cela ne pose généralement pas de problème, mais \n",
        "  il peut dans les cas. Les problèmes peuvent souvent être évités grâce à une programmation soignée.\n",
        "- Soyez attentif lors de la conversion entre les types - des conséquences indésirables peuvent survenir si vous ne faites pas attention avec \n",
        "  conversions."
      ]
    },
    {
      "cell_type": "markdown",
      "metadata": {
        "id": "y1Hp-Il7-AbH",
        "colab_type": "text"
      },
      "source": [
        "# Exercises\n",
        "\n",
        "Complete now the [03 Exercises](Exercises/03%20Exercises.ipynb) notebook."
      ]
    }
  ]
}