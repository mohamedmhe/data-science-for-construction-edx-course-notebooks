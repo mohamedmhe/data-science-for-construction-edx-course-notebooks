{
  "nbformat": 4,
  "nbformat_minor": 0,
  "metadata": {
    "kernelspec": {
      "display_name": "Python 3",
      "language": "python",
      "name": "python3"
    },
    "language_info": {
      "codemirror_mode": {
        "name": "ipython",
        "version": 3
      },
      "file_extension": ".py",
      "mimetype": "text/x-python",
      "name": "python",
      "nbconvert_exporter": "python",
      "pygments_lexer": "ipython3",
      "version": "3.6.6"
    },
    "colab": {
      "name": "fr 02 Control statements.ipynb",
      "provenance": [],
      "collapsed_sections": [],
      "include_colab_link": true
    }
  },
  "cells": [
    {
      "cell_type": "markdown",
      "metadata": {
        "id": "view-in-github",
        "colab_type": "text"
      },
      "source": [
        "<a href=\"https://colab.research.google.com/github/mohamedmhe/data-science-for-construction-edx-course-notebooks/blob/fr/Week%201%20-%20Python%20Fundamentals/fr_02_Control_statements.ipynb\" target=\"_parent\"><img src=\"https://colab.research.google.com/assets/colab-badge.svg\" alt=\"Open In Colab\"/></a>"
      ]
    },
    {
      "cell_type": "markdown",
      "metadata": {
        "id": "rMSUwcsezbgT",
        "colab_type": "text"
      },
      "source": [
        "# Introduction\n",
        "\n",
        "Les déclarations de contrôle permettent à un programme de modifier ce qu'il fait en fonction des données d'entrée ou autres.\n",
        "Les flux typiques d'un programme informatique impliquent des structures comme\n",
        "\n",
        "- si \"X\" fait la tâche \"A\", sinon si \"Y\" fait la tâche \"B\n",
        "- effectuer la tâche \"A\" \"N\" fois\n",
        "- effectuer la tâche \"B\" jusqu'à ce que \"X\" soit vrai\n",
        "\n",
        "Ces flux sont mis en œuvre au moyen de ce que l'on appelle des \"déclarations de contrôle\". Ils sont également connus sous le nom de \"branching\" - le chemin suivi par un programme dépend des données d'entrée. Les instructions de contrôle constituent une partie importante de tous les programmes informatiques non triviaux.\n",
        "\n",
        "\n",
        "## Objectifs\n",
        "\n",
        "- Introduire les types booléens\n",
        "- Introduire des opérateurs de comparaison\n",
        "- Apprendre à utiliser les déclarations de contrôle\n",
        "\n",
        "\n",
        "## Exemple de déclaration de contrôle en pseudo-code\n",
        "\n",
        "Un lève-vitre électrique, relié à un capteur de pluie et de température \n",
        "pourrait être contrôlé par le programme suivant :\n",
        "\n",
        "    s'il pleut :  # S'il pleut, fermez la fenêtre\n",
        "        close_window()\n",
        "    sinon si la température > 26 : # Si la température est supérieure à 26 degrés, ouvrir la fenêtre\n",
        "        open_window()\n",
        "    sinon si température < 19 : # Si la température est inférieure à 19 degrés, fermer la fenêtre\n",
        "        close_window()\n",
        "    d'autre part :  # Sinon, ne faites rien et laissez la fenêtre telle qu'elle est\n",
        "        passer\n",
        "\n",
        "Il est facile d'imaginer que le programme soit rendu plus sophistiqué en utilisant l'heure et le jour de la semaine, ou qu'il soit relié à un détecteur de fumée.\n",
        "\n",
        "Nous examinerons différents types de déclarations de contrôle, mais nous devons d'abord introduire des types booléens et des opérateurs de comparaison."
      ]
    },
    {
      "cell_type": "markdown",
      "metadata": {
        "id": "sgfPisUhzbgV",
        "colab_type": "text"
      },
      "source": [
        "Booléens\n",
        "\n",
        "Avant de commencer avec les déclarations de contrôle, nous devons introduire les booléens.\n",
        "Un booléen est un type de variable qui peut prendre l'une des deux valeurs suivantes : -true ou false."
      ]
    },
    {
      "cell_type": "code",
      "metadata": {
        "id": "5OOKcqVCzbgW",
        "colab_type": "code",
        "colab": {},
        "outputId": "910945bf-071d-427c-ae76-a0ed44132a9a"
      },
      "source": [
        "a = True\n",
        "print(a)\n",
        "\n",
        "a = False\n",
        "print(a)"
      ],
      "execution_count": null,
      "outputs": [
        {
          "output_type": "stream",
          "text": [
            "True\n",
            "False\n"
          ],
          "name": "stdout"
        }
      ]
    },
    {
      "cell_type": "markdown",
      "metadata": {
        "id": "Zh3xvn6ozbgc",
        "colab_type": "text"
      },
      "source": [
        "Les booléens sont largement utilisés dans les déclarations de contrôle."
      ]
    },
    {
      "cell_type": "markdown",
      "metadata": {
        "id": "zBSgVtnnzbgc",
        "colab_type": "text"
      },
      "source": [
        "# Opérateurs de comparaison\n",
        "\n",
        "Nous voulons souvent vérifier dans un programme comment deux variables sont liées entre elles, par exemple si l'une est inférieure à l'autre, ou si deux variables sont égales. Nous le faisons avec des \"opérateurs de comparaison\", tels que `<`, `<=`, `>`, `>=` et `==`. \n",
        "\n",
        "Voici un exemple permettant de vérifier si un nombre `a` est inférieur ou supérieur à un nombre `b` :"
      ]
    },
    {
      "cell_type": "code",
      "metadata": {
        "id": "gyrAtsMHzbgd",
        "colab_type": "code",
        "colab": {},
        "outputId": "65d5474d-1b31-4e5b-d2d9-ddd9f2d40b92"
      },
      "source": [
        "a = 10.0\n",
        "b = 9.9\n",
        "print(a < b)\n",
        "print(a > b)"
      ],
      "execution_count": null,
      "outputs": [
        {
          "output_type": "stream",
          "text": [
            "False\n",
            "True\n"
          ],
          "name": "stdout"
        }
      ]
    },
    {
      "cell_type": "markdown",
      "metadata": {
        "id": "xOKmTihFzbgh",
        "colab_type": "text"
      },
      "source": [
        "L'égalité est vérifiée à l'aide de \" `==` \", et \" `!=` \" est utilisé pour tester si deux variables sont différents. Vous trouverez ci-dessous quelques exemples à lire."
      ]
    },
    {
      "cell_type": "code",
      "metadata": {
        "id": "Jfgpytsnzbgh",
        "colab_type": "code",
        "colab": {
          "base_uri": "https://localhost:8080/",
          "height": 218
        },
        "outputId": "a8914b0e-698d-422a-bfdc-39db14ad7208"
      },
      "source": [
        "a = 14\n",
        "b = -9\n",
        "c = 14\n",
        "\n",
        "# Vérifiez si a est égal à b \n",
        "print(\"Est-ce que a est égal à b ?\")\n",
        "print(a == b)\n",
        "\n",
        "# Vérifiez si a est égal à c \n",
        "print(\"Est-ce que a est égal à c ?\")\n",
        "print(a == c)\n",
        "\n",
        "# Vérifiez si a n'est pas égal à c \n",
        "print(\"A n'est-il pas égal à c ?\")\n",
        "print(a != c)\n",
        "\n",
        "# Vérifiez si a est inférieur ou égal à b \n",
        "print(\"Est-ce que a est inférieur ou égal à b ?\")\n",
        "print(a <= b)\n",
        "\n",
        "# Vérifiez si a est inférieur ou égal à c \n",
        "print(\"Est-ce que a est inférieur ou égal à c ?\")\n",
        "print(a <= c)\n",
        "\n",
        "# Vérifier si deux couleurs sont identiques\n",
        "couleur0 = 'bleu'\n",
        "couleur1 = 'vert'\n",
        "print(\"La couleur0 est-elle la même que la couleur1 ?\")\n",
        "print(couleur0 == couleur1)"
      ],
      "execution_count": null,
      "outputs": [
        {
          "output_type": "stream",
          "text": [
            "Est-ce que a est égal à b ?\n",
            "False\n",
            "Est-ce que a est égal à c ?\n",
            "True\n",
            "A n'est-il pas égal à c ?\n",
            "False\n",
            "Est-ce que a est inférieur ou égal à b ?\n",
            "False\n",
            "Est-ce que a est inférieur ou égal à c ?\n",
            "True\n",
            "La couleur0 est-elle la même que la couleur1 ?\n",
            "False\n"
          ],
          "name": "stdout"
        }
      ]
    },
    {
      "cell_type": "markdown",
      "metadata": {
        "id": "YE9X3lemzbgl",
        "colab_type": "text"
      },
      "source": [
        "# Les opérateurs booléens\n",
        "\n",
        "Dans ce qui précède, nous n'avons utilisé qu'une seule comparaison à la fois. Les opérateurs booléens nous permettent de \"chaîner\" (\"string\" en englais) plusieurs contrôles en utilisant les opérateurs '`and`', '`or`' and '`not`'.\n",
        "Les opérateurs '`and`' and '`or`'  prennent un booléen de chaque côté, et le code\n",
        "```python\n",
        "X and Y\n",
        "```\n",
        "évaluera à `True` if `X` *and* `Y` sont tous deux true, et sinon évaluera à `False`. Le code\n",
        "```python\n",
        "X or Y\n",
        "```\n",
        "évaluera à `True` if `X` *or* `Y` est true, et sinon évaluera à `False`.\n",
        "Voici quelques exemples :"
      ]
    },
    {
      "cell_type": "code",
      "metadata": {
        "id": "GBkQwoq2zbgl",
        "colab_type": "code",
        "colab": {},
        "outputId": "d5f972a6-10fe-431e-f700-acc06e123ebf"
      },
      "source": [
        "# Si 10 < 9 (faux) et 15 < 20 (vrai) -> faux\n",
        "print(10 < 9 and 15 < 20)"
      ],
      "execution_count": null,
      "outputs": [
        {
          "output_type": "stream",
          "text": [
            "False\n"
          ],
          "name": "stdout"
        }
      ]
    },
    {
      "cell_type": "code",
      "metadata": {
        "id": "8phzUQW0zbgp",
        "colab_type": "code",
        "colab": {},
        "outputId": "8b7c7c70-0827-406e-b541-c358d9de3ec2"
      },
      "source": [
        "# Vérifiez si 10 < 9 (faux) ou 15 < 20 (vrai) -> vrai\n",
        "print(10 < 9 or 15 < 20)"
      ],
      "execution_count": null,
      "outputs": [
        {
          "output_type": "stream",
          "text": [
            "True\n"
          ],
          "name": "stdout"
        }
      ]
    },
    {
      "cell_type": "markdown",
      "metadata": {
        "id": "wgoYYLfNzbgt",
        "colab_type": "text"
      },
      "source": [
        "La signification de la déclaration devient claire si on la lit de gauche à droite.\n",
        "\n",
        "Voici un exemple très simple qui, compte tenu des rapports sur l'heure actuelle \n",
        "\n",
        "- vrai si c'est l'heure du déjeuner \n",
        "- C'est vrai si nous sommes en dehors des heures de travail."
      ]
    },
    {
      "cell_type": "code",
      "metadata": {
        "id": "uJPUFmMhzbgt",
        "colab_type": "code",
        "colab": {},
        "outputId": "f22a6462-5c46-4a84-d165-d00e9477d570"
      },
      "source": [
        "time = 13.05  # L'heure actuelle\n",
        "\n",
        "work_starts = 8.00  # Début de la journée de travail  \n",
        "work_ends = 17.00  # Fin de la journée de travail\n",
        "\n",
        "lunch_starts = 13.00  # Début du déjeuner\n",
        "lunch_ends = 14.00  # Fin du déjeuner\n",
        "\n",
        "# Vérifiez si c'est l'heure du déjeuner\n",
        "print(\"Est-ce l'heure du déjeuner ?\")\n",
        "is_lunchtime = time >= lunch_starts and time < lunch_ends\n",
        "print(is_lunchtime)\n",
        "\n",
        "# Vérifiez si nous sommes en dehors des heures de travail\n",
        "print(\"Sommes-nous en dehors des heures de travail?\")\n",
        "outside_working_hours = time < work_starts or time >= work_ends\n",
        "print(outside_working_hours)"
      ],
      "execution_count": null,
      "outputs": [
        {
          "output_type": "stream",
          "text": [
            "Is it lunchtime?\n",
            "True\n",
            "Are we outside of working hours?\n",
            "False\n"
          ],
          "name": "stdout"
        }
      ]
    },
    {
      "cell_type": "markdown",
      "metadata": {
        "id": "gt62Y6nrzbgx",
        "colab_type": "text"
      },
      "source": [
        "Notez que les opérateurs de comparaison (`>=`, `<=`, `<` et `>`) sont évalués avant les opérateurs booléens (`and`, `or`).\n",
        "\n",
        "En Python, l'opérateur `not` annule une déclaration, par exemple:"
      ]
    },
    {
      "cell_type": "code",
      "metadata": {
        "id": "CLJbPyqwzbgy",
        "colab_type": "code",
        "colab": {},
        "outputId": "87ece6a8-3441-48c2-9eb8-95d20708bd7c"
      },
      "source": [
        "#  12 *pas* moins de 7 -> vrai\n",
        "a = 12\n",
        "b = 7\n",
        "print(not a < b)"
      ],
      "execution_count": null,
      "outputs": [
        {
          "output_type": "stream",
          "text": [
            "True\n"
          ],
          "name": "stdout"
        }
      ]
    },
    {
      "cell_type": "markdown",
      "metadata": {
        "id": "uXQ_IDRozbg1",
        "colab_type": "text"
      },
      "source": [
        "N'utilisez '`not`' que lorsque cela rend un programme facile à lire. Par exemple,"
      ]
    },
    {
      "cell_type": "code",
      "metadata": {
        "id": "3620Y9x4zbg2",
        "colab_type": "code",
        "colab": {},
        "outputId": "c6bd2d71-e74f-4ba1-cb4c-d870803a296a"
      },
      "source": [
        "print(not 12 == 7)"
      ],
      "execution_count": null,
      "outputs": [
        {
          "output_type": "stream",
          "text": [
            "True\n"
          ],
          "name": "stdout"
        }
      ]
    },
    {
      "cell_type": "markdown",
      "metadata": {
        "id": "U_pP5l4Czbg5",
        "colab_type": "text"
      },
      "source": [
        "Ce n'est pas une bonne pratique. Ce qui est mieux, c'est"
      ]
    },
    {
      "cell_type": "code",
      "metadata": {
        "id": "OoFXMfkUzbg5",
        "colab_type": "code",
        "colab": {},
        "outputId": "6822cdd7-a926-417f-ec9c-641610347ff1"
      },
      "source": [
        "print(12 != 7)"
      ],
      "execution_count": null,
      "outputs": [
        {
          "output_type": "stream",
          "text": [
            "True\n"
          ],
          "name": "stdout"
        }
      ]
    },
    {
      "cell_type": "markdown",
      "metadata": {
        "id": "dORLLq5Ezbg9",
        "colab_type": "text"
      },
      "source": [
        "Voici une double négation, qui est très cryptique (et de mauvaise programmation) :"
      ]
    },
    {
      "cell_type": "code",
      "metadata": {
        "id": "41eL37Sozbg9",
        "colab_type": "code",
        "colab": {
          "base_uri": "https://localhost:8080/",
          "height": 34
        },
        "outputId": "4191b8e5-112d-42c7-eca9-fd2658f253e9"
      },
      "source": [
        "print(not not 12 == 7)"
      ],
      "execution_count": null,
      "outputs": [
        {
          "output_type": "stream",
          "text": [
            "False\n"
          ],
          "name": "stdout"
        }
      ]
    },
    {
      "cell_type": "markdown",
      "metadata": {
        "id": "hE103YGEzbhB",
        "colab_type": "text"
      },
      "source": [
        "## Opérateurs de comparaison multiples\n",
        "\n",
        "Les exemples jusqu'à présent utilisent au maximum deux opérateurs de comparaison. Dans certains cas, nous pourrions vouloir effectuer davantage de contrôles. Nous pouvons contrôler l'ordre d'évaluation en utilisant des parenthèses. Par exemple, si nous voulons vérifier si un nombre est strictement compris entre 100 et 200, ou entre 10 et 50 :"
      ]
    },
    {
      "cell_type": "code",
      "metadata": {
        "id": "wqBOTuqqzbhC",
        "colab_type": "code",
        "colab": {
          "base_uri": "https://localhost:8080/",
          "height": 34
        },
        "outputId": "cf2a7c4d-5fc7-4f3f-8ca8-399c2822a21f"
      },
      "source": [
        "value = 150.5\n",
        "print ((value > 100 and value < 200) or (value > 10 and value < 50)) "
      ],
      "execution_count": null,
      "outputs": [
        {
          "output_type": "stream",
          "text": [
            "True\n"
          ],
          "name": "stdout"
        }
      ]
    },
    {
      "cell_type": "markdown",
      "metadata": {
        "id": "w48RlkyezbhF",
        "colab_type": "text"
      },
      "source": [
        "Les deux contrôles entre parenthèses sont d'abord évalués (chacun évalue `True` ou `False`), puis le '`or`' vérifie si l'un des deux est vrai."
      ]
    },
    {
      "cell_type": "markdown",
      "metadata": {
        "id": "fYH2DiXfzbhG",
        "colab_type": "text"
      },
      "source": [
        "# Déclarations de contrôle\n",
        "\n",
        "Maintenant que nous avons couvert la comparaison, nous sommes prêts à examiner les déclarations de contrôle. Ils sont un élément central de l'informatique. Voici une déclaration de contrôle en pseudo-code :\n",
        "\n",
        "    si A est vrai\n",
        "        Effectuer la tâche X (uniquement)\n",
        "    sinon si B est vrai\n",
        "        Effectuer la tâche Y (uniquement)\n",
        "    sinon   \n",
        "        Effectuer la tâche Z (uniquement)\n",
        "\n",
        "Ce qui précède est une déclaration \"if\". Un autre type de déclaration de contrôle est\n",
        "\n",
        "    faire la tâche X 10 fois\n",
        "    \n",
        "Nous concrétisons cela ci-dessous à l'aide de quelques exemples."
      ]
    },
    {
      "cell_type": "markdown",
      "metadata": {
        "id": "goMTMFn4zbhG",
        "colab_type": "text"
      },
      "source": [
        "## Les déclarations `if`\n",
        "\n",
        "Voici un exemple simple qui démontre la syntaxe Python pour une déclaration de contrôle if-else. \n",
        "Pour une valeur assignée à une variable `x`, le programme imprime un message et modifie `x`.\n",
        "Le message et la modification de `x` dépendent de la valeur initiale de `x` :"
      ]
    },
    {
      "cell_type": "code",
      "metadata": {
        "id": "xYcgl9GwzbhH",
        "colab_type": "code",
        "colab": {
          "base_uri": "https://localhost:8080/",
          "height": 50
        },
        "outputId": "996d2753-63c5-4df9-b7f6-e5afe99dab03"
      },
      "source": [
        "x = -10.0 # Valeur initiale de x\n",
        "\n",
        "if x > 0.0 :  \n",
        "    print(\"L'initiale x est supérieure à zéro\")\n",
        "    x -= 20.0\n",
        "elif x < 0.0 :  \n",
        "    print(\"L'initiale x est inférieure à zéro\")\n",
        "    x += 21.0\n",
        "else : \n",
        "    print(\"L'initiale x n'est pas inférieure à zéro ni supérieure à zéro, elle doit donc être égale à zéro\")\n",
        "    x *= 2.5\n",
        "\n",
        "# Imprimer la nouvelle valeur x\n",
        "print('Nouvelle valeur x :', x)"
      ],
      "execution_count": null,
      "outputs": [
        {
          "output_type": "stream",
          "text": [
            "L'initiale x est inférieure à zéro\n",
            "Nouvelle valeur x : 11.0\n"
          ],
          "name": "stdout"
        }
      ]
    },
    {
      "cell_type": "markdown",
      "metadata": {
        "id": "G-iN2rYTzbhK",
        "colab_type": "text"
      },
      "source": [
        "Essayez de changer la valeur de `x` et de relancer la cellule pour voir les différents chemins que le code peut suivre."
      ]
    },
    {
      "cell_type": "markdown",
      "metadata": {
        "id": "l_DS0cf4zbhL",
        "colab_type": "text"
      },
      "source": [
        "Nous allons maintenant disséquer l'exemple de la déclaration de contrôle. La déclaration de contrôle commence par un `if`, suivi de l'expression to check, suivi de '`:`'.\n",
        "```python\n",
        "si x > 0,0 :\n",
        "```\n",
        "En dessous se trouve un bloc de code, indenté par quatre espaces, qui est exécuté si la vérification (`x > 0.0`) est vraie :\n",
        "```python\n",
        "    print('Initial x est supérieur à zéro')\n",
        "    x -= 20.0\n",
        "````\n",
        "et dans ce cas, le programme dépassera la fin de la déclaration de contrôle. Si le contrôle est évalué comme étant faux, alors le contrôle `elif` (else if)  \n",
        "```python\n",
        "elif x < 0.0 :\n",
        "    print(\"L'initiale x est inférieure à zéro\")\n",
        "    x += 21.0\n",
        "```      \n",
        "est exécutée, et si vrai, '`print('x est inférieur à zéro')`' est exécuté et le bloc de contrôle est quitté. Le code qui suit l'instruction `else` est exécuté\n",
        "```python\n",
        "else :\n",
        "    print(\"L'initiale x n'est pas inférieure à zéro ni supérieure à zéro, elle doit donc être égale à zéro\")\n",
        "```\n",
        "si aucune des déclarations précédentes n'était vraie."
      ]
    },
    {
      "cell_type": "markdown",
      "metadata": {
        "id": "hNhhaPUxzbhL",
        "colab_type": "text"
      },
      "source": [
        "### Exemple : commerce des devises\n",
        "\n",
        "Un trader touche une commission en vendant des dollars américains aux voyageurs à un taux inférieur au taux du marché. Le multiplicateur de démarque qu'ils appliquent est indiqué ci-dessous.  \n",
        "\n",
        "|Montant  (GBP)      |Réduction sur le taux du marché|\n",
        "|--------------------------------------------||\n",
        "| Moins de $100$ £       | 0.9               |   \n",
        "| De $100$ £ à $1,000$ £    | 0.925          |   \n",
        "| De $1,000$ £ à $10,000$ £ | 0.95           |   \n",
        "| De $10,000$ £ à $100,000$ £|0.97           |   \n",
        "| Plus de $100,000$ £  | 0.98                |   \n",
        " \n",
        "\n",
        "Le trader supporte des coûts supplémentaires pour le traitement des espèces par rapport aux transactions électroniques, de sorte que pour les transactions en espèces, il conserve un supplément de 10 % après conversion. \n",
        "\n",
        "Au taux actuel du marché, 1 GBP équivaut à 1,33153 USD."
      ]
    },
    {
      "cell_type": "code",
      "metadata": {
        "id": "oFdIJeu-zbhM",
        "colab_type": "code",
        "colab": {
          "base_uri": "https://localhost:8080/",
          "height": 68
        },
        "outputId": "b823f2e4-b795-4f4b-f631-b6100d46460b"
      },
      "source": [
        "GBP = 15600.05 # Le montant en GBP doit être changé en USD\n",
        "cash = True # Vrai si vente en espèces, sinon Faux\n",
        "\n",
        "taux_marché = 1.33153 # 1 GBP vaut autant de dollars au taux du marché\n",
        "\n",
        "# Appliquer la réduction appropriée en fonction de la quantité vendue\n",
        "if GBP < 100 :\n",
        "    USD = 0.9*taux_marché*GBP\n",
        "elif GBP < 1000 :  \n",
        "    USD = 0.925*taux_marché*GBP\n",
        "elif GBP < 10000 :\n",
        "    USD = 0.95*taux_marché*GBP\n",
        "elif GBP < 100000 :\n",
        "    USD = 0.97*taux_marché*GBP\n",
        "else :\n",
        "    USD = 0.98*taux_marché*GBP\n",
        "\n",
        "if cash :\n",
        "    USD *= 0.9 # rappelez-vous qu'il s'agit d'une abréviation pour USD = 0,9*USD \n",
        "    \n",
        "print(\"Montant en GBP vendu :\", GBP)\n",
        "print(\"Montant en USD acheté :\", USD)\n",
        "print(\"Taux effectif :\", USD/GBP)\n"
      ],
      "execution_count": null,
      "outputs": [
        {
          "output_type": "stream",
          "text": [
            "Montant en GBP vendu : 15600.05\n",
            "Montant en USD acheté : 18133.898885284503\n",
            "Taux effectif : 1.1624256900000003\n"
          ],
          "name": "stdout"
        }
      ]
    },
    {
      "cell_type": "markdown",
      "metadata": {
        "id": "qMYyA5RWzbhP",
        "colab_type": "text"
      },
      "source": [
        "## Les boucles `for`\n",
        "\n",
        "Une boucle `for` est un bloc qui répète une opération un nombre déterminé de fois (boucles). Le concept est riche, mais nous commençons par l'usage le plus simple et le plus courant :"
      ]
    },
    {
      "cell_type": "code",
      "metadata": {
        "id": "VozbtobXzbhP",
        "colab_type": "code",
        "colab": {
          "base_uri": "https://localhost:8080/",
          "height": 151
        },
        "outputId": "26b7a075-b9ba-407c-a110-cdb4cc0975ec"
      },
      "source": [
        "for n in range(4):\n",
        "    print(\"----\")\n",
        "    print(n, n**2)"
      ],
      "execution_count": null,
      "outputs": [
        {
          "output_type": "stream",
          "text": [
            "----\n",
            "0 0\n",
            "----\n",
            "1 1\n",
            "----\n",
            "2 4\n",
            "----\n",
            "3 9\n"
          ],
          "name": "stdout"
        }
      ]
    },
    {
      "cell_type": "markdown",
      "metadata": {
        "id": "8JAvcC4NzbhU",
        "colab_type": "text"
      },
      "source": [
        "Le cellule ci-dessus exécute 4 boucles, sur les nombres entiers 0, 1, 2 et 3. La déclaration \n",
        "```Python\n",
        "for n in range(4) :\n",
        "```\n",
        "dit que nous voulons boucler sur quatre entiers, et par défaut il part de zéro\n",
        "(voir https://docs.python.org/3/library/stdtypes.html#range pour la documentation relative à `range`). \n",
        "La valeur de `n` est incrémentée à chaque itération de la boucle. Le code que nous voulons exécuter à l'intérieur de la boucle est indenté de quatre espaces : \n",
        "```Python\n",
        "    print(\"----\")\n",
        "    print(n, n**2)\n",
        "```\n",
        "La boucle part de zéro et n'inclut pas 4 - `range(4)` est un raccourci pour `range(0, 4)`. Nous pouvons changer la valeur de départ si nécessaire :"
      ]
    },
    {
      "cell_type": "code",
      "metadata": {
        "id": "hMxh5qnrzbhV",
        "colab_type": "code",
        "colab": {
          "base_uri": "https://localhost:8080/",
          "height": 101
        },
        "outputId": "60075a3a-09ff-4dfd-f121-0e4cc769a823"
      },
      "source": [
        "for i in range(-2, 3):\n",
        "    print(i)"
      ],
      "execution_count": null,
      "outputs": [
        {
          "output_type": "stream",
          "text": [
            "-2\n",
            "-1\n",
            "0\n",
            "1\n",
            "2\n"
          ],
          "name": "stdout"
        }
      ]
    },
    {
      "cell_type": "markdown",
      "metadata": {
        "id": "Javu33YmzbhY",
        "colab_type": "text"
      },
      "source": [
        "La boucle ci-dessus commence à partir de -2, mais n'inclut pas 3. Si nous voulons faire un pas de trois plutôt que de un :"
      ]
    },
    {
      "cell_type": "code",
      "metadata": {
        "id": "7Rqez2w9zbhY",
        "colab_type": "code",
        "colab": {},
        "outputId": "119eb06b-f3b3-415d-ee78-56c2baa6869b"
      },
      "source": [
        "for n in range(0, 10, 3):\n",
        "    print(n)"
      ],
      "execution_count": null,
      "outputs": [
        {
          "output_type": "stream",
          "text": [
            "0\n",
            "3\n",
            "6\n",
            "9\n"
          ],
          "name": "stdout"
        }
      ]
    },
    {
      "cell_type": "markdown",
      "metadata": {
        "id": "k2o8LpE8zbhb",
        "colab_type": "text"
      },
      "source": [
        "### Exemple : table de conversion des degrés Fahrenheit en degrés Celsius\n",
        "\n",
        "Nous pouvons utiliser une boucle `for` pour créer une table de conversion de degrés Fahrenheit ($T_F$) en degrés Celsius ($T_c$), en utilisant la formule :\n",
        "\n",
        "$$\n",
        "T_c = 5(T_f - 32)/9\n",
        "$$\n",
        "\n",
        "Calcul de la conversion de -100 F à 200 F par pas de 20 F (sans compter 200 F) :"
      ]
    },
    {
      "cell_type": "code",
      "metadata": {
        "id": "22rXUOjUzbhb",
        "colab_type": "code",
        "colab": {},
        "outputId": "022545c6-b4f8-4c3f-fb13-6bda2f5778c8"
      },
      "source": [
        "print(\"T_f,    T_c\")\n",
        "for Tf in range(-100, 200, 20):\n",
        "    print(Tf, (Tf - 32)*5/9)"
      ],
      "execution_count": null,
      "outputs": [
        {
          "output_type": "stream",
          "text": [
            "T_f,    T_c\n",
            "-100 -73.33333333333333\n",
            "-80 -62.22222222222222\n",
            "-60 -51.111111111111114\n",
            "-40 -40.0\n",
            "-20 -28.88888888888889\n",
            "0 -17.77777777777778\n",
            "20 -6.666666666666667\n",
            "40 4.444444444444445\n",
            "60 15.555555555555555\n",
            "80 26.666666666666668\n",
            "100 37.77777777777778\n",
            "120 48.888888888888886\n",
            "140 60.0\n",
            "160 71.11111111111111\n",
            "180 82.22222222222223\n"
          ],
          "name": "stdout"
        }
      ]
    },
    {
      "cell_type": "markdown",
      "metadata": {
        "id": "ClvQK_Ozzbhe",
        "colab_type": "text"
      },
      "source": [
        "## Les boucles `while`\n",
        "Les boucles `for` et `while`, permettent à l’ensemble d’instructions d’être exécuté de manière répétitif, jusqu’à ce que la condition soit vraie et se termine dès que la condition devient fausse. la boucle While est utilisée dans les situations où nous ne savons pas combien de fois la boucle doit être excédée auparavant. la boucle For est utilisée où nous avons déjà une idée sur le nombre de fois que la boucle doit être exécuté.\n",
        "\n",
        "\n",
        "précédemment, nous avons vu que les boucles `for` effectuent une opération un nombre déterminé de fois. Une boucle `while` exécute une tâche alors qu'une instruction spécifiée est vraie. Par exemple, la boucle"
      ]
    },
    {
      "cell_type": "code",
      "metadata": {
        "id": "E12Txlgzzbhf",
        "colab_type": "code",
        "colab": {
          "base_uri": "https://localhost:8080/",
          "height": 168
        },
        "outputId": "61b2b46f-9372-424d-bd21-8762316f0d80"
      },
      "source": [
        "print(\"Déclaration de début de période\")\n",
        "x = -2\n",
        "while x < 5 :\n",
        "    print(x)\n",
        "    x += 1 # Augmentation de x\n",
        "print(\"Déclaration de fin de période\")"
      ],
      "execution_count": null,
      "outputs": [
        {
          "output_type": "stream",
          "text": [
            "Déclaration de début de période\n",
            "-2\n",
            "-1\n",
            "0\n",
            "1\n",
            "2\n",
            "3\n",
            "4\n",
            "Déclaration de fin de période\n"
          ],
          "name": "stdout"
        }
      ]
    },
    {
      "cell_type": "markdown",
      "metadata": {
        "id": "Gou_t6l0zbhi",
        "colab_type": "text"
      },
      "source": [
        "Dans la cellule du dessus, le corps de l'énoncé`while`, qui suit l'énoncé \"while\" et qui est indenté de quatre espaces, est exécuté et répété jusqu'à ce que \"x < 5\" soit \"faux\".\n",
        "\n",
        "Il peut être assez facile de faire planter votre ordinateur en utilisant une boucle \"while\". Par exemple,\n",
        "```python\n",
        "x = -2\n",
        "while x < 5 :\n",
        "    print(x)\n",
        "```\n",
        "Le programme se poursuivra indéfiniment puisque `x < 5 == False` ne sera jamais satisfait. C'est ce qu'on appelle une *boucle infinie*. Il est généralement bon d'ajouter des contrôles pour éviter de se retrouver coincé dans une boucle infinie, par exemple en spécifiant un nombre maximum de boucles autorisées.\n",
        "\n",
        "L'exemple ci-dessus aurait pu être mis en œuvre en utilisant une boucle `for` et une boucle `for` serait préférable dans ce cas. L'exemple suivant montre où une boucle `for` est appropriée :"
      ]
    },
    {
      "cell_type": "code",
      "metadata": {
        "id": "7HcM05Yqzbhj",
        "colab_type": "code",
        "colab": {},
        "outputId": "e74d527b-1eee-4d7d-916c-46829c4b8d3d"
      },
      "source": [
        "x = 0.9\n",
        "while x > 0.001:\n",
        "    # Carré de x (nous aurions pu utiliser le raccourci x *= x)\n",
        "    x = x*x\n",
        "    print(x)"
      ],
      "execution_count": null,
      "outputs": [
        {
          "output_type": "stream",
          "text": [
            "0.81\n",
            "0.6561000000000001\n",
            "0.43046721000000016\n",
            "0.18530201888518424\n",
            "0.03433683820292518\n",
            "0.001179018457773862\n",
            "1.390084523771456e-06\n"
          ],
          "name": "stdout"
        }
      ]
    },
    {
      "cell_type": "markdown",
      "metadata": {
        "id": "nxDzExILzbho",
        "colab_type": "text"
      },
      "source": [
        "puisque nous ne savons peut-être pas à l'avance combien d'étapes sont nécessaires avant que \"x > 0,001\" ne devienne faux. \n",
        "\n",
        "Si $x \\ge 1$, ce qui précède conduirait à une boucle infinie. Pour rendre un code robuste, il serait bon de vérifier que $x < 1$ avant d'entrer dans la boucle `while`."
      ]
    },
    {
      "cell_type": "markdown",
      "metadata": {
        "id": "XeZhcRxezbhp",
        "colab_type": "text"
      },
      "source": [
        "## `break`, `continue` et`pass`\n",
        "### `break`\n",
        "\n",
        "\n",
        "Parfois, nous voulons sortir d'une boucle `for` ou `while`. Peut-être que dans une boucle `for`, nous pouvons vérifier si quelque chose est vrai, et ensuite sortir prématurément de la boucle, par exemple"
      ]
    },
    {
      "cell_type": "code",
      "metadata": {
        "id": "121kdF80zbhq",
        "colab_type": "code",
        "colab": {
          "base_uri": "https://localhost:8080/",
          "height": 134
        },
        "outputId": "dc77f103-25b1-4f7d-912a-573883c35ba3"
      },
      "source": [
        "for x in range(10):\n",
        "    print(x)\n",
        "    if x == 5:\n",
        "        print(\"Il est temps de prendre une pause\")\n",
        "        break"
      ],
      "execution_count": null,
      "outputs": [
        {
          "output_type": "stream",
          "text": [
            "0\n",
            "1\n",
            "2\n",
            "3\n",
            "4\n",
            "5\n",
            "Il est temps de prendre une pause\n"
          ],
          "name": "stdout"
        }
      ]
    },
    {
      "cell_type": "markdown",
      "metadata": {
        "id": "ReRGPVp9zbhu",
        "colab_type": "text"
      },
      "source": [
        "Vous trouverez ci-dessous un programme pour trouver des nombres premiers qui utilise une déclaration `break`. Prenez un peu de temps pour comprendre ce qu'il fait. Il peut être utile d'ajouter quelques instructions imprimées pour comprendre le flux."
      ]
    },
    {
      "cell_type": "code",
      "metadata": {
        "id": "nR2rugrOzbhu",
        "colab_type": "code",
        "colab": {
          "base_uri": "https://localhost:8080/",
          "height": 269
        },
        "outputId": "28cfd840-a3ac-4ffe-b847-30c906893127"
      },
      "source": [
        "N = 50 # Vérifiez les nombres supérieurs à 50 pour les nombres premiers (sauf 50)\n",
        "\n",
        "# Boucle sur tous les numéros de 2 à 50 (sauf 50)\n",
        "for n in range(2, N) :\n",
        "\n",
        "    # Supposons que n soit premier\n",
        "    n_is_prime = True\n",
        "\n",
        "    # Vérifiez si n peut être divisé par m, où m va de 2 à n (à l'exclusion de n)\n",
        "    for m in range(2, n) :\n",
        "         if n % m == 0 : # Ceci est vrai si le reste pour n/m est égal à zéro\n",
        "            # Nous avons découvert que n est divisible par m, donc il ne peut pas être un nombre premier. \n",
        "            # Il n'est pas nécessaire de vérifier d'autres valeurs de m, donc définissez n_is_prime = False et\n",
        "            # sortir de la boucle 'm'.\n",
        "            n_is_prime = False\n",
        "            break\n",
        "\n",
        "    # Si n est premier, imprimer à l'écran        \n",
        "    if n_is_prime :\n",
        "        print(n)\n",
        "\n"
      ],
      "execution_count": null,
      "outputs": [
        {
          "output_type": "stream",
          "text": [
            "2\n",
            "3\n",
            "5\n",
            "7\n",
            "11\n",
            "13\n",
            "17\n",
            "19\n",
            "23\n",
            "29\n",
            "31\n",
            "37\n",
            "41\n",
            "43\n",
            "47\n"
          ],
          "name": "stdout"
        }
      ]
    },
    {
      "cell_type": "markdown",
      "metadata": {
        "id": "7GeMl_ykzbhx",
        "colab_type": "text"
      },
      "source": [
        "Essayez de modifier le code de recherche des nombres premiers de manière à ce qu'il trouve les premiers nombres premiers $N$ (puisque vous ne savez pas combien de nombres vous devez vérifier pour trouver les nombres premiers $N$, utilisez une boucle `while`)."
      ]
    },
    {
      "cell_type": "markdown",
      "metadata": {
        "id": "NxO-vyCRzbhy",
        "colab_type": "text"
      },
      "source": [
        "### `continue`\n",
        "\n",
        "Parfois, nous voulons passer prématurément à l'itération suivante dans une boucle, en sautant le code restant.\n",
        "Pour cela, nous utilisons le terme `continue`. Voici un exemple qui fait une boucle sur 20 nombres (de 0 à 19) et vérifie si le nombre est divisible par 4. S'il est divisible par 4, il imprime un message avant de passer à la valeur suivante. S'il n'est pas divisible par 4, il fait avancer la boucle. "
      ]
    },
    {
      "cell_type": "code",
      "metadata": {
        "id": "KAwn-vrGzbhy",
        "colab_type": "code",
        "colab": {
          "base_uri": "https://localhost:8080/",
          "height": 269
        },
        "outputId": "ef2729d7-a03e-4dcb-a977-8117f7ca69ce"
      },
      "source": [
        "for j in range(20):\n",
        "    if j % 4 == 0:  # Check remained of j/4\n",
        "        continue  # jump to next iteration over j\n",
        "    print(\"Le nombre n'est pas divisible par 4 :\", j)"
      ],
      "execution_count": null,
      "outputs": [
        {
          "output_type": "stream",
          "text": [
            "Le nombre n'est pas divisible par 4 : 1\n",
            "Le nombre n'est pas divisible par 4 : 2\n",
            "Le nombre n'est pas divisible par 4 : 3\n",
            "Le nombre n'est pas divisible par 4 : 5\n",
            "Le nombre n'est pas divisible par 4 : 6\n",
            "Le nombre n'est pas divisible par 4 : 7\n",
            "Le nombre n'est pas divisible par 4 : 9\n",
            "Le nombre n'est pas divisible par 4 : 10\n",
            "Le nombre n'est pas divisible par 4 : 11\n",
            "Le nombre n'est pas divisible par 4 : 13\n",
            "Le nombre n'est pas divisible par 4 : 14\n",
            "Le nombre n'est pas divisible par 4 : 15\n",
            "Le nombre n'est pas divisible par 4 : 17\n",
            "Le nombre n'est pas divisible par 4 : 18\n",
            "Le nombre n'est pas divisible par 4 : 19\n"
          ],
          "name": "stdout"
        }
      ]
    },
    {
      "cell_type": "markdown",
      "metadata": {
        "id": "kh2qrTijzbh1",
        "colab_type": "text"
      },
      "source": [
        "### `pass`\n",
        "\n",
        "Parfois, nous avons besoin d'une déclaration qui ne fait rien. Elle est souvent utilisée au cours du développement lorsque, d'un point de vue syntaxique, un certain code est nécessaire mais que vous n'avez pas encore écrit. Par exemple :  "
      ]
    },
    {
      "cell_type": "code",
      "metadata": {
        "id": "RbjVzfcLzbh2",
        "colab_type": "code",
        "colab": {},
        "outputId": "227bf95f-e529-4a9e-c66c-c66fcbd461f0"
      },
      "source": [
        "for x in range(10):\n",
        "    if x < 5:\n",
        "        # TODO: implement handling of x < 5 when other cases finished \n",
        "        pass\n",
        "    elif x < 9:\n",
        "        print(x*x)\n",
        "    else:\n",
        "        print(x)"
      ],
      "execution_count": null,
      "outputs": [
        {
          "output_type": "stream",
          "text": [
            "25\n",
            "36\n",
            "49\n",
            "64\n",
            "9\n"
          ],
          "name": "stdout"
        }
      ]
    },
    {
      "cell_type": "markdown",
      "metadata": {
        "id": "zMGAfuSDzbh4",
        "colab_type": "text"
      },
      "source": [
        "Elle peut également contribuer à la lisibilité. Peut-être que dans un programme il n'y a rien à faire, mais quelqu'un qui lit le code peut raisonnablement penser qu'il faut faire quelque chose et suspecter un bug. L'utilisation de `pass` indique au lecteur que c'était l'intention du programmeur de ne rien faire."
      ]
    },
    {
      "cell_type": "markdown",
      "metadata": {
        "id": "QPANEbK0zbh5",
        "colab_type": "text"
      },
      "source": [
        "## Boucles infinies : cause et garde contre\n",
        "\n",
        "Un bogue courant, surtout lorsqu'on utilise des instructions \"while\", est la [boucle infinie](https://en.wikipedia.org/wiki/Infinite_loop). C'est le moment où une boucle est entrée mais ne se termine jamais (sorties).\n",
        "Les boucles infinies peuvent rendre un système insensible, nécessitant parfois un arrêt pour rétablir la fonction.\n",
        "\n",
        "C'est une bonne pratique, surtout lors de l'apprentissage, d'ajouter des protections contre les boucles infinies.  "
      ]
    },
    {
      "cell_type": "code",
      "metadata": {
        "id": "zzLVgEGlzbh5",
        "colab_type": "code",
        "colab": {},
        "outputId": "c6b4389d-db92-4ac0-b23c-26f700e91a4c"
      },
      "source": [
        "x = 0.0\n",
        "\n",
        "counter = 0\n",
        "while x < 0.05:\n",
        "\n",
        "    # Guard against infinite loop\n",
        "    counter += 1\n",
        "    if counter > 2000:\n",
        "        print(\"Loop count exceeded 2000. Exiting\")\n",
        "        break"
      ],
      "execution_count": null,
      "outputs": [
        {
          "output_type": "stream",
          "text": [
            "Loop count exceeded 2000. Exiting\n"
          ],
          "name": "stdout"
        }
      ]
    },
    {
      "cell_type": "markdown",
      "metadata": {
        "id": "LxHAHQVqzbh9",
        "colab_type": "text"
      },
      "source": [
        "# Exercises\n",
        "\n",
        "Complete now the [02 Exercises](Exercises/02%20Exercises.ipynb) notebook."
      ]
    },
    {
      "cell_type": "markdown",
      "metadata": {
        "id": "mK3A5kychHet",
        "colab_type": "text"
      },
      "source": [
        "les exemple suivant proviennent de ce cour http://www.compciv.org/guides/python/fundamentals/for-loops/"
      ]
    },
    {
      "cell_type": "code",
      "metadata": {
        "id": "itPFXTP5f94l",
        "colab_type": "code",
        "colab": {
          "base_uri": "https://localhost:8080/",
          "height": 101
        },
        "outputId": "e166b58d-022b-43e3-e5c0-1d6b932441e3"
      },
      "source": [
        "#écrire 5 fois hello world\n",
        "for x in range(5):\n",
        "    print(\"hello world\")"
      ],
      "execution_count": null,
      "outputs": [
        {
          "output_type": "stream",
          "text": [
            "hello world\n",
            "hello world\n",
            "hello world\n",
            "hello world\n",
            "hello world\n"
          ],
          "name": "stdout"
        }
      ]
    },
    {
      "cell_type": "code",
      "metadata": {
        "id": "WCv1heP-gGJz",
        "colab_type": "code",
        "colab": {
          "base_uri": "https://localhost:8080/",
          "height": 101
        },
        "outputId": "3ac68d1b-a994-48c0-ac37-b19ad8906650"
      },
      "source": [
        "#énumérer le nombre de fois où hello world a été écrit\n",
        "for x in range(0, 5):\n",
        "    print(\"hello world\", x)"
      ],
      "execution_count": null,
      "outputs": [
        {
          "output_type": "stream",
          "text": [
            "hello world 0\n",
            "hello world 1\n",
            "hello world 2\n",
            "hello world 3\n",
            "hello world 4\n"
          ],
          "name": "stdout"
        }
      ]
    },
    {
      "cell_type": "markdown",
      "metadata": {
        "id": "5LM4OnfMa557",
        "colab_type": "text"
      },
      "source": [
        "#Cas d'application sur un site internet\n",
        "sur les cellules suivante nous allons lister des liens de recherche sur se loger.com\n",
        "https://www.seloger.com/list.html?projects=2,5&types=1,2&natures=1,2,4&places=[{ci:380486}|{ci:380485}|{ci:380169}|{ci:380474}|{ci:380281}|{ci:380540}|{ci:380382}|{ci:380423}|{ci:380170}]&price=200000/380000&groundsurface=300/NaN&bedrooms=4,5&sort=d_relevance&enterprise=0&garden=1&qsVersion=1.0\n",
        "\n",
        "https://www.seloger.com/immobilier/locations/immo-paris-75/bien-appartement/?LISTING-LISTpg=145"
      ]
    },
    {
      "cell_type": "code",
      "metadata": {
        "id": "CyMmoIlvbTsw",
        "colab_type": "code",
        "colab": {
          "base_uri": "https://localhost:8080/",
          "height": 205
        },
        "outputId": "41d0ddb7-0db9-4986-dca0-65a1ef096a4f"
      },
      "source": [
        "#première méthode\n",
        "url = 'https://www.seloger.com/immobilier/locations/immo-paris-75/bien-appartement/?LISTING-LISTpg='\n",
        "for x in range(1, 11):\n",
        "  print(url + str(x))"
      ],
      "execution_count": null,
      "outputs": [
        {
          "output_type": "stream",
          "text": [
            "https://www.seloger.com/immobilier/locations/immo-paris-75/bien-appartement/?LISTING-LISTpg=1\n",
            "https://www.seloger.com/immobilier/locations/immo-paris-75/bien-appartement/?LISTING-LISTpg=2\n",
            "https://www.seloger.com/immobilier/locations/immo-paris-75/bien-appartement/?LISTING-LISTpg=3\n",
            "https://www.seloger.com/immobilier/locations/immo-paris-75/bien-appartement/?LISTING-LISTpg=4\n",
            "https://www.seloger.com/immobilier/locations/immo-paris-75/bien-appartement/?LISTING-LISTpg=5\n",
            "https://www.seloger.com/immobilier/locations/immo-paris-75/bien-appartement/?LISTING-LISTpg=6\n",
            "https://www.seloger.com/immobilier/locations/immo-paris-75/bien-appartement/?LISTING-LISTpg=7\n",
            "https://www.seloger.com/immobilier/locations/immo-paris-75/bien-appartement/?LISTING-LISTpg=8\n",
            "https://www.seloger.com/immobilier/locations/immo-paris-75/bien-appartement/?LISTING-LISTpg=9\n",
            "https://www.seloger.com/immobilier/locations/immo-paris-75/bien-appartement/?LISTING-LISTpg=10\n"
          ],
          "name": "stdout"
        }
      ]
    },
    {
      "cell_type": "code",
      "metadata": {
        "id": "SWu2_lhWhvX0",
        "colab_type": "code",
        "colab": {
          "base_uri": "https://localhost:8080/",
          "height": 185
        },
        "outputId": "57e00711-21dd-42ee-edf0-cd65468390c2"
      },
      "source": [
        "#deuxième méthode\n",
        "base_url = 'https://www.whitehouse.gov/briefing-room/statements-and-releases?page='\n",
        "for x in range(1, 11):\n",
        "    url = base_url + str(x)\n",
        "    print(url)"
      ],
      "execution_count": null,
      "outputs": [
        {
          "output_type": "stream",
          "text": [
            "https://www.whitehouse.gov/briefing-room/statements-and-releases?page=1\n",
            "https://www.whitehouse.gov/briefing-room/statements-and-releases?page=2\n",
            "https://www.whitehouse.gov/briefing-room/statements-and-releases?page=3\n",
            "https://www.whitehouse.gov/briefing-room/statements-and-releases?page=4\n",
            "https://www.whitehouse.gov/briefing-room/statements-and-releases?page=5\n",
            "https://www.whitehouse.gov/briefing-room/statements-and-releases?page=6\n",
            "https://www.whitehouse.gov/briefing-room/statements-and-releases?page=7\n",
            "https://www.whitehouse.gov/briefing-room/statements-and-releases?page=8\n",
            "https://www.whitehouse.gov/briefing-room/statements-and-releases?page=9\n",
            "https://www.whitehouse.gov/briefing-room/statements-and-releases?page=10\n"
          ],
          "name": "stdout"
        }
      ]
    },
    {
      "cell_type": "code",
      "metadata": {
        "id": "NxdYfIQmix-c",
        "colab_type": "code",
        "colab": {}
      },
      "source": [
        "for xval in range(100):\n",
        "    url_part_a = \"https://en.wikipedia.org/wiki/\" \n",
        "    url_part_b = \"_(number)\"\n",
        "    full_url = url_part_a + str(xval) + url_part_b \n",
        "    print(\"Downloading\", full_url)"
      ],
      "execution_count": null,
      "outputs": []
    },
    {
      "cell_type": "markdown",
      "metadata": {
        "id": "uW0U9NMUceVp",
        "colab_type": "text"
      },
      "source": [
        "https://www.docstring.fr/blog/le-formatage-des-chaines-de-caracteres-avec-python/"
      ]
    }
  ]
}