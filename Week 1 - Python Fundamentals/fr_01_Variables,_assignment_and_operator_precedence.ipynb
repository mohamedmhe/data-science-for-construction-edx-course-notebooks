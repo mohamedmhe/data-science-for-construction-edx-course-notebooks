{
  "nbformat": 4,
  "nbformat_minor": 0,
  "metadata": {
    "colab": {
      "name": "fr 01 Variables, assignment and operator precedence.ipynb",
      "provenance": [],
      "collapsed_sections": [],
      "include_colab_link": true
    },
    "language_info": {
      "codemirror_mode": {
        "name": "ipython",
        "version": 3
      },
      "file_extension": ".py",
      "mimetype": "text/x-python",
      "name": "python",
      "nbconvert_exporter": "python",
      "pygments_lexer": "ipython3",
      "version": "3.6.6"
    },
    "kernelspec": {
      "display_name": "Python 3",
      "language": "python",
      "name": "python3"
    }
  },
  "cells": [
    {
      "cell_type": "markdown",
      "metadata": {
        "id": "view-in-github",
        "colab_type": "text"
      },
      "source": [
        "<a href=\"https://colab.research.google.com/github/mohamedmhe/data-science-for-construction-edx-course-notebooks/blob/fr/Week%201%20-%20Python%20Fundamentals/fr_01_Variables%2C_assignment_and_operator_precedence.ipynb\" target=\"_parent\"><img src=\"https://colab.research.google.com/assets/colab-badge.svg\" alt=\"Open In Colab\"/></a>"
      ]
    },
    {
      "cell_type": "markdown",
      "metadata": {
        "id": "jrCC7Sdaohyf",
        "colab_type": "text"
      },
      "source": [
        "## Introduction\n",
        "\n",
        "Nous commençons par l'attribution des variables et des opérations mathématiques familières.\n",
        "\n",
        "\n",
        "## Objectifs\n",
        "\n",
        "- Introduire des expressions et des opérateurs de base\n",
        "- Introduire la préséance des opérateurs\n",
        "- Comprendre les variables et l'affectation"
      ]
    },
    {
      "cell_type": "markdown",
      "metadata": {
        "id": "CiNGaDODpQWT",
        "colab_type": "text"
      },
      "source": [
        "# Evaluer les expressions : des opérateurs simples\n",
        "\n",
        "Nous pouvons utiliser Python comme une calculatrice. Considérons l'expression simple 3$ + 8$. Nous pouvons l'évaluer et l'imprimer par :"
      ]
    },
    {
      "cell_type": "code",
      "metadata": {
        "id": "-x0Iv_YZo-Ag",
        "colab_type": "code",
        "colab": {
          "base_uri": "https://localhost:8080/",
          "height": 35
        },
        "outputId": "c61dd847-e03f-43fb-9d32-7f216f763116"
      },
      "source": [
        "3 + 8"
      ],
      "execution_count": null,
      "outputs": [
        {
          "output_type": "execute_result",
          "data": {
            "text/plain": [
              "11"
            ]
          },
          "metadata": {
            "tags": []
          },
          "execution_count": 1
        }
      ]
    },
    {
      "cell_type": "markdown",
      "metadata": {
        "id": "bkQX0VzHpinY",
        "colab_type": "text"
      },
      "source": [
        "Un autre calcul simple est le potentiel gravitationnel $V$ d'un corps de masse $m$ (masse ponctuelle) à une distance $r$ d'un corps de masse $M$, qui est donné par\n",
        "\n",
        "$$\n",
        "V = \\frac{G M m}{r}\n",
        "$$\n",
        "\n",
        "où $G$ est la *constante gravitationnelle*. Une bonne approximation est $G = 6,674 \\times 10^{-11}$ N m$^{2}$ kg$^{-2}$.\n",
        "\n",
        "Dans le cas où $M = 1,65 \\times 10^{12}$ kg, $m = 6,1 \\times 10^2$ kg et $r = 7,0 \\times 10^3$ m, on peut calculer le potentiel gravitationnel $V$ :"
      ]
    },
    {
      "cell_type": "code",
      "metadata": {
        "id": "-G6eA8Yqo-Ak",
        "colab_type": "code",
        "colab": {
          "base_uri": "https://localhost:8080/",
          "height": 35
        },
        "outputId": "01274b28-1727-403f-fadf-60bbd66ad667"
      },
      "source": [
        "6.674e-11*1.65e12*6.1e2/7.0e3"
      ],
      "execution_count": null,
      "outputs": [
        {
          "output_type": "execute_result",
          "data": {
            "text/plain": [
              "9.59625857142857"
            ]
          },
          "metadata": {
            "tags": []
          },
          "execution_count": 2
        }
      ]
    },
    {
      "cell_type": "markdown",
      "metadata": {
        "id": "hqvVnc0isfVm",
        "colab_type": "text"
      },
      "source": [
        "Nous avons utilisé la \"notation scientifique\" pour entrer les valeurs. Par exemple, le nombre $8 \\times 10^{-2}$ peut être saisi comme `0,08` ou `8e-2`. Nous pouvons facilement vérifier que les deux sont identiques par soustraction :"
      ]
    },
    {
      "cell_type": "code",
      "metadata": {
        "id": "goj93cQKo-Ao",
        "colab_type": "code",
        "colab": {
          "base_uri": "https://localhost:8080/",
          "height": 35
        },
        "outputId": "ece6c175-2743-4792-c2d6-5c2328f36364"
      },
      "source": [
        "0.08 - 8e-2"
      ],
      "execution_count": null,
      "outputs": [
        {
          "output_type": "execute_result",
          "data": {
            "text/plain": [
              "0.0"
            ]
          },
          "metadata": {
            "tags": []
          },
          "execution_count": 3
        }
      ]
    },
    {
      "cell_type": "markdown",
      "metadata": {
        "id": "1idSRyDlo-Aq",
        "colab_type": "text"
      },
      "source": [
        "Une opération courante consiste à porter un numéro à une puissance. Pour calculer $3^4$ :"
      ]
    },
    {
      "cell_type": "code",
      "metadata": {
        "id": "7nXGf9GMo-Ar",
        "colab_type": "code",
        "colab": {}
      },
      "source": [
        "3**4"
      ],
      "execution_count": null,
      "outputs": []
    },
    {
      "cell_type": "markdown",
      "metadata": {
        "id": "KQhcBuBdo-At",
        "colab_type": "text"
      },
      "source": [
        "Le reste est calculé à l'aide de l'opérateur de module \"%\" :"
      ]
    },
    {
      "cell_type": "code",
      "metadata": {
        "id": "DIkmenn0o-Au",
        "colab_type": "code",
        "colab": {
          "base_uri": "https://localhost:8080/",
          "height": 34
        },
        "outputId": "8dc3e075-ad62-4b0f-98cd-139e1ebc4e9d"
      },
      "source": [
        "11 % 3"
      ],
      "execution_count": null,
      "outputs": [
        {
          "output_type": "execute_result",
          "data": {
            "text/plain": [
              "2"
            ]
          },
          "metadata": {
            "tags": []
          },
          "execution_count": 3
        }
      ]
    },
    {
      "cell_type": "markdown",
      "metadata": {
        "id": "kpBY_8MKo-Ay",
        "colab_type": "text"
      },
      "source": [
        "Pour obtenir le quotient, nous utilisons la \"division par le plancher\", qui utilise le symbole \"`//`\" :"
      ]
    },
    {
      "cell_type": "code",
      "metadata": {
        "id": "YB5CeMe2o-Ay",
        "colab_type": "code",
        "colab": {
          "base_uri": "https://localhost:8080/",
          "height": 34
        },
        "outputId": "dbf0743b-324f-49f8-ecfa-eaf2bf2ddee0"
      },
      "source": [
        "11 // 3"
      ],
      "execution_count": null,
      "outputs": [
        {
          "output_type": "execute_result",
          "data": {
            "text/plain": [
              "3"
            ]
          },
          "metadata": {
            "tags": []
          },
          "execution_count": 4
        }
      ]
    },
    {
      "cell_type": "markdown",
      "metadata": {
        "id": "ScDVb_Q9o-A1",
        "colab_type": "text"
      },
      "source": [
        "# Priorité de l'opérateur\n",
        "\n",
        "L'ordre de préséance des opérateurs fait référence à l'ordre dans lequel les opérations sont effectuées, par exemple la multiplication avant l'addition.\n",
        "Dans les exemples précédents, il n'y avait aucune ambiguïté quant à l'ordre des opérations. Cependant, il existe des cas courants où l'ordre est important, et il y a deux points à considérer :\n",
        "\n",
        "- L'expression doit être évaluée correctement ; et \n",
        "- L'expression doit être suffisamment simple pour qu'une autre personne lisant le code puisse comprendre l'opération \n",
        "  effectué.\n",
        "\n",
        "Il est possible d'écrire un code qui est correct, mais qui peut être très difficile à vérifier pour quelqu'un d'autre (ou pour vous).\n",
        "\n",
        "La plupart des langages de programmation, y compris Python, suivent les règles mathématiques habituelles pour la préséance. Nous explorons cela à travers quelques exemples."
      ]
    },
    {
      "cell_type": "markdown",
      "metadata": {
        "id": "F4oKGkcwo-A3",
        "colab_type": "text"
      },
      "source": [
        "Considérons l'expression $4 \\cdot (7 - 2) = 20$. Si nous sommes négligents, "
      ]
    },
    {
      "cell_type": "code",
      "metadata": {
        "id": "lbQISnLao-A3",
        "colab_type": "code",
        "colab": {}
      },
      "source": [
        "4*7 - 2"
      ],
      "execution_count": null,
      "outputs": []
    },
    {
      "cell_type": "markdown",
      "metadata": {
        "id": "bIMhxUaGo-A7",
        "colab_type": "text"
      },
      "source": [
        "Dans ce qui précède, `4*7` est évalué en premier, puis `2` est soustrait car la multiplication (`*`) vient avant la soustraction (`-`) en termes de priorité. Nous pouvons contrôler l'ordre de l'opération en utilisant des parenthèses, tout comme nous le ferions sur le papier :"
      ]
    },
    {
      "cell_type": "code",
      "metadata": {
        "id": "9YEzSEzoo-A7",
        "colab_type": "code",
        "colab": {}
      },
      "source": [
        "4*(7 - 2)"
      ],
      "execution_count": null,
      "outputs": []
    },
    {
      "cell_type": "markdown",
      "metadata": {
        "id": "IVbrO-DUo-A9",
        "colab_type": "text"
      },
      "source": [
        "Un exemple courant où la lisibilité est une préoccupation est \n",
        "\n",
        "$$\n",
        "\\frac{10}{2 \\times 50} = 0.1\n",
        "$$\n",
        "\n"
      ]
    },
    {
      "cell_type": "code",
      "metadata": {
        "id": "-q68Oq8mo-A-",
        "colab_type": "code",
        "colab": {
          "base_uri": "https://localhost:8080/",
          "height": 34
        },
        "outputId": "ae9c0c82-745e-4197-d739-e1f2a407a18b"
      },
      "source": [
        "10/2*50"
      ],
      "execution_count": null,
      "outputs": [
        {
          "output_type": "execute_result",
          "data": {
            "text/plain": [
              "250.0"
            ]
          },
          "metadata": {
            "tags": []
          },
          "execution_count": 5
        }
      ]
    },
    {
      "cell_type": "markdown",
      "metadata": {
        "id": "uhi7twcno-BA",
        "colab_type": "text"
      },
      "source": [
        "Le code est incorrect. \n",
        "\n",
        "La multiplication et la division ont la même priorité, l'expression est donc évaluée \"de gauche à droite\". Le résultat correct est calculé à partir de"
      ]
    },
    {
      "cell_type": "code",
      "metadata": {
        "id": "QM_HrbE5o-BA",
        "colab_type": "code",
        "colab": {
          "base_uri": "https://localhost:8080/",
          "height": 34
        },
        "outputId": "59566267-11a1-46d7-e41f-6ac20c7755b4"
      },
      "source": [
        "10/2/50"
      ],
      "execution_count": null,
      "outputs": [
        {
          "output_type": "execute_result",
          "data": {
            "text/plain": [
              "0.1"
            ]
          },
          "metadata": {
            "tags": []
          },
          "execution_count": 7
        }
      ]
    },
    {
      "cell_type": "markdown",
      "metadata": {
        "id": "UN7ycB1vo-BD",
        "colab_type": "text"
      },
      "source": [
        "mais cela est difficile à lire et pourrait facilement entraîner des erreurs dans un programme. Je recommande d'utiliser des parenthèses pour que l'ordre soit clair :"
      ]
    },
    {
      "cell_type": "code",
      "metadata": {
        "id": "xqYJ18IHo-BD",
        "colab_type": "code",
        "colab": {
          "base_uri": "https://localhost:8080/",
          "height": 34
        },
        "outputId": "5491cb43-8e3b-4d8c-daa4-bf37ed0b4b35"
      },
      "source": [
        "10/(2*50)"
      ],
      "execution_count": null,
      "outputs": [
        {
          "output_type": "execute_result",
          "data": {
            "text/plain": [
              "0.1"
            ]
          },
          "metadata": {
            "tags": []
          },
          "execution_count": 6
        }
      ]
    },
    {
      "cell_type": "markdown",
      "metadata": {
        "id": "lv5q1zAxo-BG",
        "colab_type": "text"
      },
      "source": [
        "Voici un exemple qui calcule $2^{3}  \\cdot 4 = 32$ ce qui est techniquement correct mais pas idéal en termes de lisibilité:"
      ]
    },
    {
      "cell_type": "code",
      "metadata": {
        "id": "mGfj58fTo-BH",
        "colab_type": "code",
        "colab": {
          "base_uri": "https://localhost:8080/",
          "height": 34
        },
        "outputId": "cd42d6bc-76c2-47af-eeeb-d48c24a80cea"
      },
      "source": [
        "2**3*4"
      ],
      "execution_count": null,
      "outputs": [
        {
          "output_type": "execute_result",
          "data": {
            "text/plain": [
              "32"
            ]
          },
          "metadata": {
            "tags": []
          },
          "execution_count": 8
        }
      ]
    },
    {
      "cell_type": "markdown",
      "metadata": {
        "id": "i00NoLQWo-BJ",
        "colab_type": "text"
      },
      "source": [
        "Il vaudrait mieux écrire :"
      ]
    },
    {
      "cell_type": "code",
      "metadata": {
        "id": "i1JD7WfUo-BK",
        "colab_type": "code",
        "colab": {
          "base_uri": "https://localhost:8080/",
          "height": 34
        },
        "outputId": "ec1e4d3a-429e-4278-9d2c-f38e1ea31edb"
      },
      "source": [
        "(2**3)*4"
      ],
      "execution_count": null,
      "outputs": [
        {
          "output_type": "execute_result",
          "data": {
            "text/plain": [
              "32"
            ]
          },
          "metadata": {
            "tags": []
          },
          "execution_count": 9
        }
      ]
    },
    {
      "cell_type": "markdown",
      "metadata": {
        "id": "sI7bSOz9o-BM",
        "colab_type": "text"
      },
      "source": [
        "# Variables et affectation\n",
        "\n",
        "Les extraits de code ci-dessus ont été utiles pour faire un peu d'arithmétique, mais nous pourrions facilement faire la même chose avec une calculatrice de poche. En outre, les extraits de code ne sont pas très utiles si nous voulons changer la valeur d'un des nombres dans une expression, et pas très utiles si nous voulons utiliser la valeur de l'expression dans un calcul ultérieur. Pour améliorer les choses, nous avons besoin d'une *assignation*.\n",
        "\n",
        "Lorsque nous calculons quelque chose, nous voulons généralement stocker le résultat afin de pouvoir l'utiliser dans des calculs ultérieurs. Les *variables* sont ce que nous utilisons pour stocker quelque chose, par exemple :"
      ]
    },
    {
      "cell_type": "code",
      "metadata": {
        "id": "ZtUv5bPHo-BM",
        "colab_type": "code",
        "colab": {
          "base_uri": "https://localhost:8080/",
          "height": 34
        },
        "outputId": "3818f929-0716-4cf8-eada-ac7df50a46fa"
      },
      "source": [
        "c = 10\n",
        "print(c)"
      ],
      "execution_count": null,
      "outputs": [
        {
          "output_type": "stream",
          "text": [
            "10\n"
          ],
          "name": "stdout"
        }
      ]
    },
    {
      "cell_type": "markdown",
      "metadata": {
        "id": "G95jvGelo-BP",
        "colab_type": "text"
      },
      "source": [
        "Au-dessus, la variable `c` est utilisée pour 'maintenir' la valeur `10`. La fonction `print` est utilisée pour imprimer la valeur d'une variable sur la sortie (plus de détails sur les fonctions plus tard).\n",
        "\n",
        "Disons que nous voulons calculer $c = a + b$, où $a = 2$ et $b = 11$ :"
      ]
    },
    {
      "cell_type": "code",
      "metadata": {
        "id": "iPxv0VWKo-BP",
        "colab_type": "code",
        "colab": {
          "base_uri": "https://localhost:8080/",
          "height": 34
        },
        "outputId": "88eb3322-29a8-4bba-ca88-09173a01c99c"
      },
      "source": [
        "a = 2\n",
        "b = 11\n",
        "c = a + b\n",
        "print(c)"
      ],
      "execution_count": null,
      "outputs": [
        {
          "output_type": "stream",
          "text": [
            "13\n"
          ],
          "name": "stdout"
        }
      ]
    },
    {
      "cell_type": "markdown",
      "metadata": {
        "id": "A6-Dvkgao-BS",
        "colab_type": "text"
      },
      "source": [
        "Ce qui se passe ci-dessus, c'est que l'expression à droite de l'opérateur d'affectation '`=`' est évaluée puis stockée comme la variable à gauche. Vous pouvez considérer la variable comme un \"handle\" pour une valeur.\n",
        "Si nous voulons changer la valeur de $a$ en $4$ et recalculer la somme, il suffit de remplacer `a = 2` par `a = 4` et d'exécuter le code (essayez vous-même en exécutant ce notebook de façon interactive).\n",
        "\n",
        "Ce qui précède ressemble beaucoup à de l'algèbre standard. Il y a cependant quelques différences subtiles. Prenez par exemple :"
      ]
    },
    {
      "cell_type": "code",
      "metadata": {
        "id": "hyQ-WKMFo-BS",
        "colab_type": "code",
        "colab": {
          "base_uri": "https://localhost:8080/",
          "height": 34
        },
        "outputId": "707d6e4b-6b74-4a6e-ca10-804894008145"
      },
      "source": [
        "a = 2\n",
        "b = 11\n",
        "a = a + b\n",
        "print(a)"
      ],
      "execution_count": null,
      "outputs": [
        {
          "output_type": "stream",
          "text": [
            "13\n"
          ],
          "name": "stdout"
        }
      ]
    },
    {
      "cell_type": "markdown",
      "metadata": {
        "id": "PJIhYxklo-BV",
        "colab_type": "text"
      },
      "source": [
        "Ce n'est pas une affirmation algébrique valable puisque \"`a`\" apparaît des deux côtés de \"`=`\", mais c'est une affirmation très courante dans un programme informatique. Ce qui se passe, c'est que l'expression de droite est évaluée (les valeurs attribuées à `a` et `b` sont additionnées), et le résultat est attribué à la gauche (à la variable `a`). Il existe une notation mathématique pour ce type d'affectation :\n",
        "\n",
        "$$\n",
        "a \\leftarrow a +b \n",
        "$$\n",
        "\n",
        "qui veut dire \"somme de $a$ et $b$, et affecté dans \"$a$\". Vous verrez cette notation dans certains livres sur les *algorithmes*."
      ]
    },
    {
      "cell_type": "markdown",
      "metadata": {
        "id": "ClqgzQxbo-BW",
        "colab_type": "text"
      },
      "source": [
        "## Raccourcis\n",
        "\n",
        "L'ajout ou la soustraction de variables est une opération si courante que la plupart des langues proposent des raccourcis. Pour l'ajout :"
      ]
    },
    {
      "cell_type": "code",
      "metadata": {
        "id": "014xiBWPo-BW",
        "colab_type": "code",
        "colab": {
          "base_uri": "https://localhost:8080/",
          "height": 50
        },
        "outputId": "dfe7df02-d9c9-4494-d8fb-2027e2670114"
      },
      "source": [
        "# Long-hand addition\n",
        "a = 1\n",
        "a = a + 4\n",
        "print(a)\n",
        "\n",
        "# Short-hand addition\n",
        "a = 1\n",
        "a += 4\n",
        "print(a)"
      ],
      "execution_count": null,
      "outputs": [
        {
          "output_type": "stream",
          "text": [
            "5\n",
            "5\n"
          ],
          "name": "stdout"
        }
      ]
    },
    {
      "cell_type": "markdown",
      "metadata": {
        "id": "8EJ3q68ro-BY",
        "colab_type": "text"
      },
      "source": [
        "> Dans Python, tout texte qui suit le symbole dièse (`#`) est un \"commentaire\". Les commentaires ne sont pas exécutés par le programme ; \n",
        "> ils nous aident à documenter et à expliquer ce que font nos programmes. Utilisez beaucoup de commentaires dans vos programmes.\n",
        "\n",
        "Pour la soustraction :"
      ]
    },
    {
      "cell_type": "code",
      "metadata": {
        "id": "IuI1B7Pfo-BY",
        "colab_type": "code",
        "colab": {}
      },
      "source": [
        "# Long-hand subtraction\n",
        "a = 1\n",
        "b = 4\n",
        "a = a - b\n",
        "print(a)\n",
        "\n",
        "# Short-hand subtraction\n",
        "a = 1\n",
        "b = 4\n",
        "a -= b\n",
        "print(a)"
      ],
      "execution_count": null,
      "outputs": []
    },
    {
      "cell_type": "markdown",
      "metadata": {
        "id": "GLKYOE-Zo-Ba",
        "colab_type": "text"
      },
      "source": [
        "Il existe des opérateurs d'assignation analogues pour la multiplication et la division :"
      ]
    },
    {
      "cell_type": "code",
      "metadata": {
        "id": "SIZUp3O4o-Bb",
        "colab_type": "code",
        "colab": {}
      },
      "source": [
        "# Long-hand multiplication\n",
        "a = 10\n",
        "c = 2\n",
        "a = c*a\n",
        "print(a)\n",
        "\n",
        "# Short-hand multiplication\n",
        "a = 10\n",
        "c = 2\n",
        "a *= c\n",
        "print(a)\n",
        "\n",
        "# Long-hand division\n",
        "a = 1\n",
        "a = a/4\n",
        "print(a)\n",
        "\n",
        "# Short-hand division\n",
        "a = 1\n",
        "a /= 4\n",
        "print(a)"
      ],
      "execution_count": null,
      "outputs": []
    },
    {
      "cell_type": "markdown",
      "metadata": {
        "id": "vRDIiTm2o-Bd",
        "colab_type": "text"
      },
      "source": [
        "## Nommer les variables\n",
        "\n",
        "Il est souvent conseillé d'utiliser des noms de variables significatifs dans un programme informatique. Si vous utilisez \"`x`\" pour le temps et \"`t`\" pour la position, vous ou quelqu'un d'autre fera certainement des erreurs à un moment donné.\n",
        "Si vous n'utilisez pas des noms de variables bien réfléchis :\n",
        "\n",
        "1. Vous êtes beaucoup plus susceptible de faire des erreurs.\n",
        "2. Lorsque vous reviendrez à votre programme après un certain temps, vous aurez du mal à vous rappeler et à comprendre \n",
        "   ce que fait le programme.\n",
        "3. Il sera difficile pour les autres de comprendre votre programme - une programmation sérieuse est presque toujours un travail d'équipe.\n",
        "\n",
        "Les langages ont des règles concernant les caractères qui peuvent être utilisés dans les noms de variables. A titre indicatif, en Python, les noms de variables peuvent utiliser des lettres et des chiffres, mais ne peuvent pas commencer par un chiffre.\n",
        "\n",
        "Parfois, pour des raisons de lisibilité, il est utile d'avoir des noms de variables composés de deux mots. Une convention est\n",
        "pour séparer les mots dans le nom de la variable en utilisant un trait de soulignement \"`_`\". Par exemple, un bon nom de variable pour stocker le nombre de jours serait \n",
        "```python\n",
        "num_days = 10\n",
        "```\n",
        "Python est un langage sensible à la typographique, par exemple les variables \"A\" et \"a\" sont différentes. Certains langages, tels que\n",
        "Fortran, sont insensibles à la typographie.\n",
        "\n",
        "Les langues ont réservé des mots clés qui ne peuvent pas être utilisés comme noms de variables car ils sont utilisés à d'autres fins. Les mots-clés réservés en Python sont :"
      ]
    },
    {
      "cell_type": "code",
      "metadata": {
        "id": "jVg-CbjOo-Bd",
        "colab_type": "code",
        "colab": {
          "base_uri": "https://localhost:8080/",
          "height": 54
        },
        "outputId": "961de306-8cc2-4795-ea99-db59c1f89ee8"
      },
      "source": [
        "import keyword\n",
        "print(keyword.kwlist)"
      ],
      "execution_count": null,
      "outputs": [
        {
          "output_type": "stream",
          "text": [
            "['False', 'None', 'True', 'and', 'as', 'assert', 'break', 'class', 'continue', 'def', 'del', 'elif', 'else', 'except', 'finally', 'for', 'from', 'global', 'if', 'import', 'in', 'is', 'lambda', 'nonlocal', 'not', 'or', 'pass', 'raise', 'return', 'try', 'while', 'with', 'yield']\n"
          ],
          "name": "stdout"
        }
      ]
    },
    {
      "cell_type": "markdown",
      "metadata": {
        "id": "OOKduuJZo-Bf",
        "colab_type": "text"
      },
      "source": [
        "Si vous essayez d'attribuer quelque chose à un mot-clé réservé, vous obtiendrez une erreur.\n",
        "\n",
        "Python 3 supporte Unicode, qui vous permet d'utiliser un très large éventail de symboles, y compris les caractères grecs :"
      ]
    },
    {
      "cell_type": "code",
      "metadata": {
        "id": "fKB-BrSZo-Bg",
        "colab_type": "code",
        "colab": {
          "base_uri": "https://localhost:8080/",
          "height": 34
        },
        "outputId": "5aecb9cb-9d08-4d8c-ba92-3d58e5e15b28"
      },
      "source": [
        "θ = 10\n",
        "α = 12\n",
        "β = θ + α\n",
        "print(β)\n"
      ],
      "execution_count": null,
      "outputs": [
        {
          "output_type": "stream",
          "text": [
            "22\n"
          ],
          "name": "stdout"
        }
      ]
    },
    {
      "cell_type": "markdown",
      "metadata": {
        "id": "LGYQA_s6o-Bj",
        "colab_type": "text"
      },
      "source": [
        "Les symboles grecs et autres symboles peuvent être saisis dans un notebook Jupyter en tapant la commande LaTeX pour le symbole et en appuyant ensuite sur la touche \"tab\", par exemple \"`\\theta`\" Code intégré\" suivi de la touche `tab`."
      ]
    },
    {
      "cell_type": "markdown",
      "metadata": {
        "id": "99yo28Gdo-Bj",
        "colab_type": "text"
      },
      "source": [
        "# Exercises\n",
        "\n",
        "Complete now the [01 Exercises](Exercises/01%20Exercises.ipynb) notebook."
      ]
    }
  ]
}